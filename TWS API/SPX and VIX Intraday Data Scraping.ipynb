{
 "cells": [
  {
   "cell_type": "code",
   "execution_count": null,
   "metadata": {
    "collapsed": true
   },
   "outputs": [],
   "source": [
    "import warnings\n",
    "warnings.filterwarnings('ignore')\n",
    "import os\n",
    "\n",
    "import tws_data \n",
    "import statsmodels.tsa.stattools as ts\n",
    "import statsmodels.api as sm\n",
    "from ib_insync import *\n",
    "import numpy as np\n",
    "import time\n",
    "import pandas as pd\n",
    "import datetime as dt\n",
    "pd.options.display.float_format = '{:,.4f}'.format\n",
    "%matplotlib inline\n",
    "from scipy.stats import norm as norm\n",
    "import matplotlib.pyplot as plt\n",
    "import requests as req\n",
    "from bs4 import BeautifulSoup as bs\n",
    "import math\n",
    "\n",
    "#from sqlalchemy import *\n",
    "from sqlalchemy import create_engine\n",
    "\n",
    "def time_block_strtoactual(i):\n",
    "    curr_time_block = dt.datetime.today().replace(hour = 9, minute = 30, second = 0, microsecond = 0) + dt.timedelta(minutes = 30*(i-1))\n",
    "    return curr_time_block.strftime(\"%H:%M\")\n",
    "\n",
    "os.chdir('D:\\Price Data\\SPX and VIX Intraday TWS')\n",
    "\n",
    "ib_index_engine = create_engine('sqlite:///ib_index_intraday.db', echo = False)"
   ]
  },
  {
   "cell_type": "code",
   "execution_count": null,
   "metadata": {
    "collapsed": true
   },
   "outputs": [],
   "source": [
    "current_end_date = dt.datetime(2013,1,31)\n",
    "\n",
    "end_date = '{} 13:00:00 PST'.format(current_end_date.strftime('%Y%m%d'))\n",
    "end_date"
   ]
  },
  {
   "cell_type": "code",
   "execution_count": null,
   "metadata": {
    "collapsed": true,
    "scrolled": true
   },
   "outputs": [],
   "source": [
    "vix_bars = range(2)\n",
    "\n",
    "while len(vix_bars) > 0:\n",
    "    \n",
    "    client_id = 19\n",
    "\n",
    "    ib = IB()\n",
    "    ib.connect('127.0.0.1', 7496, clientId=client_id)\n",
    "\n",
    "    spx = Index('SPX', 'CBOE')\n",
    "    vix = Index('VIX', 'CBOE')\n",
    "    \n",
    "    ib.qualifyContracts(spx)\n",
    "    ib.qualifyContracts(vix)\n",
    "    \n",
    "    ib.reqHeadTimeStamp(spx, whatToShow='TRADES', useRTH=True)\n",
    "    ib.reqHeadTimeStamp(vix, whatToShow='TRADES', useRTH=True)\n",
    "\n",
    "    duration = '10 D'\n",
    "\n",
    "    spx_bars = ib.reqHistoricalData(\n",
    "            spx,\n",
    "            endDateTime=end_date,\n",
    "            durationStr=duration,\n",
    "            barSizeSetting='1 min',\n",
    "            whatToShow='TRADES',\n",
    "            useRTH=True,\n",
    "            formatDate=1)\n",
    "\n",
    "    vix_bars = ib.reqHistoricalData(\n",
    "            vix,\n",
    "            endDateTime=end_date,\n",
    "            durationStr=duration,\n",
    "            barSizeSetting='1 min',\n",
    "            whatToShow='TRADES',\n",
    "            useRTH=True,\n",
    "            formatDate=1)\n",
    "\n",
    "    if len(vix_bars) > 0:\n",
    "        spx_df = util.df(spx_bars).set_index('date')\n",
    "        spx_df.index = pd.to_datetime(spx_df.index)\n",
    "\n",
    "        vix_df = util.df(vix_bars).set_index('date')\n",
    "        vix_df.index = pd.to_datetime(vix_df.index)\n",
    "\n",
    "        curr_df = spx_df.join(vix_df, lsuffix = '_spx', rsuffix = '_vix').dropna()\n",
    "\n",
    "        ib.disconnect()\n",
    "        curr_df.to_sql('indexIntraday', con=ib_index_engine, if_exists='append')\n",
    "        current_end_date = curr_df.index[0] - dt.timedelta(days = 1)\n",
    "        end_date = '{} 13:00:00 PST'.format(current_end_date.strftime('%Y%m%d'))\n",
    "        print(end_date)\n",
    "    else:\n",
    "        ib.disconnect()\n",
    "        break\n",
    "    \n",
    "    time.sleep(90)\n"
   ]
  },
  {
   "cell_type": "code",
   "execution_count": null,
   "metadata": {
    "collapsed": true
   },
   "outputs": [],
   "source": []
  },
  {
   "cell_type": "code",
   "execution_count": null,
   "metadata": {
    "collapsed": true,
    "scrolled": true
   },
   "outputs": [],
   "source": []
  },
  {
   "cell_type": "code",
   "execution_count": null,
   "metadata": {
    "collapsed": true
   },
   "outputs": [],
   "source": []
  },
  {
   "cell_type": "code",
   "execution_count": null,
   "metadata": {
    "collapsed": true
   },
   "outputs": [],
   "source": []
  },
  {
   "cell_type": "code",
   "execution_count": null,
   "metadata": {
    "collapsed": true
   },
   "outputs": [],
   "source": []
  }
 ],
 "metadata": {
  "kernelspec": {
   "display_name": "Python 3",
   "language": "python",
   "name": "python3"
  },
  "language_info": {
   "codemirror_mode": {
    "name": "ipython",
    "version": 3
   },
   "file_extension": ".py",
   "mimetype": "text/x-python",
   "name": "python",
   "nbconvert_exporter": "python",
   "pygments_lexer": "ipython3",
   "version": "3.6.8"
  }
 },
 "nbformat": 4,
 "nbformat_minor": 2
}
