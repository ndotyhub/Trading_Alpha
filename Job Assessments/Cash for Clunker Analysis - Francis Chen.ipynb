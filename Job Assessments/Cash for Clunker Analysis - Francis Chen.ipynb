{
 "cells": [
  {
   "cell_type": "markdown",
   "metadata": {},
   "source": [
    "<h1><center>Edmunds - Analytics & Data Science Case Study</center></h1>\n",
    "<h2><center>Cash for Clunker Analysis</center></h2>\n",
    "<h3><center>Senior Data Analyst Application</center></h3>\n",
    "<h3><center>Francis Chen</center></h3>"
   ]
  },
  {
   "cell_type": "code",
   "execution_count": 1,
   "metadata": {},
   "outputs": [
    {
     "data": {
      "text/html": [
       "\n",
       "<style>\n",
       "    div#notebook-container    { width: 63%; }\n",
       "    div#menubar-container     { width: 65%; }\n",
       "    div#maintoolbar-container { width: 99%; }\n",
       "</style>\n"
      ],
      "text/plain": [
       "<IPython.core.display.HTML object>"
      ]
     },
     "metadata": {},
     "output_type": "display_data"
    },
    {
     "data": {
      "text/html": [
       "<script>\n",
       "code_show=true; \n",
       "function code_toggle() {\n",
       " if (code_show){\n",
       " $('div.input').hide();\n",
       " } else {\n",
       " $('div.input').show();\n",
       " }\n",
       " code_show = !code_show\n",
       "} \n",
       "$( document ).ready(code_toggle);\n",
       "</script>\n",
       "<form action=\"javascript:code_toggle()\"><input type=\"submit\" value=\"Click here to toggle on/off the raw code.\"></form>"
      ],
      "text/plain": [
       "<IPython.core.display.HTML object>"
      ]
     },
     "execution_count": 1,
     "metadata": {},
     "output_type": "execute_result"
    }
   ],
   "source": [
    "from IPython.display import HTML, display\n",
    "\n",
    "display(HTML(data=\"\"\"\n",
    "<style>\n",
    "    div#notebook-container    { width: 63%; }\n",
    "    div#menubar-container     { width: 65%; }\n",
    "    div#maintoolbar-container { width: 99%; }\n",
    "</style>\n",
    "\"\"\"))\n",
    "\n",
    "HTML('''<script>\n",
    "code_show=true; \n",
    "function code_toggle() {\n",
    " if (code_show){\n",
    " $('div.input').hide();\n",
    " } else {\n",
    " $('div.input').show();\n",
    " }\n",
    " code_show = !code_show\n",
    "} \n",
    "$( document ).ready(code_toggle);\n",
    "</script>\n",
    "<form action=\"javascript:code_toggle()\"><input type=\"submit\" value=\"Click here to toggle on/off the raw code.\"></form>''')"
   ]
  },
  {
   "cell_type": "markdown",
   "metadata": {},
   "source": [
    "## Part 0. Data Cleaning\n",
    "- Raw original data did not contain information on vehicle class\n",
    "    - Vehicle category was not not sufficiently granular\n",
    "    - Required joining data from https://www.fueleconomy.gov/feg/ws/index.shtml\n",
    "- CARS_PAID_FINAL data was joined by:\n",
    "    - Parsing trade_in_vehicle_drive_train and new_vehicle_drive_train to obtain engine cylinders and displacement information\n",
    "    - Vehicle class data from fueleconomy website was then joined to CARS_PAID_FINAL data on make, model, cylinders, and displacement"
   ]
  },
  {
   "cell_type": "code",
   "execution_count": 2,
   "metadata": {},
   "outputs": [
    {
     "data": {
      "text/html": [
       "        <script type=\"text/javascript\">\n",
       "        window.PlotlyConfig = {MathJaxConfig: 'local'};\n",
       "        if (window.MathJax) {MathJax.Hub.Config({SVG: {font: \"STIX-Web\"}});}\n",
       "        if (typeof require !== 'undefined') {\n",
       "        require.undef(\"plotly\");\n",
       "        requirejs.config({\n",
       "            paths: {\n",
       "                'plotly': ['https://cdn.plot.ly/plotly-latest.min']\n",
       "            }\n",
       "        });\n",
       "        require(['plotly'], function(Plotly) {\n",
       "            window._Plotly = Plotly;\n",
       "        });\n",
       "        }\n",
       "        </script>\n",
       "        "
      ]
     },
     "metadata": {},
     "output_type": "display_data"
    }
   ],
   "source": [
    "import warnings\n",
    "warnings.filterwarnings('ignore')\n",
    "\n",
    "import pandas as pd\n",
    "import numpy as np\n",
    "import datetime as dt\n",
    "from plotly.offline import download_plotlyjs, init_notebook_mode, plot, iplot\n",
    "import plotly.graph_objs as go\n",
    "init_notebook_mode(connected=True)\n",
    "pd.options.display.float_format = '{:,.4f}'.format\n",
    "import difflib"
   ]
  },
  {
   "cell_type": "code",
   "execution_count": null,
   "metadata": {
    "collapsed": true
   },
   "outputs": [],
   "source": [
    "# Data Cleaning and Joining on external database for Vehicle class information\n",
    "\n",
    "data = pd.read_csv('CARS_PAID_Final.txt', encoding='latin-1',\n",
    "                   parse_dates = ['invoice_date','sale_date','trade_in_registration_start','trade_in_registration_end'],\n",
    "                   infer_datetime_format = True,\n",
    "                   dtype = {'ZIP': str})\n",
    "\n",
    "# https://www.fueleconomy.gov/feg/ws/index.shtml\n",
    "vehicles = pd.read_csv('vehicles - original.csv')[['cylinders','displ', 'drive', 'fuelType',\n",
    "                                                   'make', 'model', 'trany', 'VClass']].drop_duplicates().reset_index(drop = True)\n",
    "vehicles.model = vehicles.model.str.lower()\n",
    "\n",
    "def to_float(x):\n",
    "    try:\n",
    "        return float(x)\n",
    "    except:\n",
    "        return np.nan\n",
    "    \n",
    "def to_adate(year):\n",
    "    return dt.datetime(year,1,1)\n",
    "\n",
    "# Creating index key to map to vclass for each trade in and new vehicle\n",
    "trade_ins = data[['trade_in_make',\n",
    "                  'trade_in_model',\n",
    "                  'trade_in_vehicle_drive_train']].drop_duplicates().sort_values(['trade_in_make','trade_in_model']).reset_index(drop = True)\n",
    "trade_ins = trade_ins.join(trade_ins['trade_in_vehicle_drive_train'].str.split(\",\", expand = True))\n",
    "trade_ins.columns = ['make','model','descr','displ','cylinders','trany','drive','eng_dscr','fuelType','other']\n",
    "trade_ins.displ = trade_ins['displ'].str.replace('L',\"\").apply(lambda x: to_float(x))\n",
    "trade_ins.cylinders = trade_ins['cylinders'].str.replace(' cyl',\"\").apply(lambda x: to_float(x))\n",
    "trade_ins.model = trade_ins.model.str.lower()\n",
    "\n",
    "new_vehicles = data[['new_vehicle_make',\n",
    "                     'new_vehicle_model',\n",
    "                     'new_vehicle_drive_train']].drop_duplicates().sort_values(['new_vehicle_make','new_vehicle_model']).reset_index(drop = True)\n",
    "new_vehicles = new_vehicles.join(new_vehicles['new_vehicle_drive_train'].str.split(\",\", expand = True))\n",
    "new_vehicles.columns = ['make','model','descr','displ','cylinders','trany','drive','eng_dscr','fuelType','other']\n",
    "new_vehicles.displ = new_vehicles['displ'].str.replace('L',\"\").apply(lambda x: to_float(x))\n",
    "new_vehicles.cylinders = new_vehicles['cylinders'].str.replace(' cyl',\"\").apply(lambda x: to_float(x))\n",
    "new_vehicles.model = new_vehicles.model.str.lower()\n",
    "\n",
    "data_keys = pd.concat([trade_ins, new_vehicles], axis = 0).drop_duplicates().reset_index(drop = True)\n",
    "data_keys = data_keys.merge(vehicles[['make', 'model', 'cylinders','displ','VClass']].drop_duplicates(), how = 'left',\n",
    "                            on = ['make', 'model', 'cylinders','displ'])\n",
    "\n",
    "# Cleaning data that did not join properly\n",
    "data_keys_correct = data_keys[(data_keys.model == 'unlisted') |\n",
    "                              (data_keys.VClass.isnull() == False)].reset_index(drop = True)\n",
    "data_keys_incorrect = data_keys[(data_keys.model != 'unlisted') &\n",
    "                                (data_keys.VClass.isnull())].reset_index(drop = True)\n",
    "\n",
    "for idx, row in data_keys_incorrect.iterrows():\n",
    "    temp_vehicles = vehicles[(vehicles.make == row.make)]\n",
    "    \n",
    "    if len(temp_vehicles) == 0 and 'sterling' in row.model:\n",
    "        temp_vehicles = vehicles[(vehicles.make.str.lower() == 'sterling')]\n",
    "        data_keys_incorrect.loc[idx, 'VClass'] = temp_vehicles[['VClass']].drop_duplicates().reset_index(drop = True).iloc[0,0]\n",
    "    elif 'Austin Rover' != row.make:\n",
    "        quick_check = temp_vehicles[['make','model','VClass']].drop_duplicates().reset_index(drop = True)\n",
    "        temp_join = quick_check.merge(pd.DataFrame(row).T[['make','model']], on = ['make','model'])\n",
    "        \n",
    "        if len(temp_join) == 1:\n",
    "            temp_join = quick_check.merge(pd.DataFrame(row).T[['make','model']], on = ['make','model'])\n",
    "            data_keys_incorrect.loc[idx, 'VClass'] = temp_join.iloc[0, 2]\n",
    "        elif row.model == 'apv 2wd':\n",
    "            data_keys_incorrect.loc[idx, 'VClass'] = 'Van'\n",
    "            data_keys_incorrect.loc[idx, 'make'] = 'Suzuki'\n",
    "        else:\n",
    "            fuzzy_match = vehicles[vehicles.model == difflib.get_close_matches(row.model, vehicles['model'].drop_duplicates())[0]]\n",
    "            fuzzy_match = fuzzy_match[['make','model','VClass']].drop_duplicates().reset_index(drop = True)\n",
    "            \n",
    "            data_keys_incorrect.loc[idx, 'VClass'] = fuzzy_match.loc[0, 'VClass']\n",
    "            data_keys_incorrect.loc[idx, 'make'] = fuzzy_match.loc[0, 'make']\n",
    "\n",
    "# Final keys for joining data\n",
    "class_keys = pd.concat([data_keys_correct, data_keys_incorrect], axis = 0).reset_index(drop = True)\n",
    "class_keys.make = class_keys.make.str.lower()\n",
    "\n",
    "trade_in_keys = class_keys.rename(columns = {'make': 'trade_in_make',\n",
    "                                   'model': 'trade_in_model',\n",
    "                                   'cylinders': 'trade_in_cylinders',\n",
    "                                   'trany': 'trade_in_transmission',\n",
    "                                   'displ': 'trade_in_displacement',\n",
    "                                   'drive': 'trade_in_drive',\n",
    "                                   'descr': 'trade_in_vehicle_drive_train'})\n",
    "\n",
    "new_vehi_keys = class_keys.rename(columns = {'make': 'new_vehicle_make',\n",
    "                                   'model': 'new_vehicle_model',\n",
    "                                   'cylinders': 'new_cylinders',\n",
    "                                   'trany': 'new_transmission',\n",
    "                                   'displ': 'new_displacement',\n",
    "                                   'drive': 'new_drive',\n",
    "                                   'descr': 'new_vehicle_drive_train'})\n",
    "\n",
    "data.trade_in_make = data.trade_in_make.str.lower()\n",
    "data.new_vehicle_make = data.new_vehicle_make.str.lower()\n",
    "data.trade_in_model = data.trade_in_model.str.lower()\n",
    "data.new_vehicle_model = data.new_vehicle_model.str.lower()\n",
    "\n",
    "# Mapping initial data to vclass and also additional information\n",
    "trade_in_join = data[['trade_in_make',\n",
    "                      'trade_in_model',\n",
    "                      'trade_in_vehicle_drive_train']].merge(trade_in_keys.drop_duplicates(['trade_in_make',\n",
    "                                                                            'trade_in_model',\n",
    "                                                                            'trade_in_vehicle_drive_train']), \n",
    "                                             how = 'left',\n",
    "                                             on = ['trade_in_make',\n",
    "                                                   'trade_in_model',\n",
    "                                                   'trade_in_vehicle_drive_train']).rename(columns = {'VClass':'trade_in_vclass'})\n",
    "\n",
    "new_vehicle_join = data[['new_vehicle_make',\n",
    "                      'new_vehicle_model',\n",
    "                      'new_vehicle_drive_train']].merge(new_vehi_keys.drop_duplicates(['new_vehicle_make',\n",
    "                                                                            'new_vehicle_model',\n",
    "                                                                            'new_vehicle_drive_train']), \n",
    "                                             how = 'left',\n",
    "                                             on = ['new_vehicle_make',\n",
    "                                                   'new_vehicle_model',\n",
    "                                                   'new_vehicle_drive_train']).rename(columns = {'VClass':'new_vehicle_vclass'})\n",
    "\n",
    "\n",
    "new_data = data.join(trade_in_join[['trade_in_cylinders',\n",
    "                                    'trade_in_transmission',\n",
    "                                    'trade_in_displacement',\n",
    "                                    'trade_in_drive',\n",
    "                                    'trade_in_vclass']], how = 'left')\n",
    "\n",
    "new_data = new_data.join(new_vehicle_join[['new_cylinders',\n",
    "                                    'new_transmission',\n",
    "                                    'new_displacement',\n",
    "                                    'new_drive',\n",
    "                                    'new_vehicle_vclass']], how = 'left')\n",
    "\n",
    "# Filtering only relevant columns\n",
    "new_data = new_data[['vendor_id', 'dealer_name', 'address_line1',\n",
    "                     'city', 'state', 'ZIP', 'invoice_id', \n",
    "                     'invoice_date', 'sale_date',\n",
    "                     'disposal_status', 'disposal_facility_nmvtis_id',\n",
    "                     'disposal_facility_contact_info', 'sales_type', 'invoice_amount',\n",
    "                     'trade_in_vehicle_category', 'trade_in_make',\n",
    "                     'trade_in_model', 'trade_in_year', 'trade_in_vehicle_drive_train',\n",
    "                     'trade_in_mileage', 'trade_in_title_state',\n",
    "                     'trade_in_registration_state', 'trade_in_registration_start',\n",
    "                     'trade_in_registration_end',\n",
    "                     'trade_in_NMVTIS_flag', 'trade_in_odometer_reading',\n",
    "                     'new_vehicle_category', 'new_vehicle_make',\n",
    "                     'new_vehicle_model', 'new_vehicle_year', 'new_vehicle_drive_train',\n",
    "                     'new_vehicle_car_mileage', 'new_vehicle_MSRP', 'trade_in_vclass',\n",
    "                     'new_vehicle_vclass','trade_in_displacement', 'trade_in_cylinders', \n",
    "                     'trade_in_transmission','trade_in_drive','new_displacement',\n",
    "                     'new_cylinders','new_transmission', 'new_drive']]\n",
    "\n",
    "new_data.trade_in_year = new_data.trade_in_year.apply(lambda x: to_adate(x))\n",
    "new_data['trade_in_years_driven'] = (new_data[['invoice_date','sale_date']].max(axis = 1) - new_data.trade_in_year).dt.days/365.25\n",
    "new_data['avg_annual_miles_driven'] = new_data.trade_in_odometer_reading/new_data.trade_in_years_driven\n",
    "new_data['trade_in_annual_fuel_gallons'] = new_data.avg_annual_miles_driven/new_data.trade_in_mileage\n",
    "new_data['new_vehicle_annual_fuel_gallons'] = new_data.avg_annual_miles_driven/new_data.new_vehicle_car_mileage\n",
    "# new_data.to_csv('cars_data.csv')"
   ]
  },
  {
   "cell_type": "markdown",
   "metadata": {},
   "source": [
    "## Part 1. Success Metrics\n",
    "\n",
    "- Two KPIs were created: <br>\n",
    "    1. Fuel economy improvement from trade-in vehicle to new vehicle in percent and averaged for each State\n",
    "    2. Expected annual reduction in fuel consumption in percent for each State and calculated from aggregating individual expected annual fuel consumption for trade-in and new vehicles."
   ]
  },
  {
   "cell_type": "code",
   "execution_count": 3,
   "metadata": {},
   "outputs": [
    {
     "data": {
      "text/html": [
       "<div class='tableauPlaceholder' id='viz1563379794173' style='position: relative'><noscript><a href='#'><img alt=' ' src='https:&#47;&#47;public.tableau.com&#47;static&#47;images&#47;TX&#47;TXYQ8MRF8&#47;1_rss.png' style='border: none' /></a></noscript><object class='tableauViz'  style='display:none;'><param name='host_url' value='https%3A%2F%2Fpublic.tableau.com%2F' /> <param name='embed_code_version' value='3' /> <param name='path' value='shared&#47;TXYQ8MRF8' /> <param name='toolbar' value='yes' /><param name='static_image' value='https:&#47;&#47;public.tableau.com&#47;static&#47;images&#47;TX&#47;TXYQ8MRF8&#47;1.png' /> <param name='animate_transition' value='yes' /><param name='display_static_image' value='yes' /><param name='display_spinner' value='yes' /><param name='display_overlay' value='yes' /><param name='display_count' value='yes' /></object></div>                <script type='text/javascript'>                    var divElement = document.getElementById('viz1563379794173');                    var vizElement = divElement.getElementsByTagName('object')[0];                    vizElement.style.width='1020px';vizElement.style.height='887px';                    var scriptElement = document.createElement('script');                    scriptElement.src = 'https://public.tableau.com/javascripts/api/viz_v1.js';                    vizElement.parentNode.insertBefore(scriptElement, vizElement);                </script>"
      ],
      "text/plain": [
       "<IPython.core.display.HTML object>"
      ]
     },
     "metadata": {},
     "output_type": "display_data"
    }
   ],
   "source": [
    "%%HTML\n",
    "<div class='tableauPlaceholder' id='viz1563379794173' style='position: relative'><noscript><a href='#'><img alt=' ' src='https:&#47;&#47;public.tableau.com&#47;static&#47;images&#47;TX&#47;TXYQ8MRF8&#47;1_rss.png' style='border: none' /></a></noscript><object class='tableauViz'  style='display:none;'><param name='host_url' value='https%3A%2F%2Fpublic.tableau.com%2F' /> <param name='embed_code_version' value='3' /> <param name='path' value='shared&#47;TXYQ8MRF8' /> <param name='toolbar' value='yes' /><param name='static_image' value='https:&#47;&#47;public.tableau.com&#47;static&#47;images&#47;TX&#47;TXYQ8MRF8&#47;1.png' /> <param name='animate_transition' value='yes' /><param name='display_static_image' value='yes' /><param name='display_spinner' value='yes' /><param name='display_overlay' value='yes' /><param name='display_count' value='yes' /></object></div>                <script type='text/javascript'>                    var divElement = document.getElementById('viz1563379794173');                    var vizElement = divElement.getElementsByTagName('object')[0];                    vizElement.style.width='1020px';vizElement.style.height='887px';                    var scriptElement = document.createElement('script');                    scriptElement.src = 'https://public.tableau.com/javascripts/api/viz_v1.js';                    vizElement.parentNode.insertBefore(scriptElement, vizElement);                </script>"
   ]
  },
  {
   "cell_type": "markdown",
   "metadata": {},
   "source": [
    "Note that the different aggregations for the KPIs mean different weighting implications for each individual <br>\n",
    "- Average fuel economy improvement for each state is equivalent to assuming every car drives the same distance\n",
    "- Annual expected reduction in fuel consumption is equivalent to assigning different individual weights for every car based on their average annual mileage, i.e., the fuel economies of frequently used cars will have higher weights and vice versa.\n",
    "\n",
    "For example, this can be noticed at the country-wide level where Average Fuel Economy Improvement was 59.07%. \n",
    "- If every car drove the same distance, then Expected Annual Fuel Reduction would be equal to $1-\\frac{1}{1.5907}=0.3713$ or 37.13%.\n",
    "- However, since we see that the country-wide Expected Annual Fuel Reduction is actually 34.46%, or around 3% lower, this implies that below average fuel economy vehicles are driven more."
   ]
  },
  {
   "cell_type": "markdown",
   "metadata": {},
   "source": [
    "## Part 2. Behavioral Analysis"
   ]
  },
  {
   "cell_type": "code",
   "execution_count": 5,
   "metadata": {
    "collapsed": true
   },
   "outputs": [],
   "source": [
    "new_data = pd.read_csv('cars_data.csv', encoding='latin-1')\n",
    "\n",
    "cluster_fields = ['state', 'sales_type', 'trade_in_make', 'trade_in_model',\n",
    "                  'trade_in_mileage', 'trade_in_odometer_reading',\n",
    "                  'new_vehicle_make', 'new_vehicle_model', 'new_vehicle_car_mileage',\n",
    "                  'new_vehicle_MSRP', 'trade_in_vclass', 'trade_in_transmission',\n",
    "                  'trade_in_drive', 'new_displacement', 'new_cylinders', 'new_transmission',\n",
    "                  'trade_in_cylinders', 'new_drive', 'trade_in_years_driven',\n",
    "                  'avg_annual_miles_driven', 'trade_in_annual_fuel_gallons',\n",
    "                  'new_vehicle_annual_fuel_gallons', 'new_vehicle_vclass']\n",
    "\n",
    "cluster_data = new_data[cluster_fields].drop_duplicates().reset_index(drop = True)\n",
    "\n",
    "vclass_dict = {'Compact Cars': 'Compact',\n",
    "               'Minicompact Cars': 'Compact',\n",
    "               'Subcompact Cars': 'Compact',\n",
    "               'Large Cars': 'Large',\n",
    "               'Midsize Cars': 'Midsize',\n",
    "               'Midsize Station Wagons': 'St. Wagons',\n",
    "               'Midsize-Large Station Wagons': 'St. Wagons',\n",
    "               'Small Station Wagons': 'St. Wagons',\n",
    "               'Minivan - 2WD': 'Minivans',\n",
    "               'Minivan - 4WD': 'Minivans',\n",
    "               'Small Pickup Trucks': 'Pickup',\n",
    "               'Small Pickup Trucks 2WD': 'Pickup',\n",
    "               'Small Pickup Trucks 4WD': 'Pickup',\n",
    "               'Standard Pickup Trucks': 'Pickup',\n",
    "               'Standard Pickup Trucks 2WD': 'Pickup',\n",
    "               'Standard Pickup Trucks 4WD': 'Pickup',\n",
    "               'Special Purpose Vehicle 2WD': 'Special Purpose',\n",
    "               'Special Purpose Vehicle 4WD': 'Special Purpose',\n",
    "               'Special Purpose Vehicles': 'Special Purpose',\n",
    "               'Sport Utility Vehicle - 4WD': 'SUV',\n",
    "               'Sport Utility Vehicle - 2WD': 'SUV',\n",
    "               'Standard Sport Utility Vehicle 4WD': 'SUV',\n",
    "               'Vans Passenger': 'Vans',\n",
    "               'Vans, Cargo Type': 'Vans',\n",
    "               'Vans, Passenger Type': 'Vans'}\n",
    "\n",
    "cluster_data = cluster_data.replace({'trade_in_vclass': vclass_dict,\n",
    "                                     'new_vehicle_vclass': vclass_dict})\n",
    "\n",
    "cluster_data = cluster_data[(cluster_data.trade_in_vclass != 'Special Purpose') &\n",
    "                            (cluster_data['trade_in_odometer_reading'] < 500000) &\n",
    "                            (cluster_data['trade_in_odometer_reading'] != 0)].reset_index(drop = True)\n",
    "\n",
    "# cluster_data[['state', 'trade_in_make',\n",
    "#               'trade_in_mileage', 'trade_in_odometer_reading',\n",
    "#               'trade_in_vclass','trade_in_years_driven',\n",
    "#               'new_vehicle_make',\n",
    "#               'new_vehicle_MSRP',\n",
    "#               'new_vehicle_vclass',\n",
    "#               'new_vehicle_car_mileage']].dropna().reset_index(drop = True).to_csv('carclusters_test.csv')"
   ]
  },
  {
   "cell_type": "markdown",
   "metadata": {},
   "source": [
    "On inspection of the distribution of the classes for trade-in vehicles, we can see that almost half are Special Purpose Vehicles."
   ]
  },
  {
   "cell_type": "code",
   "execution_count": 6,
   "metadata": {},
   "outputs": [
    {
     "data": {
      "application/vnd.plotly.v1+json": {
       "config": {
        "linkText": "Export to plot.ly",
        "plotlyServerURL": "https://plot.ly",
        "showLink": false
       },
       "data": [
        {
         "type": "bar",
         "x": [
          "Pickup",
          "Vans",
          "Large",
          "Midsize",
          "SUV",
          "Compact",
          "Minivans",
          "St. Wagons",
          "Two Seaters"
         ],
         "y": [
          161606,
          60411,
          42933,
          25057,
          18392,
          17340,
          11761,
          6445,
          936
         ]
        }
       ],
       "layout": {
        "autosize": true,
        "height": 500,
        "template": {
         "data": {
          "bar": [
           {
            "error_x": {
             "color": "#2a3f5f"
            },
            "error_y": {
             "color": "#2a3f5f"
            },
            "marker": {
             "line": {
              "color": "#E5ECF6",
              "width": 0.5
             }
            },
            "type": "bar"
           }
          ],
          "barpolar": [
           {
            "marker": {
             "line": {
              "color": "#E5ECF6",
              "width": 0.5
             }
            },
            "type": "barpolar"
           }
          ],
          "carpet": [
           {
            "aaxis": {
             "endlinecolor": "#2a3f5f",
             "gridcolor": "white",
             "linecolor": "white",
             "minorgridcolor": "white",
             "startlinecolor": "#2a3f5f"
            },
            "baxis": {
             "endlinecolor": "#2a3f5f",
             "gridcolor": "white",
             "linecolor": "white",
             "minorgridcolor": "white",
             "startlinecolor": "#2a3f5f"
            },
            "type": "carpet"
           }
          ],
          "choropleth": [
           {
            "colorbar": {
             "outlinewidth": 0,
             "ticks": ""
            },
            "type": "choropleth"
           }
          ],
          "contour": [
           {
            "colorbar": {
             "outlinewidth": 0,
             "ticks": ""
            },
            "colorscale": [
             [
              0,
              "#0d0887"
             ],
             [
              0.1111111111111111,
              "#46039f"
             ],
             [
              0.2222222222222222,
              "#7201a8"
             ],
             [
              0.3333333333333333,
              "#9c179e"
             ],
             [
              0.4444444444444444,
              "#bd3786"
             ],
             [
              0.5555555555555556,
              "#d8576b"
             ],
             [
              0.6666666666666666,
              "#ed7953"
             ],
             [
              0.7777777777777778,
              "#fb9f3a"
             ],
             [
              0.8888888888888888,
              "#fdca26"
             ],
             [
              1,
              "#f0f921"
             ]
            ],
            "type": "contour"
           }
          ],
          "contourcarpet": [
           {
            "colorbar": {
             "outlinewidth": 0,
             "ticks": ""
            },
            "type": "contourcarpet"
           }
          ],
          "heatmap": [
           {
            "colorbar": {
             "outlinewidth": 0,
             "ticks": ""
            },
            "colorscale": [
             [
              0,
              "#0d0887"
             ],
             [
              0.1111111111111111,
              "#46039f"
             ],
             [
              0.2222222222222222,
              "#7201a8"
             ],
             [
              0.3333333333333333,
              "#9c179e"
             ],
             [
              0.4444444444444444,
              "#bd3786"
             ],
             [
              0.5555555555555556,
              "#d8576b"
             ],
             [
              0.6666666666666666,
              "#ed7953"
             ],
             [
              0.7777777777777778,
              "#fb9f3a"
             ],
             [
              0.8888888888888888,
              "#fdca26"
             ],
             [
              1,
              "#f0f921"
             ]
            ],
            "type": "heatmap"
           }
          ],
          "heatmapgl": [
           {
            "colorbar": {
             "outlinewidth": 0,
             "ticks": ""
            },
            "colorscale": [
             [
              0,
              "#0d0887"
             ],
             [
              0.1111111111111111,
              "#46039f"
             ],
             [
              0.2222222222222222,
              "#7201a8"
             ],
             [
              0.3333333333333333,
              "#9c179e"
             ],
             [
              0.4444444444444444,
              "#bd3786"
             ],
             [
              0.5555555555555556,
              "#d8576b"
             ],
             [
              0.6666666666666666,
              "#ed7953"
             ],
             [
              0.7777777777777778,
              "#fb9f3a"
             ],
             [
              0.8888888888888888,
              "#fdca26"
             ],
             [
              1,
              "#f0f921"
             ]
            ],
            "type": "heatmapgl"
           }
          ],
          "histogram": [
           {
            "marker": {
             "colorbar": {
              "outlinewidth": 0,
              "ticks": ""
             }
            },
            "type": "histogram"
           }
          ],
          "histogram2d": [
           {
            "colorbar": {
             "outlinewidth": 0,
             "ticks": ""
            },
            "colorscale": [
             [
              0,
              "#0d0887"
             ],
             [
              0.1111111111111111,
              "#46039f"
             ],
             [
              0.2222222222222222,
              "#7201a8"
             ],
             [
              0.3333333333333333,
              "#9c179e"
             ],
             [
              0.4444444444444444,
              "#bd3786"
             ],
             [
              0.5555555555555556,
              "#d8576b"
             ],
             [
              0.6666666666666666,
              "#ed7953"
             ],
             [
              0.7777777777777778,
              "#fb9f3a"
             ],
             [
              0.8888888888888888,
              "#fdca26"
             ],
             [
              1,
              "#f0f921"
             ]
            ],
            "type": "histogram2d"
           }
          ],
          "histogram2dcontour": [
           {
            "colorbar": {
             "outlinewidth": 0,
             "ticks": ""
            },
            "colorscale": [
             [
              0,
              "#0d0887"
             ],
             [
              0.1111111111111111,
              "#46039f"
             ],
             [
              0.2222222222222222,
              "#7201a8"
             ],
             [
              0.3333333333333333,
              "#9c179e"
             ],
             [
              0.4444444444444444,
              "#bd3786"
             ],
             [
              0.5555555555555556,
              "#d8576b"
             ],
             [
              0.6666666666666666,
              "#ed7953"
             ],
             [
              0.7777777777777778,
              "#fb9f3a"
             ],
             [
              0.8888888888888888,
              "#fdca26"
             ],
             [
              1,
              "#f0f921"
             ]
            ],
            "type": "histogram2dcontour"
           }
          ],
          "mesh3d": [
           {
            "colorbar": {
             "outlinewidth": 0,
             "ticks": ""
            },
            "type": "mesh3d"
           }
          ],
          "parcoords": [
           {
            "line": {
             "colorbar": {
              "outlinewidth": 0,
              "ticks": ""
             }
            },
            "type": "parcoords"
           }
          ],
          "scatter": [
           {
            "marker": {
             "colorbar": {
              "outlinewidth": 0,
              "ticks": ""
             }
            },
            "type": "scatter"
           }
          ],
          "scatter3d": [
           {
            "line": {
             "colorbar": {
              "outlinewidth": 0,
              "ticks": ""
             }
            },
            "marker": {
             "colorbar": {
              "outlinewidth": 0,
              "ticks": ""
             }
            },
            "type": "scatter3d"
           }
          ],
          "scattercarpet": [
           {
            "marker": {
             "colorbar": {
              "outlinewidth": 0,
              "ticks": ""
             }
            },
            "type": "scattercarpet"
           }
          ],
          "scattergeo": [
           {
            "marker": {
             "colorbar": {
              "outlinewidth": 0,
              "ticks": ""
             }
            },
            "type": "scattergeo"
           }
          ],
          "scattergl": [
           {
            "marker": {
             "colorbar": {
              "outlinewidth": 0,
              "ticks": ""
             }
            },
            "type": "scattergl"
           }
          ],
          "scattermapbox": [
           {
            "marker": {
             "colorbar": {
              "outlinewidth": 0,
              "ticks": ""
             }
            },
            "type": "scattermapbox"
           }
          ],
          "scatterpolar": [
           {
            "marker": {
             "colorbar": {
              "outlinewidth": 0,
              "ticks": ""
             }
            },
            "type": "scatterpolar"
           }
          ],
          "scatterpolargl": [
           {
            "marker": {
             "colorbar": {
              "outlinewidth": 0,
              "ticks": ""
             }
            },
            "type": "scatterpolargl"
           }
          ],
          "scatterternary": [
           {
            "marker": {
             "colorbar": {
              "outlinewidth": 0,
              "ticks": ""
             }
            },
            "type": "scatterternary"
           }
          ],
          "surface": [
           {
            "colorbar": {
             "outlinewidth": 0,
             "ticks": ""
            },
            "colorscale": [
             [
              0,
              "#0d0887"
             ],
             [
              0.1111111111111111,
              "#46039f"
             ],
             [
              0.2222222222222222,
              "#7201a8"
             ],
             [
              0.3333333333333333,
              "#9c179e"
             ],
             [
              0.4444444444444444,
              "#bd3786"
             ],
             [
              0.5555555555555556,
              "#d8576b"
             ],
             [
              0.6666666666666666,
              "#ed7953"
             ],
             [
              0.7777777777777778,
              "#fb9f3a"
             ],
             [
              0.8888888888888888,
              "#fdca26"
             ],
             [
              1,
              "#f0f921"
             ]
            ],
            "type": "surface"
           }
          ],
          "table": [
           {
            "cells": {
             "fill": {
              "color": "#EBF0F8"
             },
             "line": {
              "color": "white"
             }
            },
            "header": {
             "fill": {
              "color": "#C8D4E3"
             },
             "line": {
              "color": "white"
             }
            },
            "type": "table"
           }
          ]
         },
         "layout": {
          "annotationdefaults": {
           "arrowcolor": "#2a3f5f",
           "arrowhead": 0,
           "arrowwidth": 1
          },
          "colorscale": {
           "diverging": [
            [
             0,
             "#8e0152"
            ],
            [
             0.1,
             "#c51b7d"
            ],
            [
             0.2,
             "#de77ae"
            ],
            [
             0.3,
             "#f1b6da"
            ],
            [
             0.4,
             "#fde0ef"
            ],
            [
             0.5,
             "#f7f7f7"
            ],
            [
             0.6,
             "#e6f5d0"
            ],
            [
             0.7,
             "#b8e186"
            ],
            [
             0.8,
             "#7fbc41"
            ],
            [
             0.9,
             "#4d9221"
            ],
            [
             1,
             "#276419"
            ]
           ],
           "sequential": [
            [
             0,
             "#0d0887"
            ],
            [
             0.1111111111111111,
             "#46039f"
            ],
            [
             0.2222222222222222,
             "#7201a8"
            ],
            [
             0.3333333333333333,
             "#9c179e"
            ],
            [
             0.4444444444444444,
             "#bd3786"
            ],
            [
             0.5555555555555556,
             "#d8576b"
            ],
            [
             0.6666666666666666,
             "#ed7953"
            ],
            [
             0.7777777777777778,
             "#fb9f3a"
            ],
            [
             0.8888888888888888,
             "#fdca26"
            ],
            [
             1,
             "#f0f921"
            ]
           ],
           "sequentialminus": [
            [
             0,
             "#0d0887"
            ],
            [
             0.1111111111111111,
             "#46039f"
            ],
            [
             0.2222222222222222,
             "#7201a8"
            ],
            [
             0.3333333333333333,
             "#9c179e"
            ],
            [
             0.4444444444444444,
             "#bd3786"
            ],
            [
             0.5555555555555556,
             "#d8576b"
            ],
            [
             0.6666666666666666,
             "#ed7953"
            ],
            [
             0.7777777777777778,
             "#fb9f3a"
            ],
            [
             0.8888888888888888,
             "#fdca26"
            ],
            [
             1,
             "#f0f921"
            ]
           ]
          },
          "colorway": [
           "#636efa",
           "#EF553B",
           "#00cc96",
           "#ab63fa",
           "#FFA15A",
           "#19d3f3",
           "#FF6692",
           "#B6E880",
           "#FF97FF",
           "#FECB52"
          ],
          "font": {
           "color": "#2a3f5f"
          },
          "geo": {
           "bgcolor": "white",
           "lakecolor": "white",
           "landcolor": "#E5ECF6",
           "showlakes": true,
           "showland": true,
           "subunitcolor": "white"
          },
          "hoverlabel": {
           "align": "left"
          },
          "hovermode": "closest",
          "mapbox": {
           "style": "light"
          },
          "paper_bgcolor": "white",
          "plot_bgcolor": "#E5ECF6",
          "polar": {
           "angularaxis": {
            "gridcolor": "white",
            "linecolor": "white",
            "ticks": ""
           },
           "bgcolor": "#E5ECF6",
           "radialaxis": {
            "gridcolor": "white",
            "linecolor": "white",
            "ticks": ""
           }
          },
          "scene": {
           "xaxis": {
            "backgroundcolor": "#E5ECF6",
            "gridcolor": "white",
            "gridwidth": 2,
            "linecolor": "white",
            "showbackground": true,
            "ticks": "",
            "zerolinecolor": "white"
           },
           "yaxis": {
            "backgroundcolor": "#E5ECF6",
            "gridcolor": "white",
            "gridwidth": 2,
            "linecolor": "white",
            "showbackground": true,
            "ticks": "",
            "zerolinecolor": "white"
           },
           "zaxis": {
            "backgroundcolor": "#E5ECF6",
            "gridcolor": "white",
            "gridwidth": 2,
            "linecolor": "white",
            "showbackground": true,
            "ticks": "",
            "zerolinecolor": "white"
           }
          },
          "shapedefaults": {
           "line": {
            "color": "#2a3f5f"
           }
          },
          "ternary": {
           "aaxis": {
            "gridcolor": "white",
            "linecolor": "white",
            "ticks": ""
           },
           "baxis": {
            "gridcolor": "white",
            "linecolor": "white",
            "ticks": ""
           },
           "bgcolor": "#E5ECF6",
           "caxis": {
            "gridcolor": "white",
            "linecolor": "white",
            "ticks": ""
           }
          },
          "title": {
           "x": 0.05
          },
          "xaxis": {
           "automargin": true,
           "gridcolor": "white",
           "linecolor": "white",
           "ticks": "",
           "zerolinecolor": "white",
           "zerolinewidth": 2
          },
          "yaxis": {
           "automargin": true,
           "gridcolor": "white",
           "linecolor": "white",
           "ticks": "",
           "zerolinecolor": "white",
           "zerolinewidth": 2
          }
         }
        },
        "title": {
         "text": "Trade-In VClass Distribution"
        },
        "width": 950,
        "xaxis": {
         "title": {
          "text": "Trade-In VClass"
         }
        },
        "yaxis": {
         "title": {
          "text": "Frequency"
         }
        }
       }
      },
      "text/html": [
       "<div>\n",
       "        \n",
       "        \n",
       "            <div id=\"158c83e0-bc08-472a-a220-2a202e25464e\" class=\"plotly-graph-div\" style=\"height:500px; width:950px;\"></div>\n",
       "            <script type=\"text/javascript\">\n",
       "                require([\"plotly\"], function(Plotly) {\n",
       "                    window.PLOTLYENV=window.PLOTLYENV || {};\n",
       "                    \n",
       "                if (document.getElementById(\"158c83e0-bc08-472a-a220-2a202e25464e\")) {\n",
       "                    Plotly.newPlot(\n",
       "                        '158c83e0-bc08-472a-a220-2a202e25464e',\n",
       "                        [{\"type\": \"bar\", \"x\": [\"Pickup\", \"Vans\", \"Large\", \"Midsize\", \"SUV\", \"Compact\", \"Minivans\", \"St. Wagons\", \"Two Seaters\"], \"y\": [161606, 60411, 42933, 25057, 18392, 17340, 11761, 6445, 936]}],\n",
       "                        {\"autosize\": true, \"height\": 500, \"template\": {\"data\": {\"bar\": [{\"error_x\": {\"color\": \"#2a3f5f\"}, \"error_y\": {\"color\": \"#2a3f5f\"}, \"marker\": {\"line\": {\"color\": \"#E5ECF6\", \"width\": 0.5}}, \"type\": \"bar\"}], \"barpolar\": [{\"marker\": {\"line\": {\"color\": \"#E5ECF6\", \"width\": 0.5}}, \"type\": \"barpolar\"}], \"carpet\": [{\"aaxis\": {\"endlinecolor\": \"#2a3f5f\", \"gridcolor\": \"white\", \"linecolor\": \"white\", \"minorgridcolor\": \"white\", \"startlinecolor\": \"#2a3f5f\"}, \"baxis\": {\"endlinecolor\": \"#2a3f5f\", \"gridcolor\": \"white\", \"linecolor\": \"white\", \"minorgridcolor\": \"white\", \"startlinecolor\": \"#2a3f5f\"}, \"type\": \"carpet\"}], \"choropleth\": [{\"colorbar\": {\"outlinewidth\": 0, \"ticks\": \"\"}, \"type\": \"choropleth\"}], \"contour\": [{\"colorbar\": {\"outlinewidth\": 0, \"ticks\": \"\"}, \"colorscale\": [[0.0, \"#0d0887\"], [0.1111111111111111, \"#46039f\"], [0.2222222222222222, \"#7201a8\"], [0.3333333333333333, \"#9c179e\"], [0.4444444444444444, \"#bd3786\"], [0.5555555555555556, \"#d8576b\"], [0.6666666666666666, \"#ed7953\"], [0.7777777777777778, \"#fb9f3a\"], [0.8888888888888888, \"#fdca26\"], [1.0, \"#f0f921\"]], \"type\": \"contour\"}], \"contourcarpet\": [{\"colorbar\": {\"outlinewidth\": 0, \"ticks\": \"\"}, \"type\": \"contourcarpet\"}], \"heatmap\": [{\"colorbar\": {\"outlinewidth\": 0, \"ticks\": \"\"}, \"colorscale\": [[0.0, \"#0d0887\"], [0.1111111111111111, \"#46039f\"], [0.2222222222222222, \"#7201a8\"], [0.3333333333333333, \"#9c179e\"], [0.4444444444444444, \"#bd3786\"], [0.5555555555555556, \"#d8576b\"], [0.6666666666666666, \"#ed7953\"], [0.7777777777777778, \"#fb9f3a\"], [0.8888888888888888, \"#fdca26\"], [1.0, \"#f0f921\"]], \"type\": \"heatmap\"}], \"heatmapgl\": [{\"colorbar\": {\"outlinewidth\": 0, \"ticks\": \"\"}, \"colorscale\": [[0.0, \"#0d0887\"], [0.1111111111111111, \"#46039f\"], [0.2222222222222222, \"#7201a8\"], [0.3333333333333333, \"#9c179e\"], [0.4444444444444444, \"#bd3786\"], [0.5555555555555556, \"#d8576b\"], [0.6666666666666666, \"#ed7953\"], [0.7777777777777778, \"#fb9f3a\"], [0.8888888888888888, \"#fdca26\"], [1.0, \"#f0f921\"]], \"type\": \"heatmapgl\"}], \"histogram\": [{\"marker\": {\"colorbar\": {\"outlinewidth\": 0, \"ticks\": \"\"}}, \"type\": \"histogram\"}], \"histogram2d\": [{\"colorbar\": {\"outlinewidth\": 0, \"ticks\": \"\"}, \"colorscale\": [[0.0, \"#0d0887\"], [0.1111111111111111, \"#46039f\"], [0.2222222222222222, \"#7201a8\"], [0.3333333333333333, \"#9c179e\"], [0.4444444444444444, \"#bd3786\"], [0.5555555555555556, \"#d8576b\"], [0.6666666666666666, \"#ed7953\"], [0.7777777777777778, \"#fb9f3a\"], [0.8888888888888888, \"#fdca26\"], [1.0, \"#f0f921\"]], \"type\": \"histogram2d\"}], \"histogram2dcontour\": [{\"colorbar\": {\"outlinewidth\": 0, \"ticks\": \"\"}, \"colorscale\": [[0.0, \"#0d0887\"], [0.1111111111111111, \"#46039f\"], [0.2222222222222222, \"#7201a8\"], [0.3333333333333333, \"#9c179e\"], [0.4444444444444444, \"#bd3786\"], [0.5555555555555556, \"#d8576b\"], [0.6666666666666666, \"#ed7953\"], [0.7777777777777778, \"#fb9f3a\"], [0.8888888888888888, \"#fdca26\"], [1.0, \"#f0f921\"]], \"type\": \"histogram2dcontour\"}], \"mesh3d\": [{\"colorbar\": {\"outlinewidth\": 0, \"ticks\": \"\"}, \"type\": \"mesh3d\"}], \"parcoords\": [{\"line\": {\"colorbar\": {\"outlinewidth\": 0, \"ticks\": \"\"}}, \"type\": \"parcoords\"}], \"scatter\": [{\"marker\": {\"colorbar\": {\"outlinewidth\": 0, \"ticks\": \"\"}}, \"type\": \"scatter\"}], \"scatter3d\": [{\"line\": {\"colorbar\": {\"outlinewidth\": 0, \"ticks\": \"\"}}, \"marker\": {\"colorbar\": {\"outlinewidth\": 0, \"ticks\": \"\"}}, \"type\": \"scatter3d\"}], \"scattercarpet\": [{\"marker\": {\"colorbar\": {\"outlinewidth\": 0, \"ticks\": \"\"}}, \"type\": \"scattercarpet\"}], \"scattergeo\": [{\"marker\": {\"colorbar\": {\"outlinewidth\": 0, \"ticks\": \"\"}}, \"type\": \"scattergeo\"}], \"scattergl\": [{\"marker\": {\"colorbar\": {\"outlinewidth\": 0, \"ticks\": \"\"}}, \"type\": \"scattergl\"}], \"scattermapbox\": [{\"marker\": {\"colorbar\": {\"outlinewidth\": 0, \"ticks\": \"\"}}, \"type\": \"scattermapbox\"}], \"scatterpolar\": [{\"marker\": {\"colorbar\": {\"outlinewidth\": 0, \"ticks\": \"\"}}, \"type\": \"scatterpolar\"}], \"scatterpolargl\": [{\"marker\": {\"colorbar\": {\"outlinewidth\": 0, \"ticks\": \"\"}}, \"type\": \"scatterpolargl\"}], \"scatterternary\": [{\"marker\": {\"colorbar\": {\"outlinewidth\": 0, \"ticks\": \"\"}}, \"type\": \"scatterternary\"}], \"surface\": [{\"colorbar\": {\"outlinewidth\": 0, \"ticks\": \"\"}, \"colorscale\": [[0.0, \"#0d0887\"], [0.1111111111111111, \"#46039f\"], [0.2222222222222222, \"#7201a8\"], [0.3333333333333333, \"#9c179e\"], [0.4444444444444444, \"#bd3786\"], [0.5555555555555556, \"#d8576b\"], [0.6666666666666666, \"#ed7953\"], [0.7777777777777778, \"#fb9f3a\"], [0.8888888888888888, \"#fdca26\"], [1.0, \"#f0f921\"]], \"type\": \"surface\"}], \"table\": [{\"cells\": {\"fill\": {\"color\": \"#EBF0F8\"}, \"line\": {\"color\": \"white\"}}, \"header\": {\"fill\": {\"color\": \"#C8D4E3\"}, \"line\": {\"color\": \"white\"}}, \"type\": \"table\"}]}, \"layout\": {\"annotationdefaults\": {\"arrowcolor\": \"#2a3f5f\", \"arrowhead\": 0, \"arrowwidth\": 1}, \"colorscale\": {\"diverging\": [[0, \"#8e0152\"], [0.1, \"#c51b7d\"], [0.2, \"#de77ae\"], [0.3, \"#f1b6da\"], [0.4, \"#fde0ef\"], [0.5, \"#f7f7f7\"], [0.6, \"#e6f5d0\"], [0.7, \"#b8e186\"], [0.8, \"#7fbc41\"], [0.9, \"#4d9221\"], [1, \"#276419\"]], \"sequential\": [[0.0, \"#0d0887\"], [0.1111111111111111, \"#46039f\"], [0.2222222222222222, \"#7201a8\"], [0.3333333333333333, \"#9c179e\"], [0.4444444444444444, \"#bd3786\"], [0.5555555555555556, \"#d8576b\"], [0.6666666666666666, \"#ed7953\"], [0.7777777777777778, \"#fb9f3a\"], [0.8888888888888888, \"#fdca26\"], [1.0, \"#f0f921\"]], \"sequentialminus\": [[0.0, \"#0d0887\"], [0.1111111111111111, \"#46039f\"], [0.2222222222222222, \"#7201a8\"], [0.3333333333333333, \"#9c179e\"], [0.4444444444444444, \"#bd3786\"], [0.5555555555555556, \"#d8576b\"], [0.6666666666666666, \"#ed7953\"], [0.7777777777777778, \"#fb9f3a\"], [0.8888888888888888, \"#fdca26\"], [1.0, \"#f0f921\"]]}, \"colorway\": [\"#636efa\", \"#EF553B\", \"#00cc96\", \"#ab63fa\", \"#FFA15A\", \"#19d3f3\", \"#FF6692\", \"#B6E880\", \"#FF97FF\", \"#FECB52\"], \"font\": {\"color\": \"#2a3f5f\"}, \"geo\": {\"bgcolor\": \"white\", \"lakecolor\": \"white\", \"landcolor\": \"#E5ECF6\", \"showlakes\": true, \"showland\": true, \"subunitcolor\": \"white\"}, \"hoverlabel\": {\"align\": \"left\"}, \"hovermode\": \"closest\", \"mapbox\": {\"style\": \"light\"}, \"paper_bgcolor\": \"white\", \"plot_bgcolor\": \"#E5ECF6\", \"polar\": {\"angularaxis\": {\"gridcolor\": \"white\", \"linecolor\": \"white\", \"ticks\": \"\"}, \"bgcolor\": \"#E5ECF6\", \"radialaxis\": {\"gridcolor\": \"white\", \"linecolor\": \"white\", \"ticks\": \"\"}}, \"scene\": {\"xaxis\": {\"backgroundcolor\": \"#E5ECF6\", \"gridcolor\": \"white\", \"gridwidth\": 2, \"linecolor\": \"white\", \"showbackground\": true, \"ticks\": \"\", \"zerolinecolor\": \"white\"}, \"yaxis\": {\"backgroundcolor\": \"#E5ECF6\", \"gridcolor\": \"white\", \"gridwidth\": 2, \"linecolor\": \"white\", \"showbackground\": true, \"ticks\": \"\", \"zerolinecolor\": \"white\"}, \"zaxis\": {\"backgroundcolor\": \"#E5ECF6\", \"gridcolor\": \"white\", \"gridwidth\": 2, \"linecolor\": \"white\", \"showbackground\": true, \"ticks\": \"\", \"zerolinecolor\": \"white\"}}, \"shapedefaults\": {\"line\": {\"color\": \"#2a3f5f\"}}, \"ternary\": {\"aaxis\": {\"gridcolor\": \"white\", \"linecolor\": \"white\", \"ticks\": \"\"}, \"baxis\": {\"gridcolor\": \"white\", \"linecolor\": \"white\", \"ticks\": \"\"}, \"bgcolor\": \"#E5ECF6\", \"caxis\": {\"gridcolor\": \"white\", \"linecolor\": \"white\", \"ticks\": \"\"}}, \"title\": {\"x\": 0.05}, \"xaxis\": {\"automargin\": true, \"gridcolor\": \"white\", \"linecolor\": \"white\", \"ticks\": \"\", \"zerolinecolor\": \"white\", \"zerolinewidth\": 2}, \"yaxis\": {\"automargin\": true, \"gridcolor\": \"white\", \"linecolor\": \"white\", \"ticks\": \"\", \"zerolinecolor\": \"white\", \"zerolinewidth\": 2}}}, \"title\": {\"text\": \"Trade-In VClass Distribution\"}, \"width\": 950, \"xaxis\": {\"title\": {\"text\": \"Trade-In VClass\"}}, \"yaxis\": {\"title\": {\"text\": \"Frequency\"}}},\n",
       "                        {\"responsive\": true}\n",
       "                    ).then(function(){\n",
       "                            \n",
       "var gd = document.getElementById('158c83e0-bc08-472a-a220-2a202e25464e');\n",
       "var x = new MutationObserver(function (mutations, observer) {{\n",
       "        var display = window.getComputedStyle(gd).display;\n",
       "        if (!display || display === 'none') {{\n",
       "            console.log([gd, 'removed!']);\n",
       "            Plotly.purge(gd);\n",
       "            observer.disconnect();\n",
       "        }}\n",
       "}});\n",
       "\n",
       "// Listen for the removal of the full notebook cells\n",
       "var notebookContainer = gd.closest('#notebook-container');\n",
       "if (notebookContainer) {{\n",
       "    x.observe(notebookContainer, {childList: true});\n",
       "}}\n",
       "\n",
       "// Listen for the clearing of the current output cell\n",
       "var outputEl = gd.closest('.output');\n",
       "if (outputEl) {{\n",
       "    x.observe(outputEl, {childList: true});\n",
       "}}\n",
       "\n",
       "                        })\n",
       "                };\n",
       "                });\n",
       "            </script>\n",
       "        </div>"
      ]
     },
     "metadata": {},
     "output_type": "display_data"
    }
   ],
   "source": [
    "trade_in_vclass_summary = cluster_data[['trade_in_vclass',\n",
    "                                        'new_drive']].groupby('trade_in_vclass').count().reset_index().rename(columns = {'new_drive': 'VClass Count',\n",
    "                                                                                                           'trade_in_vclass': 'Trade-In VClass'}).sort_values('VClass Count', ascending = False)\n",
    "\n",
    "data = [go.Bar(x = trade_in_vclass_summary['Trade-In VClass'], # assign x as the dataframe column 'x'\n",
    "               y = trade_in_vclass_summary['VClass Count'])]\n",
    "\n",
    "layout = go.Layout(autosize=True,\n",
    "                   width=950,\n",
    "                   title='Trade-In VClass Distribution',\n",
    "                   height=500,\n",
    "                   xaxis = dict(title = 'Trade-In VClass'),\n",
    "                   yaxis = dict(title = 'Frequency'))\n",
    "fig = go.Figure(data=data, layout=layout)\n",
    "iplot(fig)"
   ]
  },
  {
   "cell_type": "markdown",
   "metadata": {},
   "source": [
    "Given the nature of the Cash for Clunker program, the data would have a selection bias of individuals who want to trade in their original low fuel economy vehicles for new higher fuel economy vehicles. Since the individuals with Special Purpose Vehicles would be more likely to exhibit this bias, their data points were removed before conducting further analysis."
   ]
  },
  {
   "cell_type": "markdown",
   "metadata": {},
   "source": [
    "**Clustering Data and Determining Cluster Characteristics** <br>\n",
    "The data can provide insight into what characteristics of trade-in cars align with the different new vehicles purchased in the program.\n",
    "- A fast ward clustering algorithm was implemented on the subsetted data (exclusion of Special Purpose trade-in classes and only a select few fields)\n",
    "- Once each data point was assigned a cluster, a dashboard for the cluster summary was created in Tableau"
   ]
  },
  {
   "cell_type": "code",
   "execution_count": 7,
   "metadata": {},
   "outputs": [
    {
     "data": {
      "text/html": [
       "<div class='tableauPlaceholder' id='viz1563418907360' style='position: relative'><noscript><a href='#'><img alt=' ' src='https:&#47;&#47;public.tableau.com&#47;static&#47;images&#47;X7&#47;X7C46CZ4C&#47;1_rss.png' style='border: none' /></a></noscript><object class='tableauViz'  style='display:none;'><param name='host_url' value='https%3A%2F%2Fpublic.tableau.com%2F' /> <param name='embed_code_version' value='3' /> <param name='path' value='shared&#47;X7C46CZ4C' /> <param name='toolbar' value='yes' /><param name='static_image' value='https:&#47;&#47;public.tableau.com&#47;static&#47;images&#47;X7&#47;X7C46CZ4C&#47;1.png' /> <param name='animate_transition' value='yes' /><param name='display_static_image' value='yes' /><param name='display_spinner' value='yes' /><param name='display_overlay' value='yes' /><param name='display_count' value='yes' /><param name='filter' value='publish=yes' /></object></div>                <script type='text/javascript'>                    var divElement = document.getElementById('viz1563418907360');                    var vizElement = divElement.getElementsByTagName('object')[0];                    vizElement.style.width='1020px';vizElement.style.height='887px';                    var scriptElement = document.createElement('script');                    scriptElement.src = 'https://public.tableau.com/javascripts/api/viz_v1.js';                    vizElement.parentNode.insertBefore(scriptElement, vizElement);                </script>"
      ],
      "text/plain": [
       "<IPython.core.display.HTML object>"
      ]
     },
     "metadata": {},
     "output_type": "display_data"
    }
   ],
   "source": [
    "%%HTML\n",
    "<div class='tableauPlaceholder' id='viz1563418907360' style='position: relative'><noscript><a href='#'><img alt=' ' src='https:&#47;&#47;public.tableau.com&#47;static&#47;images&#47;X7&#47;X7C46CZ4C&#47;1_rss.png' style='border: none' /></a></noscript><object class='tableauViz'  style='display:none;'><param name='host_url' value='https%3A%2F%2Fpublic.tableau.com%2F' /> <param name='embed_code_version' value='3' /> <param name='path' value='shared&#47;X7C46CZ4C' /> <param name='toolbar' value='yes' /><param name='static_image' value='https:&#47;&#47;public.tableau.com&#47;static&#47;images&#47;X7&#47;X7C46CZ4C&#47;1.png' /> <param name='animate_transition' value='yes' /><param name='display_static_image' value='yes' /><param name='display_spinner' value='yes' /><param name='display_overlay' value='yes' /><param name='display_count' value='yes' /><param name='filter' value='publish=yes' /></object></div>                <script type='text/javascript'>                    var divElement = document.getElementById('viz1563418907360');                    var vizElement = divElement.getElementsByTagName('object')[0];                    vizElement.style.width='1020px';vizElement.style.height='887px';                    var scriptElement = document.createElement('script');                    scriptElement.src = 'https://public.tableau.com/javascripts/api/viz_v1.js';                    vizElement.parentNode.insertBefore(scriptElement, vizElement);                </script>"
   ]
  },
  {
   "cell_type": "code",
   "execution_count": null,
   "metadata": {
    "collapsed": true
   },
   "outputs": [],
   "source": []
  },
  {
   "cell_type": "code",
   "execution_count": null,
   "metadata": {
    "collapsed": true
   },
   "outputs": [],
   "source": []
  },
  {
   "cell_type": "code",
   "execution_count": null,
   "metadata": {
    "collapsed": true
   },
   "outputs": [],
   "source": []
  },
  {
   "cell_type": "code",
   "execution_count": null,
   "metadata": {
    "collapsed": true,
    "scrolled": false
   },
   "outputs": [],
   "source": []
  },
  {
   "cell_type": "code",
   "execution_count": null,
   "metadata": {
    "collapsed": true
   },
   "outputs": [],
   "source": []
  },
  {
   "cell_type": "code",
   "execution_count": null,
   "metadata": {
    "collapsed": true
   },
   "outputs": [],
   "source": []
  },
  {
   "cell_type": "code",
   "execution_count": null,
   "metadata": {
    "collapsed": true,
    "scrolled": true
   },
   "outputs": [],
   "source": []
  },
  {
   "cell_type": "code",
   "execution_count": null,
   "metadata": {
    "collapsed": true
   },
   "outputs": [],
   "source": []
  },
  {
   "cell_type": "code",
   "execution_count": null,
   "metadata": {
    "collapsed": true
   },
   "outputs": [],
   "source": []
  },
  {
   "cell_type": "code",
   "execution_count": null,
   "metadata": {
    "collapsed": true
   },
   "outputs": [],
   "source": []
  },
  {
   "cell_type": "code",
   "execution_count": null,
   "metadata": {
    "collapsed": true
   },
   "outputs": [],
   "source": []
  },
  {
   "cell_type": "code",
   "execution_count": null,
   "metadata": {
    "collapsed": true
   },
   "outputs": [],
   "source": []
  }
 ],
 "metadata": {
  "kernelspec": {
   "display_name": "Python 3",
   "language": "python",
   "name": "python3"
  },
  "language_info": {
   "codemirror_mode": {
    "name": "ipython",
    "version": 3
   },
   "file_extension": ".py",
   "mimetype": "text/x-python",
   "name": "python",
   "nbconvert_exporter": "python",
   "pygments_lexer": "ipython3",
   "version": "3.6.8"
  }
 },
 "nbformat": 4,
 "nbformat_minor": 2
}
