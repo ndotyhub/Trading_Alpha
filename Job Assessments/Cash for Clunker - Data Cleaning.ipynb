{
 "cells": [
  {
   "cell_type": "markdown",
   "metadata": {},
   "source": [
    "<h1><center>Edmunds - Analytics & Data Science Case Study</center></h1>\n",
    "<h2><center>Cash for Clunker Analysis</center></h2>\n",
    "<h3><center>Senior Data Analyst Application</center></h3>\n",
    "<h3><center>Francis Chen</center></h3>"
   ]
  },
  {
   "cell_type": "code",
   "execution_count": 358,
   "metadata": {},
   "outputs": [
    {
     "data": {
      "text/html": [
       "<script>\n",
       "code_show=true; \n",
       "function code_toggle() {\n",
       " if (code_show){\n",
       " $('div.input').hide();\n",
       " } else {\n",
       " $('div.input').show();\n",
       " }\n",
       " code_show = !code_show\n",
       "} \n",
       "$( document ).ready(code_toggle);\n",
       "</script>\n",
       "<form action=\"javascript:code_toggle()\"><input type=\"submit\" value=\"Click here to toggle on/off the raw code.\"></form>"
      ],
      "text/plain": [
       "<IPython.core.display.HTML object>"
      ]
     },
     "execution_count": 358,
     "metadata": {},
     "output_type": "execute_result"
    }
   ],
   "source": [
    "from IPython.display import HTML\n",
    "\n",
    "HTML('''<script>\n",
    "code_show=true; \n",
    "function code_toggle() {\n",
    " if (code_show){\n",
    " $('div.input').hide();\n",
    " } else {\n",
    " $('div.input').show();\n",
    " }\n",
    " code_show = !code_show\n",
    "} \n",
    "$( document ).ready(code_toggle);\n",
    "</script>\n",
    "<form action=\"javascript:code_toggle()\"><input type=\"submit\" value=\"Click here to toggle on/off the raw code.\"></form>''')"
   ]
  },
  {
   "cell_type": "markdown",
   "metadata": {},
   "source": [
    "## Part 0. Data Cleaning\n",
    "- Raw original data did not contain information on vehicle class\n",
    "    - Vehicle category was not not sufficiently granular\n",
    "    - Required joining data from https://www.fueleconomy.gov/feg/ws/index.shtml\n",
    "- CARS_PAID_FINAL data was joined by:\n",
    "    - Parsing trade_in_vehicle_drive_train and new_vehicle_drive_train to obtain engine cylinders and displacement information\n",
    "    - Vehicle class data from fueleconomy website was then joined to CARS_PAID_FINAL data on make, model, cylinders, and displacement"
   ]
  },
  {
   "cell_type": "code",
   "execution_count": 212,
   "metadata": {},
   "outputs": [
    {
     "data": {
      "text/html": [
       "        <script type=\"text/javascript\">\n",
       "        window.PlotlyConfig = {MathJaxConfig: 'local'};\n",
       "        if (window.MathJax) {MathJax.Hub.Config({SVG: {font: \"STIX-Web\"}});}\n",
       "        if (typeof require !== 'undefined') {\n",
       "        require.undef(\"plotly\");\n",
       "        requirejs.config({\n",
       "            paths: {\n",
       "                'plotly': ['https://cdn.plot.ly/plotly-latest.min']\n",
       "            }\n",
       "        });\n",
       "        require(['plotly'], function(Plotly) {\n",
       "            window._Plotly = Plotly;\n",
       "        });\n",
       "        }\n",
       "        </script>\n",
       "        "
      ]
     },
     "metadata": {},
     "output_type": "display_data"
    }
   ],
   "source": [
    "import warnings\n",
    "warnings.filterwarnings('ignore')\n",
    "\n",
    "import pandas as pd\n",
    "import numpy as np\n",
    "import datetime as dt\n",
    "from plotly.offline import download_plotlyjs, init_notebook_mode, plot, iplot\n",
    "import plotly.graph_objs as go\n",
    "init_notebook_mode(connected=True)\n",
    "pd.options.display.float_format = '{:,.4f}'.format\n",
    "import difflib"
   ]
  },
  {
   "cell_type": "code",
   "execution_count": null,
   "metadata": {
    "collapsed": true
   },
   "outputs": [],
   "source": [
    "# Data Cleaning and Joining on external database for Vehicle class information\n",
    "\n",
    "data = pd.read_csv('CARS_PAID_Final.txt', encoding='latin-1',\n",
    "                   parse_dates = ['invoice_date','sale_date','trade_in_registration_start','trade_in_registration_end'],\n",
    "                   infer_datetime_format = True,\n",
    "                   dtype = {'ZIP': str})\n",
    "\n",
    "# https://www.fueleconomy.gov/feg/ws/index.shtml\n",
    "vehicles = pd.read_csv('vehicles - original.csv')[['cylinders','displ', 'drive', 'fuelType',\n",
    "                                                   'make', 'model', 'trany', 'VClass']].drop_duplicates().reset_index(drop = True)\n",
    "vehicles.model = vehicles.model.str.lower()\n",
    "\n",
    "def to_float(x):\n",
    "    try:\n",
    "        return float(x)\n",
    "    except:\n",
    "        return np.nan\n",
    "    \n",
    "def to_adate(year):\n",
    "    return dt.datetime(year,1,1)\n",
    "\n",
    "# Creating index key to map to vclass for each trade in and new vehicle\n",
    "trade_ins = data[['trade_in_make',\n",
    "                  'trade_in_model',\n",
    "                  'trade_in_vehicle_drive_train']].drop_duplicates().sort_values(['trade_in_make','trade_in_model']).reset_index(drop = True)\n",
    "trade_ins = trade_ins.join(trade_ins['trade_in_vehicle_drive_train'].str.split(\",\", expand = True))\n",
    "trade_ins.columns = ['make','model','descr','displ','cylinders','trany','drive','eng_dscr','fuelType','other']\n",
    "trade_ins.displ = trade_ins['displ'].str.replace('L',\"\").apply(lambda x: to_float(x))\n",
    "trade_ins.cylinders = trade_ins['cylinders'].str.replace(' cyl',\"\").apply(lambda x: to_float(x))\n",
    "trade_ins.model = trade_ins.model.str.lower()\n",
    "\n",
    "new_vehicles = data[['new_vehicle_make',\n",
    "                     'new_vehicle_model',\n",
    "                     'new_vehicle_drive_train']].drop_duplicates().sort_values(['new_vehicle_make','new_vehicle_model']).reset_index(drop = True)\n",
    "new_vehicles = new_vehicles.join(new_vehicles['new_vehicle_drive_train'].str.split(\",\", expand = True))\n",
    "new_vehicles.columns = ['make','model','descr','displ','cylinders','trany','drive','eng_dscr','fuelType','other']\n",
    "new_vehicles.displ = new_vehicles['displ'].str.replace('L',\"\").apply(lambda x: to_float(x))\n",
    "new_vehicles.cylinders = new_vehicles['cylinders'].str.replace(' cyl',\"\").apply(lambda x: to_float(x))\n",
    "new_vehicles.model = new_vehicles.model.str.lower()\n",
    "\n",
    "data_keys = pd.concat([trade_ins, new_vehicles], axis = 0).drop_duplicates().reset_index(drop = True)\n",
    "data_keys = data_keys.merge(vehicles[['make', 'model', 'cylinders','displ','VClass']].drop_duplicates(), how = 'left',\n",
    "                            on = ['make', 'model', 'cylinders','displ'])\n",
    "\n",
    "# Cleaning data that did not join properly\n",
    "data_keys_correct = data_keys[(data_keys.model == 'unlisted') |\n",
    "                              (data_keys.VClass.isnull() == False)].reset_index(drop = True)\n",
    "data_keys_incorrect = data_keys[(data_keys.model != 'unlisted') &\n",
    "                                (data_keys.VClass.isnull())].reset_index(drop = True)\n",
    "\n",
    "for idx, row in data_keys_incorrect.iterrows():\n",
    "    temp_vehicles = vehicles[(vehicles.make == row.make)]\n",
    "    \n",
    "    if len(temp_vehicles) == 0 and 'sterling' in row.model:\n",
    "        temp_vehicles = vehicles[(vehicles.make.str.lower() == 'sterling')]\n",
    "        data_keys_incorrect.loc[idx, 'VClass'] = temp_vehicles[['VClass']].drop_duplicates().reset_index(drop = True).iloc[0,0]\n",
    "    elif 'Austin Rover' != row.make:\n",
    "        quick_check = temp_vehicles[['make','model','VClass']].drop_duplicates().reset_index(drop = True)\n",
    "        temp_join = quick_check.merge(pd.DataFrame(row).T[['make','model']], on = ['make','model'])\n",
    "        \n",
    "        if len(temp_join) == 1:\n",
    "            temp_join = quick_check.merge(pd.DataFrame(row).T[['make','model']], on = ['make','model'])\n",
    "            data_keys_incorrect.loc[idx, 'VClass'] = temp_join.iloc[0, 2]\n",
    "        elif row.model == 'apv 2wd':\n",
    "            data_keys_incorrect.loc[idx, 'VClass'] = 'Van'\n",
    "            data_keys_incorrect.loc[idx, 'make'] = 'Suzuki'\n",
    "        else:\n",
    "            fuzzy_match = vehicles[vehicles.model == difflib.get_close_matches(row.model, vehicles['model'].drop_duplicates())[0]]\n",
    "            fuzzy_match = fuzzy_match[['make','model','VClass']].drop_duplicates().reset_index(drop = True)\n",
    "            \n",
    "            data_keys_incorrect.loc[idx, 'VClass'] = fuzzy_match.loc[0, 'VClass']\n",
    "            data_keys_incorrect.loc[idx, 'make'] = fuzzy_match.loc[0, 'make']\n",
    "\n",
    "# Final keys for joining data\n",
    "class_keys = pd.concat([data_keys_correct, data_keys_incorrect], axis = 0).reset_index(drop = True)\n",
    "class_keys.make = class_keys.make.str.lower()\n",
    "\n",
    "trade_in_keys = class_keys.rename(columns = {'make': 'trade_in_make',\n",
    "                                   'model': 'trade_in_model',\n",
    "                                   'cylinders': 'trade_in_cylinders',\n",
    "                                   'trany': 'trade_in_transmission',\n",
    "                                   'displ': 'trade_in_displacement',\n",
    "                                   'drive': 'trade_in_drive',\n",
    "                                   'descr': 'trade_in_vehicle_drive_train'})\n",
    "\n",
    "new_vehi_keys = class_keys.rename(columns = {'make': 'new_vehicle_make',\n",
    "                                   'model': 'new_vehicle_model',\n",
    "                                   'cylinders': 'new_cylinders',\n",
    "                                   'trany': 'new_transmission',\n",
    "                                   'displ': 'new_displacement',\n",
    "                                   'drive': 'new_drive',\n",
    "                                   'descr': 'new_vehicle_drive_train'})\n",
    "\n",
    "data.trade_in_make = data.trade_in_make.str.lower()\n",
    "data.new_vehicle_make = data.new_vehicle_make.str.lower()\n",
    "data.trade_in_model = data.trade_in_model.str.lower()\n",
    "data.new_vehicle_model = data.new_vehicle_model.str.lower()\n",
    "\n",
    "# Mapping initial data to vclass and also additional information\n",
    "trade_in_join = data[['trade_in_make',\n",
    "                      'trade_in_model',\n",
    "                      'trade_in_vehicle_drive_train']].merge(trade_in_keys.drop_duplicates(['trade_in_make',\n",
    "                                                                            'trade_in_model',\n",
    "                                                                            'trade_in_vehicle_drive_train']), \n",
    "                                             how = 'left',\n",
    "                                             on = ['trade_in_make',\n",
    "                                                   'trade_in_model',\n",
    "                                                   'trade_in_vehicle_drive_train']).rename(columns = {'VClass':'trade_in_vclass'})\n",
    "\n",
    "new_vehicle_join = data[['new_vehicle_make',\n",
    "                      'new_vehicle_model',\n",
    "                      'new_vehicle_drive_train']].merge(new_vehi_keys.drop_duplicates(['new_vehicle_make',\n",
    "                                                                            'new_vehicle_model',\n",
    "                                                                            'new_vehicle_drive_train']), \n",
    "                                             how = 'left',\n",
    "                                             on = ['new_vehicle_make',\n",
    "                                                   'new_vehicle_model',\n",
    "                                                   'new_vehicle_drive_train']).rename(columns = {'VClass':'new_vehicle_vclass'})\n",
    "\n",
    "\n",
    "new_data = data.join(trade_in_join[['trade_in_cylinders',\n",
    "                                    'trade_in_transmission',\n",
    "                                    'trade_in_displacement',\n",
    "                                    'trade_in_drive',\n",
    "                                    'trade_in_vclass']], how = 'left')\n",
    "\n",
    "new_data = new_data.join(new_vehicle_join[['new_cylinders',\n",
    "                                    'new_transmission',\n",
    "                                    'new_displacement',\n",
    "                                    'new_drive',\n",
    "                                    'new_vehicle_vclass']], how = 'left')\n",
    "\n",
    "# Filtering only relevant columns\n",
    "new_data = new_data[['vendor_id', 'dealer_name', 'address_line1',\n",
    "                     'city', 'state', 'ZIP', 'invoice_id', \n",
    "                     'invoice_date', 'sale_date',\n",
    "                     'disposal_status', 'disposal_facility_nmvtis_id',\n",
    "                     'disposal_facility_contact_info', 'sales_type', 'invoice_amount',\n",
    "                     'trade_in_vehicle_category', 'trade_in_make',\n",
    "                     'trade_in_model', 'trade_in_year', 'trade_in_vehicle_drive_train',\n",
    "                     'trade_in_mileage', 'trade_in_title_state',\n",
    "                     'trade_in_registration_state', 'trade_in_registration_start',\n",
    "                     'trade_in_registration_end',\n",
    "                     'trade_in_NMVTIS_flag', 'trade_in_odometer_reading',\n",
    "                     'new_vehicle_category', 'new_vehicle_make',\n",
    "                     'new_vehicle_model', 'new_vehicle_year', 'new_vehicle_drive_train',\n",
    "                     'new_vehicle_car_mileage', 'new_vehicle_MSRP', 'trade_in_vclass',\n",
    "                     'new_vehicle_vclass','trade_in_displacement', 'trade_in_cylinders', \n",
    "                     'trade_in_transmission','trade_in_drive','new_displacement',\n",
    "                     'new_cylinders','new_transmission', 'new_drive']]\n",
    "\n",
    "new_data.trade_in_year = new_data.trade_in_year.apply(lambda x: to_adate(x))\n",
    "new_data['trade_in_years_driven'] = (new_data[['invoice_date','sale_date']].max(axis = 1) - new_data.trade_in_year).dt.days/365.25\n",
    "new_data['avg_annual_miles_driven'] = new_data.trade_in_odometer_reading/new_data.trade_in_years_driven\n",
    "new_data['trade_in_annual_fuel_gallons'] = new_data.avg_annual_miles_driven/new_data.trade_in_mileage\n",
    "new_data['new_vehicle_annual_fuel_gallons'] = new_data.avg_annual_miles_driven/new_data.new_vehicle_car_mileage\n",
    "# new_data.to_csv('cars_data.csv')"
   ]
  },
  {
   "cell_type": "markdown",
   "metadata": {},
   "source": [
    "## Part 1. Success Metrics\n",
    "\n",
    "- Two KPIs were created: <br>\n",
    "    1. Fuel economy improvement from trade-in vehicle to new vehicle in percent and averaged for each State\n",
    "    2. Expected annual reduction in fuel consumption in percent for each State and calculated from aggregating individual expected annual fuel consumption for trade-in and new vehicles."
   ]
  },
  {
   "cell_type": "code",
   "execution_count": 362,
   "metadata": {},
   "outputs": [
    {
     "data": {
      "text/html": [
       "<div class='tableauPlaceholder' id='viz1563379794173' style='position: relative'><noscript><a href='#'><img alt=' ' src='https:&#47;&#47;public.tableau.com&#47;static&#47;images&#47;TX&#47;TXYQ8MRF8&#47;1_rss.png' style='border: none' /></a></noscript><object class='tableauViz'  style='display:none;'><param name='host_url' value='https%3A%2F%2Fpublic.tableau.com%2F' /> <param name='embed_code_version' value='3' /> <param name='path' value='shared&#47;TXYQ8MRF8' /> <param name='toolbar' value='yes' /><param name='static_image' value='https:&#47;&#47;public.tableau.com&#47;static&#47;images&#47;TX&#47;TXYQ8MRF8&#47;1.png' /> <param name='animate_transition' value='yes' /><param name='display_static_image' value='yes' /><param name='display_spinner' value='yes' /><param name='display_overlay' value='yes' /><param name='display_count' value='yes' /></object></div>                <script type='text/javascript'>                    var divElement = document.getElementById('viz1563379794173');                    var vizElement = divElement.getElementsByTagName('object')[0];                    vizElement.style.width='1020px';vizElement.style.height='887px';                    var scriptElement = document.createElement('script');                    scriptElement.src = 'https://public.tableau.com/javascripts/api/viz_v1.js';                    vizElement.parentNode.insertBefore(scriptElement, vizElement);                </script>"
      ],
      "text/plain": [
       "<IPython.core.display.HTML object>"
      ]
     },
     "metadata": {},
     "output_type": "display_data"
    }
   ],
   "source": [
    "%%HTML\n",
    "<div class='tableauPlaceholder' id='viz1563379794173' style='position: relative'><noscript><a href='#'><img alt=' ' src='https:&#47;&#47;public.tableau.com&#47;static&#47;images&#47;TX&#47;TXYQ8MRF8&#47;1_rss.png' style='border: none' /></a></noscript><object class='tableauViz'  style='display:none;'><param name='host_url' value='https%3A%2F%2Fpublic.tableau.com%2F' /> <param name='embed_code_version' value='3' /> <param name='path' value='shared&#47;TXYQ8MRF8' /> <param name='toolbar' value='yes' /><param name='static_image' value='https:&#47;&#47;public.tableau.com&#47;static&#47;images&#47;TX&#47;TXYQ8MRF8&#47;1.png' /> <param name='animate_transition' value='yes' /><param name='display_static_image' value='yes' /><param name='display_spinner' value='yes' /><param name='display_overlay' value='yes' /><param name='display_count' value='yes' /></object></div>                <script type='text/javascript'>                    var divElement = document.getElementById('viz1563379794173');                    var vizElement = divElement.getElementsByTagName('object')[0];                    vizElement.style.width='1020px';vizElement.style.height='887px';                    var scriptElement = document.createElement('script');                    scriptElement.src = 'https://public.tableau.com/javascripts/api/viz_v1.js';                    vizElement.parentNode.insertBefore(scriptElement, vizElement);                </script>"
   ]
  },
  {
   "cell_type": "markdown",
   "metadata": {},
   "source": [
    "Note that the different aggregations for the KPIs mean different weighting implications for each individual <br>\n",
    "- Average fuel economy improvement for each state is equivalent to assuming every car drives the same distance\n",
    "- Annual expected reduction in fuel consumption is equivalent to assigning different individual weights for every car based on their average annual mileage, i.e., the fuel economies of frequently used cars will have higher weights and vice versa.\n",
    "\n",
    "For example, this can be noticed at the country-wide level where Average Fuel Economy Improvement was 59.07%. \n",
    "- If every car drove the same distance, then Expected Annual Fuel Reduction would be equal to $1-\\frac{1}{1.5907}=0.3713$ or 37.13%.\n",
    "- However, since we see that the country-wide Expected Annual Fuel Reduction is actually 34.46%, or around 3% lower, this implies that below average fuel economy vehicles are driven more."
   ]
  },
  {
   "cell_type": "markdown",
   "metadata": {},
   "source": [
    "## Part 2. Behavioral Analysis"
   ]
  },
  {
   "cell_type": "code",
   "execution_count": 581,
   "metadata": {
    "collapsed": true
   },
   "outputs": [],
   "source": [
    "cluster_fields = ['state', 'sales_type', 'trade_in_make', 'trade_in_model',\n",
    "                  'trade_in_mileage', 'trade_in_odometer_reading',\n",
    "                  'new_vehicle_make', 'new_vehicle_model', 'new_vehicle_car_mileage',\n",
    "                  'new_vehicle_MSRP', 'trade_in_vclass', 'trade_in_transmission',\n",
    "                  'trade_in_drive', 'new_displacement', 'new_cylinders', 'new_transmission',\n",
    "                  'trade_in_cylinders', 'new_drive', 'trade_in_years_driven',\n",
    "                  'avg_annual_miles_driven', 'trade_in_annual_fuel_gallons',\n",
    "                  'new_vehicle_annual_fuel_gallons', 'new_vehicle_vclass']\n",
    "\n",
    "cluster_data = new_data[cluster_fields].drop_duplicates().reset_index(drop = True)\n",
    "\n",
    "vclass_dict = {'Compact Cars': 'Compact',\n",
    "               'Minicompact Cars': 'Compact',\n",
    "               'Subcompact Cars': 'Compact',\n",
    "               'Large Cars': 'Large',\n",
    "               'Midsize Cars': 'Midsize',\n",
    "               'Midsize Station Wagons': 'St. Wagons',\n",
    "               'Midsize-Large Station Wagons': 'St. Wagons',\n",
    "               'Small Station Wagons': 'St. Wagons',\n",
    "               'Minivan - 2WD': 'Minivans',\n",
    "               'Minivan - 4WD': 'Minivans',\n",
    "               'Small Pickup Trucks': 'Pickup',\n",
    "               'Small Pickup Trucks 2WD': 'Pickup',\n",
    "               'Small Pickup Trucks 4WD': 'Pickup',\n",
    "               'Standard Pickup Trucks': 'Pickup',\n",
    "               'Standard Pickup Trucks 2WD': 'Pickup',\n",
    "               'Standard Pickup Trucks 4WD': 'Pickup',\n",
    "               'Special Purpose Vehicle 2WD': 'Special Purpose',\n",
    "               'Special Purpose Vehicle 4WD': 'Special Purpose',\n",
    "               'Special Purpose Vehicles': 'Special Purpose',\n",
    "               'Sport Utility Vehicle - 4WD': 'SUV',\n",
    "               'Sport Utility Vehicle - 2WD': 'SUV',\n",
    "               'Standard Sport Utility Vehicle 4WD': 'SUV',\n",
    "               'Vans Passenger': 'Vans',\n",
    "               'Vans, Cargo Type': 'Vans',\n",
    "               'Vans, Passenger Type': 'Vans'}\n",
    "\n",
    "cluster_data = cluster_data.replace({'trade_in_vclass': vclass_dict,\n",
    "                                     'new_vehicle_vclass': vclass_dict})\n",
    "\n",
    "cluster_data = cluster_data[(cluster_data.trade_in_vclass != 'Special Purpose') &\n",
    "                            (cluster_data['trade_in_odometer_reading'] < 500000) &\n",
    "                            (cluster_data['trade_in_odometer_reading'] != 0)].reset_index(drop = True)\n",
    "\n",
    "# cluster_data[['state', 'trade_in_make',\n",
    "#               'trade_in_mileage', 'trade_in_odometer_reading',\n",
    "#               'trade_in_vclass','trade_in_years_driven',\n",
    "#               'new_vehicle_make',\n",
    "#               'new_vehicle_MSRP',\n",
    "#               'new_vehicle_vclass',\n",
    "#               'new_vehicle_car_mileage']].dropna().reset_index(drop = True).to_csv('carclusters_test.csv')"
   ]
  },
  {
   "cell_type": "markdown",
   "metadata": {},
   "source": [
    "On inspection of the distribution of the classes for trade-in vehicles, we can see that almost half are Special Purpose Vehicles."
   ]
  },
  {
   "cell_type": "code",
   "execution_count": 380,
   "metadata": {},
   "outputs": [
    {
     "data": {
      "application/vnd.plotly.v1+json": {
       "config": {
        "linkText": "Export to plot.ly",
        "plotlyServerURL": "https://plot.ly",
        "showLink": false
       },
       "data": [
        {
         "type": "bar",
         "uid": "60508197-11e2-4f37-be7b-c7eaa84f26b6",
         "x": [
          "Special Purpose",
          "Pickup",
          "Vans",
          "Large",
          "Midsize",
          "SUV",
          "Compact",
          "Minivans",
          "St. Wagons",
          "Two Seaters"
         ],
         "y": [
          323317,
          163101,
          60908,
          43289,
          25242,
          18463,
          17475,
          11805,
          6491,
          944
         ]
        }
       ],
       "layout": {
        "autosize": true,
        "height": 500,
        "title": {
         "text": "Trade-In VClass Distribution"
        },
        "width": 950,
        "xaxis": {
         "title": {
          "text": "Trade-In VClass"
         }
        },
        "yaxis": {
         "title": {
          "text": "Frequency"
         }
        }
       }
      },
      "text/html": [
       "<div>\n",
       "        \n",
       "        \n",
       "            <div id=\"40a9bbcc-d2b4-4e71-88f1-e429dee94a87\" class=\"plotly-graph-div\" style=\"height:500px; width:950px;\"></div>\n",
       "            <script type=\"text/javascript\">\n",
       "                require([\"plotly\"], function(Plotly) {\n",
       "                    window.PLOTLYENV=window.PLOTLYENV || {};\n",
       "                    window.PLOTLYENV.BASE_URL='https://plot.ly';\n",
       "                    \n",
       "                if (document.getElementById(\"40a9bbcc-d2b4-4e71-88f1-e429dee94a87\")) {\n",
       "                    Plotly.newPlot(\n",
       "                        '40a9bbcc-d2b4-4e71-88f1-e429dee94a87',\n",
       "                        [{\"type\": \"bar\", \"uid\": \"60508197-11e2-4f37-be7b-c7eaa84f26b6\", \"x\": [\"Special Purpose\", \"Pickup\", \"Vans\", \"Large\", \"Midsize\", \"SUV\", \"Compact\", \"Minivans\", \"St. Wagons\", \"Two Seaters\"], \"y\": [323317, 163101, 60908, 43289, 25242, 18463, 17475, 11805, 6491, 944]}],\n",
       "                        {\"autosize\": true, \"height\": 500, \"title\": {\"text\": \"Trade-In VClass Distribution\"}, \"width\": 950, \"xaxis\": {\"title\": {\"text\": \"Trade-In VClass\"}}, \"yaxis\": {\"title\": {\"text\": \"Frequency\"}}},\n",
       "                        {\"showLink\": false, \"linkText\": \"Export to plot.ly\", \"plotlyServerURL\": \"https://plot.ly\", \"responsive\": true}\n",
       "                    ).then(function(){\n",
       "                            \n",
       "var gd = document.getElementById('40a9bbcc-d2b4-4e71-88f1-e429dee94a87');\n",
       "var x = new MutationObserver(function (mutations, observer) {{\n",
       "        var display = window.getComputedStyle(gd).display;\n",
       "        if (!display || display === 'none') {{\n",
       "            console.log([gd, 'removed!']);\n",
       "            Plotly.purge(gd);\n",
       "            observer.disconnect();\n",
       "        }}\n",
       "}});\n",
       "\n",
       "// Listen for the removal of the full notebook cells\n",
       "var notebookContainer = gd.closest('#notebook-container');\n",
       "if (notebookContainer) {{\n",
       "    x.observe(notebookContainer, {childList: true});\n",
       "}}\n",
       "\n",
       "// Listen for the clearing of the current output cell\n",
       "var outputEl = gd.closest('.output');\n",
       "if (outputEl) {{\n",
       "    x.observe(outputEl, {childList: true});\n",
       "}}\n",
       "\n",
       "                        })\n",
       "                };\n",
       "                });\n",
       "            </script>\n",
       "        </div>"
      ]
     },
     "metadata": {},
     "output_type": "display_data"
    }
   ],
   "source": [
    "trade_in_vclass_summary = cluster_data[['trade_in_vclass',\n",
    "                                        'new_drive']].groupby('trade_in_vclass').count().reset_index().rename(columns = {'new_drive': 'VClass Count',\n",
    "                                                                                                           'trade_in_vclass': 'Trade-In VClass'}).sort_values('VClass Count', ascending = False)\n",
    "\n",
    "data = [go.Bar(x = trade_in_vclass_summary['Trade-In VClass'], # assign x as the dataframe column 'x'\n",
    "               y = trade_in_vclass_summary['VClass Count'])]\n",
    "\n",
    "layout = go.Layout(autosize=True,\n",
    "                   width=950,\n",
    "                   title='Trade-In VClass Distribution',\n",
    "                   height=500,\n",
    "                   xaxis = dict(title = 'Trade-In VClass'),\n",
    "                   yaxis = dict(title = 'Frequency'))\n",
    "fig = go.Figure(data=data, layout=layout)\n",
    "iplot(fig)"
   ]
  },
  {
   "cell_type": "markdown",
   "metadata": {},
   "source": [
    "Given the nature of the Cash for Clunker program, the data would have a selection bias of individuals who want to trade in their original low fuel economy vehicles for new higher fuel economy vehicles. Since the individuals with Special Purpose Vehicles would be more likely to exhibit this bias, their data points were removed before conducting further analysis."
   ]
  },
  {
   "cell_type": "markdown",
   "metadata": {},
   "source": [
    "**Characteristics for the Type of New Vehicle Classes** <br>\n",
    "The data can provide insight into what characteristics of the trade-in car would indicate the class type for the new purchased vehicle.\n",
    "- Initial step is to extract the important features from the data that have the highest significance in predicting new vehicle classes\n",
    "    - A random forest regression was used on the entire data set; this model was selected because of its computational speed\n",
    "- A plot of the significance of the features is given below"
   ]
  },
  {
   "cell_type": "code",
   "execution_count": 573,
   "metadata": {
    "collapsed": true
   },
   "outputs": [],
   "source": [
    "### Preprocessing Data\n",
    "import matplotlib.pyplot as plt\n",
    "%matplotlib inline\n",
    "import statsmodels.api as sm\n",
    "from sklearn.ensemble import RandomForestRegressor\n",
    "from sklearn.ensemble import RandomForestClassifier\n",
    "\n",
    "cluster_data.new_vehicle_MSRP = cluster_data.new_vehicle_MSRP.apply(lambda x: float(x))\n",
    "cluster_data.trade_in_odometer_reading = cluster_data.trade_in_odometer_reading.apply(lambda x: float(x))\n",
    "cluster_data.trade_in_mileage = cluster_data.trade_in_mileage.apply(lambda x: float(x))\n",
    "\n",
    "x_columns = ['state', 'trade_in_make',\n",
    "             'trade_in_mileage', 'trade_in_odometer_reading',\n",
    "             'trade_in_vclass', 'trade_in_transmission', 'trade_in_drive',\n",
    "             'trade_in_cylinders', 'trade_in_years_driven']\n",
    "\n",
    "y_columns = ['new_vehicle_make',\n",
    "             'new_vehicle_MSRP',\n",
    "             'new_vehicle_vclass']\n",
    "\n",
    "y_col = y_columns[2]\n",
    "\n",
    "modeling_df = cluster_data[x_columns]\n",
    "\n",
    "# Separating categorical and numerical columns\n",
    "ignore_cols = []\n",
    "cat_cols = list(filter(lambda col: modeling_df[col].dtype == object \n",
    "                       and col not in ignore_cols,\n",
    "                       modeling_df.columns.tolist()))\n",
    "num_cols = list(filter(lambda col: modeling_df[col].dtype == float\n",
    "                       or modeling_df[col].dtype == int, \n",
    "                       modeling_df.columns.tolist()))\n",
    "# Before removing null values, convert categorical variables on full\n",
    "# data set so that labels are maintained.\n",
    "encoded_categorical = pd.get_dummies(modeling_df[cat_cols], drop_first = True)\n",
    "# Since numerical values are similar magnitudes, no need to standardize\n",
    "# them to find the most significant feature. Thus, only need to join\n",
    "# numerical with encoded categorical\n",
    "modeling_df = pd.concat([encoded_categorical,\n",
    "                         modeling_df[num_cols]], axis = 1).dropna()\n",
    "features = modeling_df.columns.tolist()\n",
    "\n",
    "modeling_df[y_col] = cluster_data[y_col]\n",
    "y = pd.factorize(modeling_df[y_col])[0]\n",
    "\n",
    "# Create a random forest Classifier. By convention, clf means 'Classifier'\n",
    "clf = RandomForestClassifier(n_jobs=2, random_state=0)\n",
    "clf_fitted = clf.fit(modeling_df[features], y)\n",
    "\n",
    "feature_importances = pd.DataFrame(clf.feature_importances_,\n",
    "                                   index = modeling_df[features].columns,\n",
    "                                   columns=['importance']).sort_values('importance', ascending=False)\n",
    "\n",
    "feature_importances['features'] = feature_importances.index\n",
    "\n",
    "y_codes = modeling_df[[y_col]]\n",
    "y_codes['code'] = y\n",
    "y_codes = y_codes.drop_duplicates().reset_index(drop = True)\n",
    "\n",
    "preds = pd.DataFrame(clf.predict(modeling_df[features])).rename(columns = {0: 'code'})\n",
    "preds = preds.merge(y_codes, how = 'left', on = 'code')\n",
    "\n",
    "confusion_matrix = pd.crosstab(modeling_df['new_vehicle_vclass'], \n",
    "                               preds['new_vehicle_vclass'], \n",
    "                               rownames=['Actual New Class'], \n",
    "                               colnames=['Predicted New Class'])\n",
    "\n",
    "cat_feature_importances = {k:v for (k,v) in zip(cat_cols,\n",
    "                                                [feature_importances[feature_importances.features.str.contains(col)].importance.sum() for col in cat_cols])}\n",
    "cat_feature_importances = pd.DataFrame(cat_feature_importances, index = [0]).T.rename(columns = {0: 'importance'})\n",
    "num_feature_importances = feature_importances.T[num_cols].T[['importance']]\n",
    "feature_importances = pd.concat([cat_feature_importances,\n",
    "                                 num_feature_importances]).sort_values('importance', ascending = False)\n",
    "\n",
    "# ### Plotting Feature Importance\n",
    "# import seaborn as sns\n",
    "# fig, ax = plt.subplots(figsize = (12,9))\n",
    "# sns.barplot(ax = ax, x = feature_importances.importance.head(10), \n",
    "#             y = feature_importances.head(10).index)\n",
    "# plt.xlabel('Feature Importance Score / Mean Decrease Accuracy',\n",
    "#            size = 12)\n",
    "# ax.tick_params(labelsize = 13)\n",
    "# plt.ylabel('Features', size = 15)\n",
    "# plt.title(\"Important Features for New Vehicle Class Prediction\", size = 16)\n",
    "# plt.legend()\n",
    "# plt.show()"
   ]
  },
  {
   "cell_type": "code",
   "execution_count": 578,
   "metadata": {
    "collapsed": true
   },
   "outputs": [],
   "source": []
  },
  {
   "cell_type": "code",
   "execution_count": null,
   "metadata": {
    "collapsed": true
   },
   "outputs": [],
   "source": []
  },
  {
   "cell_type": "code",
   "execution_count": null,
   "metadata": {
    "collapsed": true
   },
   "outputs": [],
   "source": []
  },
  {
   "cell_type": "code",
   "execution_count": null,
   "metadata": {
    "collapsed": true,
    "scrolled": false
   },
   "outputs": [],
   "source": []
  },
  {
   "cell_type": "code",
   "execution_count": null,
   "metadata": {
    "collapsed": true
   },
   "outputs": [],
   "source": []
  },
  {
   "cell_type": "code",
   "execution_count": null,
   "metadata": {
    "collapsed": true
   },
   "outputs": [],
   "source": []
  },
  {
   "cell_type": "code",
   "execution_count": null,
   "metadata": {
    "collapsed": true,
    "scrolled": true
   },
   "outputs": [],
   "source": []
  },
  {
   "cell_type": "code",
   "execution_count": null,
   "metadata": {
    "collapsed": true
   },
   "outputs": [],
   "source": []
  },
  {
   "cell_type": "code",
   "execution_count": null,
   "metadata": {
    "collapsed": true
   },
   "outputs": [],
   "source": []
  },
  {
   "cell_type": "code",
   "execution_count": null,
   "metadata": {
    "collapsed": true
   },
   "outputs": [],
   "source": []
  },
  {
   "cell_type": "code",
   "execution_count": null,
   "metadata": {
    "collapsed": true
   },
   "outputs": [],
   "source": []
  },
  {
   "cell_type": "code",
   "execution_count": null,
   "metadata": {
    "collapsed": true
   },
   "outputs": [],
   "source": []
  }
 ],
 "metadata": {
  "kernelspec": {
   "display_name": "Python 3",
   "language": "python",
   "name": "python3"
  },
  "language_info": {
   "codemirror_mode": {
    "name": "ipython",
    "version": 3
   },
   "file_extension": ".py",
   "mimetype": "text/x-python",
   "name": "python",
   "nbconvert_exporter": "python",
   "pygments_lexer": "ipython3",
   "version": "3.6.1"
  }
 },
 "nbformat": 4,
 "nbformat_minor": 2
}
