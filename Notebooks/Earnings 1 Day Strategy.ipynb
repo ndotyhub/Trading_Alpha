{
 "cells": [
  {
   "cell_type": "code",
   "execution_count": 1,
   "metadata": {},
   "outputs": [
    {
     "data": {
      "text/html": [
       "<script>requirejs.config({paths: { 'plotly': ['https://cdn.plot.ly/plotly-latest.min']},});if(!window.Plotly) {{require(['plotly'],function(plotly) {window.Plotly=plotly;});}}</script>"
      ],
      "text/vnd.plotly.v1+html": [
       "<script>requirejs.config({paths: { 'plotly': ['https://cdn.plot.ly/plotly-latest.min']},});if(!window.Plotly) {{require(['plotly'],function(plotly) {window.Plotly=plotly;});}}</script>"
      ]
     },
     "metadata": {},
     "output_type": "display_data"
    }
   ],
   "source": [
    "# Importing necessary models\n",
    "import warnings\n",
    "warnings.filterwarnings('ignore')\n",
    "\n",
    "import smtplib\n",
    "import pandas as pd\n",
    "import numpy as np\n",
    "import datetime as dt\n",
    "import pandas.stats.moments as st\n",
    "import time\n",
    "%matplotlib inline\n",
    "from bs4 import BeautifulSoup as bs\n",
    "import requests\n",
    "import plotly.plotly as py\n",
    "import plotly.graph_objs as go\n",
    "from plotly.offline import download_plotlyjs, init_notebook_mode, plot, iplot\n",
    "from sqlalchemy import *\n",
    "from sqlalchemy import create_engine\n",
    "import calendar\n",
    "import sqlite3 as sql\n",
    "pd.options.display.float_format = '{:,.4f}'.format\n",
    "\n",
    "init_notebook_mode(connected=True)\n",
    "\n",
    "import os\n",
    "main_dir = os.getcwd()\n",
    "\n",
    "dbs_dir = 'C:\\\\Users\\\\Fang\\\\Desktop\\\\Python Trading\\\\Trading\\\\Data\\\\DBs'\n",
    "\n",
    "os.chdir('C:\\\\Users\\\\Fang\\\\Desktop\\\\Python Trading\\\\Trading\\\\Trading\\\\Modules\\\\DataCollection')\n",
    "\n",
    "from alphavantage import *\n",
    "from yahoo_query import *\n",
    "from option_slam_earnings import *\n",
    "from reuters_query import reuters_query, reuters_insiders\n",
    "from alphaquery import alphaquery\n",
    "\n",
    "os.chdir('C:\\\\Users\\\\Fang\\\\Desktop\\\\Python Trading\\\\Trading\\\\Trading\\\\Modules\\\\Options')\n",
    "from optionsFunctions import *\n",
    "\n",
    "os.chdir('C:\\\\Users\\\\Fang\\\\Desktop\\\\Python Trading\\\\Trading\\\\Trading\\\\Modules\\\\Earnings')\n",
    "from yahoo_earnings import *\n",
    "from lookup_earnings import lookup_earnings\n",
    "\n",
    "os.chdir('C:\\\\Users\\\\Fang\\\\Desktop\\\\Python Trading\\\\Trading\\\\Trading\\\\Modules\\\\Processing')\n",
    "from hv_calc import *\n",
    "\n",
    "os.chdir(main_dir)\n",
    "\n",
    "dbs_dir = 'C:\\\\Users\\\\Fang\\\\Desktop\\\\Python Trading\\\\Trading\\\\Data\\\\DBs'\n",
    "\n",
    "os.chdir(dbs_dir)\n",
    "\n",
    "earn_engine = create_engine('sqlite:///earningsHistory.db', echo=False)\n",
    "yahoo_engine = create_engine('sqlite:///yahoo.db', echo = False)\n",
    "reuters_engine = create_engine('sqlite:///reuters.db', echo=False)"
   ]
  },
  {
   "cell_type": "code",
   "execution_count": 2,
   "metadata": {},
   "outputs": [
    {
     "name": "stdout",
     "output_type": "stream",
     "text": [
      "2019-02-19\n"
     ]
    }
   ],
   "source": [
    "month = 2\n",
    "year = 2019\n",
    "check_options = True\n",
    "\n",
    "days_list = list(range(19, 21))\n",
    "\n",
    "start_time = time.time()\n",
    "\n",
    "week_earnings = []\n",
    "\n",
    "for i in days_list:\n",
    "    if month < 10:\n",
    "        curr_month = '0' + str(month)\n",
    "    else:\n",
    "        curr_month = str(month)\n",
    "    if i < 10:\n",
    "        curr_day = '0' + (str(i))\n",
    "    else:\n",
    "        curr_day = str(i)\n",
    "    date_lookup = '{0}-{1}-{2}'.format(year,curr_month, curr_day)\n",
    "    print(date_lookup)\n",
    "    \n",
    "    curr_earnings = date_earnings(date_lookup)\n",
    "    curr_earnings = curr_earnings[curr_earnings['Call Time'].isin(['After Market Close', 'Before Market Open'])]\n",
    "    curr_earnings['EarningsDate'] = date_lookup\n",
    "    week_earnings.append(curr_earnings)\n",
    "    \n",
    "curr_earnings = pd.concat(week_earnings,axis = 0)"
   ]
  },
  {
   "cell_type": "code",
   "execution_count": 13,
   "metadata": {},
   "outputs": [],
   "source": [
    "focus_names = []\n",
    "max_spread = 1\n",
    "option_chains = {}\n",
    "\n",
    "for ticker in curr_earnings.index:\n",
    "    try:\n",
    "        curr_options = all_options(ticker, 200, 1, 1)\n",
    "        \n",
    "    except:\n",
    "        curr_options = []\n",
    "    \n",
    "    if len(curr_options) == 0:\n",
    "        continue\n",
    "    elif (curr_options['Ask'] - curr_options['Bid']).mean() <= max_spread:\n",
    "        focus_names.append(ticker)\n",
    "        option_chains[ticker] = curr_options\n",
    "    else:\n",
    "        continue\n",
    "        \n",
    "curr_earnings = curr_earnings[curr_earnings.index.isin(focus_names)]\n",
    "acs = curr_earnings[curr_earnings['Call Time'] == 'After Market Close']\n",
    "bcs = curr_earnings[curr_earnings['Call Time'] == 'Before Market Open']\n",
    "\n",
    "\n",
    "selected_names = curr_earnings.index.tolist()\n",
    "\n",
    "earnings_query = 'SELECT * FROM postEarningsReturns WHERE Underlying IN ' + str(tuple(selected_names))\n",
    "\n",
    "earnings_info = pd.read_sql_query(earnings_query, con = earn_engine, index_col = 'Underlying')\n",
    "earnings_info['earningsDate'] = pd.to_datetime(earnings_info['earningsDate'])\n"
   ]
  },
  {
   "cell_type": "code",
   "execution_count": 25,
   "metadata": {},
   "outputs": [],
   "source": [
    "### Filtering IV vs HV\n",
    "vols_list = []\n",
    "\n",
    "for selected_name in selected_names:\n",
    "    try:\n",
    "        curr_vol = historical_data(selected_name, dt.datetime(2018,1,1))[['daily_ann','intra_ann','ovrnt_ann']].tail(1)\n",
    "        curr_vol.index = [selected_name]\n",
    "\n",
    "        aq = alphaquery(selected_name)\n",
    "\n",
    "        curr_iv = aq.vol_df.loc[['Implied Volatility (Calls)', 'Implied Volatility (Puts)', \n",
    "                                 'Put-Call Implied Volatility Ratio',\n",
    "                                 'Implied Volatility Skew'],['20-Day']].T\n",
    "        curr_iv.index = [selected_name]\n",
    "        vols_list.append(curr_vol.join(curr_iv))\n",
    "    except:\n",
    "        continue\n",
    "    \n",
    "hv_df = pd.concat(vols_list,axis = 0)"
   ]
  },
  {
   "cell_type": "code",
   "execution_count": null,
   "metadata": {},
   "outputs": [],
   "source": []
  },
  {
   "cell_type": "code",
   "execution_count": null,
   "metadata": {
    "collapsed": true
   },
   "outputs": [],
   "source": []
  },
  {
   "cell_type": "code",
   "execution_count": null,
   "metadata": {
    "collapsed": true
   },
   "outputs": [],
   "source": []
  }
 ],
 "metadata": {
  "kernelspec": {
   "display_name": "Python 3",
   "language": "python",
   "name": "python3"
  },
  "language_info": {
   "codemirror_mode": {
    "name": "ipython",
    "version": 3
   },
   "file_extension": ".py",
   "mimetype": "text/x-python",
   "name": "python",
   "nbconvert_exporter": "python",
   "pygments_lexer": "ipython3",
   "version": "3.6.1"
  }
 },
 "nbformat": 4,
 "nbformat_minor": 2
}
