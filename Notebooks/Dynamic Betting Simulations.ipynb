{
 "cells": [
  {
   "cell_type": "code",
   "execution_count": 78,
   "metadata": {
    "collapsed": true
   },
   "outputs": [],
   "source": [
    "import numpy as np\n",
    "import pandas as pd\n",
    "import matplotlib.pyplot as plt\n",
    "%matplotlib inline\n"
   ]
  },
  {
   "cell_type": "code",
   "execution_count": 70,
   "metadata": {},
   "outputs": [],
   "source": [
    "\n",
    "\n",
    "def sim_returns(p, t, win_amount, loss_amount, allocation, portfolio = 1000):\n",
    "    \n",
    "    starting_portfolio = portfolio\n",
    "\n",
    "    sim = pd.DataFrame({'trials': np.random.binomial(1,p,t)*win_amount})\n",
    "    sim.trials = sim.trials - (sim.trials == 0)*loss_amount\n",
    "\n",
    "    sim['portfolio_amount'] = np.nan\n",
    "\n",
    "    cumport = allocation*portfolio\n",
    "    for idx, row in sim.iterrows():\n",
    "        if row.trials > 0:\n",
    "            cumport = (1 + win_amount)*cumport\n",
    "            sim.loc[idx, 'portfolio_amount'] = portfolio*(1 - allocation) + cumport\n",
    "        else:\n",
    "            cumport = (1 - loss_amount)*cumport\n",
    "            portfolio = (1 - allocation)*portfolio + cumport\n",
    "            sim.loc[idx, 'portfolio_amount'] = portfolio\n",
    "            cumport = allocation*portfolio\n",
    "\n",
    "    ending_amount = sim.loc[t - 1, 'portfolio_amount']\n",
    "    pf_return = ending_amount/starting_portfolio - 1\n",
    "    return ending_amount, pf_return"
   ]
  },
  {
   "cell_type": "code",
   "execution_count": 97,
   "metadata": {},
   "outputs": [
    {
     "name": "stdout",
     "output_type": "stream",
     "text": [
      "-0.198717147363\n"
     ]
    },
    {
     "data": {
      "text/plain": [
       "array([[<matplotlib.axes._subplots.AxesSubplot object at 0x000001614FA97CC0>]], dtype=object)"
      ]
     },
     "execution_count": 97,
     "metadata": {},
     "output_type": "execute_result"
    },
    {
     "data": {
      "image/png": "[encoded data removed]",
      "text/plain": [
       "<matplotlib.figure.Figure at 0x1614fa5df98>"
      ]
     },
     "metadata": {},
     "output_type": "display_data"
    }
   ],
   "source": [
    "ending_amounts = []\n",
    "returns = []\n",
    "\n",
    "n = 100\n",
    "\n",
    "p = 0.9\n",
    "t = 500\n",
    "win_amount = 0.01\n",
    "loss_amount = 0.5\n",
    "allocation = 0.01\n",
    "\n",
    "\n",
    "for i in range(n):\n",
    "    end_amount, end_return = sim_returns(p, t, win_amount, loss_amount, allocation, portfolio = 1000)\n",
    "    ending_amounts.append(end_amount)\n",
    "    returns.append(end_return)\n",
    "\n",
    "print(np.mean(returns))\n",
    "pd.DataFrame({'returns': returns}).hist(bins = 30)"
   ]
  },
  {
   "cell_type": "code",
   "execution_count": null,
   "metadata": {},
   "outputs": [],
   "source": []
  },
  {
   "cell_type": "code",
   "execution_count": null,
   "metadata": {},
   "outputs": [],
   "source": []
  },
  {
   "cell_type": "code",
   "execution_count": null,
   "metadata": {
    "collapsed": true
   },
   "outputs": [],
   "source": []
  }
 ],
 "metadata": {
  "kernelspec": {
   "display_name": "Python 3",
   "language": "python",
   "name": "python3"
  },
  "language_info": {
   "codemirror_mode": {
    "name": "ipython",
    "version": 3
   },
   "file_extension": ".py",
   "mimetype": "text/x-python",
   "name": "python",
   "nbconvert_exporter": "python",
   "pygments_lexer": "ipython3",
   "version": "3.6.1"
  }
 },
 "nbformat": 4,
 "nbformat_minor": 2
}
