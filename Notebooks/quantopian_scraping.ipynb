{
 "cells": [
  {
   "cell_type": "code",
   "execution_count": null,
   "metadata": {
    "collapsed": true
   },
   "outputs": [],
   "source": [
    "# Initializing\n",
    "\n",
    "# os.chdir(quanto_dir)\n",
    "\n",
    "# file_name = 'quantopull_ltm-2014-2017.txt'\n",
    "\n",
    "# file = open(file_name, 'r') \n",
    "\n",
    "# quanto_dict = {}\n",
    "\n",
    "# for line in file:\n",
    "#     if line == '\\n':\n",
    "#         print(repr(line))\n",
    "#         break\n",
    "#     else:\n",
    "#         curr_line = line.replace('\\\\','').replace('00:00:00+00:00','').replace('00:00:00','').strip().split(' ')\n",
    "#         curr_line = list(filter(lambda x: x != '', curr_line))\n",
    "#         quanto_dict[curr_line[0]] = []\n",
    "# file.close()\n",
    "\n",
    "# i = 1\n",
    "\n",
    "# file = open(file_name, 'r') \n",
    "\n",
    "# for line in file:\n",
    "#     if line == '\\n':\n",
    "#         i += 1\n",
    "#     elif 'Empty DataFrame' in line:\n",
    "#         print(line)\n",
    "#         print(i)\n",
    "#     elif 'Columns' in line:\n",
    "#         print(line)\n",
    "#         print(i)\n",
    "#     elif 'Index:' in line:\n",
    "#         print(line)\n",
    "#         print(i)\n",
    "#     elif 'IOPub' in line:\n",
    "#         print(line)\n",
    "#         print(i)\n",
    "#     elif 'The notebook' in line:\n",
    "#         print(line)\n",
    "#         print(i)\n",
    "#     elif 'to the client' in line:\n",
    "#         print(line)\n",
    "#         print(i)\n",
    "#     elif 'To change' in line or 'NotebookApp' in line or 'Current values:' in line:\n",
    "#         print(line)\n",
    "#         print(i)\n",
    "#     else:\n",
    "#         curr_line = line.replace('\\\\','').replace('00:00:00+00:00','').replace('00:00:00','').strip().split(' ')\n",
    "#         curr_line = list(filter(lambda x: x != '', curr_line))\n",
    "#         quanto_dict[curr_line[0]].append(curr_line[1])\n",
    "\n",
    "# file.close()\n",
    "\n",
    "# pd.DataFrame(quanto_dict).set_index('Date').to_csv(file_name.split('.')[0] + '.csv')"
   ]
  }
 ],
 "metadata": {
  "kernelspec": {
   "display_name": "Python 3",
   "language": "python",
   "name": "python3"
  },
  "language_info": {
   "codemirror_mode": {
    "name": "ipython",
    "version": 3
   },
   "file_extension": ".py",
   "mimetype": "text/x-python",
   "name": "python",
   "nbconvert_exporter": "python",
   "pygments_lexer": "ipython3",
   "version": "3.6.1"
  }
 },
 "nbformat": 4,
 "nbformat_minor": 2
}
