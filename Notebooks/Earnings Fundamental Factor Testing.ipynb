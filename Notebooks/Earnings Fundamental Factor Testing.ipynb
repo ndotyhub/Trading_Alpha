{
 "cells": [
  {
   "cell_type": "code",
   "execution_count": 1,
   "metadata": {},
   "outputs": [
    {
     "data": {
      "text/html": [
       "<script>requirejs.config({paths: { 'plotly': ['https://cdn.plot.ly/plotly-latest.min']},});if(!window.Plotly) {{require(['plotly'],function(plotly) {window.Plotly=plotly;});}}</script>"
      ],
      "text/vnd.plotly.v1+html": [
       "<script>requirejs.config({paths: { 'plotly': ['https://cdn.plot.ly/plotly-latest.min']},});if(!window.Plotly) {{require(['plotly'],function(plotly) {window.Plotly=plotly;});}}</script>"
      ]
     },
     "metadata": {},
     "output_type": "display_data"
    }
   ],
   "source": [
    "# Importing necessary models\n",
    "import warnings\n",
    "warnings.filterwarnings('ignore')\n",
    "\n",
    "import smtplib\n",
    "import pandas as pd\n",
    "import numpy as np\n",
    "import datetime as dt\n",
    "import pandas.stats.moments as st\n",
    "import time\n",
    "%matplotlib inline\n",
    "from bs4 import BeautifulSoup as bs\n",
    "import requests\n",
    "import plotly.plotly as py\n",
    "import plotly.graph_objs as go\n",
    "from plotly.offline import download_plotlyjs, init_notebook_mode, plot, iplot\n",
    "from sqlalchemy import *\n",
    "from sqlalchemy import create_engine\n",
    "import calendar\n",
    "import sqlite3 as sql\n",
    "pd.options.display.float_format = '{:,.4f}'.format\n",
    "\n",
    "init_notebook_mode(connected=True)\n",
    "\n",
    "import os\n",
    "main_dir = os.getcwd()\n",
    "\n",
    "dbs_dir = 'C:\\\\Users\\\\Fang\\\\Desktop\\\\Python Trading\\\\Trading\\\\Data\\\\DBs'\n",
    "\n",
    "os.chdir('C:\\\\Users\\\\Fang\\\\Desktop\\\\Python Trading\\\\Trading\\\\Trading\\\\Modules\\\\DataCollection')\n",
    "\n",
    "from alphavantage import *\n",
    "from yahoo_query import *\n",
    "from option_slam_earnings import *\n",
    "from reuters_query import reuters_query, reuters_insiders\n",
    "from alphaquery import alphaquery\n",
    "\n",
    "os.chdir('C:\\\\Users\\\\Fang\\\\Desktop\\\\Python Trading\\\\Trading\\\\Trading\\\\Modules\\\\Options')\n",
    "from optionsFunctions import *\n",
    "\n",
    "os.chdir('C:\\\\Users\\\\Fang\\\\Desktop\\\\Python Trading\\\\Trading\\\\Trading\\\\Modules\\\\Earnings')\n",
    "from yahoo_earnings import *\n",
    "from lookup_earnings import lookup_earnings\n",
    "\n",
    "os.chdir('C:\\\\Users\\\\Fang\\\\Desktop\\\\Python Trading\\\\Trading\\\\Trading\\\\Modules\\\\Processing')\n",
    "from hv_calc import *\n",
    "\n",
    "os.chdir(main_dir)\n",
    "\n",
    "prices_dir = 'D:\\\\Price Data'\n",
    "os.chdir(prices_dir)\n",
    "prices_engine = create_engine('sqlite:///histprices.db', echo=False)\n",
    "\n",
    "\n",
    "dbs_dir = 'C:\\\\Users\\\\Fang\\\\Desktop\\\\Python Trading\\\\Trading\\\\Data\\\\DBs'\n",
    "spx_const_dir = dbs_dir + '\\\\spx_constituents'\n",
    "quanto_dir = dbs_dir + '\\\\quantopian'\n",
    "os.chdir(spx_const_dir)\n",
    "spx_const = pd.read_csv('spx_constituents-2019-01-15.csv', index_col = 0)\n",
    "\n",
    "os.chdir(dbs_dir)\n",
    "\n",
    "earn_engine = create_engine('sqlite:///earningsHistory.db', echo=False)\n",
    "yahoo_engine = create_engine('sqlite:///yahoo.db', echo = False)\n",
    "reuters_engine = create_engine('sqlite:///reuters.db', echo=False)\n",
    "# sec_engine = create_engine('sqlite:///SEC_txt.db', echo=False)\n",
    "\n"
   ]
  },
  {
   "cell_type": "markdown",
   "metadata": {},
   "source": [
    "## Initial Tables"
   ]
  },
  {
   "cell_type": "code",
   "execution_count": 2,
   "metadata": {
    "collapsed": true
   },
   "outputs": [],
   "source": [
    "for yahoo_table in yahoo_engine.table_names():\n",
    "    if 'profiles' in yahoo_table:\n",
    "        query = 'SELECT * FROM {0} WHERE Underlying IN {1}'\n",
    "        curr_table = pd.read_sql_query(query.format(yahoo_table, str(tuple(spx_const.index.tolist()))),\n",
    "                                       con = yahoo_engine,\n",
    "                                       index_col = 'Underlying')[['industry', 'sector']]\n",
    "        curr_table = curr_table[~curr_table.index.duplicated(keep='last')]\n",
    "        profiles = curr_table\n",
    "    else:\n",
    "        continue        "
   ]
  },
  {
   "cell_type": "code",
   "execution_count": null,
   "metadata": {
    "collapsed": true
   },
   "outputs": [],
   "source": []
  },
  {
   "cell_type": "markdown",
   "metadata": {},
   "source": [
    "## Financial Ratios\n",
    "The current ratio measures a company’s ability to pay off short-term liabilities with current assets:\n",
    "    - Current ratio = 'totalCurrentAssets'/'totalCurrentLiabilities'\n",
    "The acid-test ratio measures a company’s ability to pay off short-term liabilities with quick assets:\n",
    "    - Acid-test ratio = ('totalCurrentAssets' – 'inventory')/'totalCurrentLiabilities'\n",
    "The cash ratio measures a company’s ability to pay off short-term liabilities with cash and cash equivalents:\n",
    "    - Cash ratio = 'cash'/'totalCurrentLiabilities'\n",
    "The operating cash flow ratio is a measure of the number of times a company can pay off current liabilities with the cash generated in a given period:\n",
    "    - Operating cash flow ratio = 'totalCashFromOperatingActivities'/'totalCurrentLiabilities'\n",
    "The debt ratio measures the amount of a company’s assets that are provided from debt:\n",
    "    - Debt ratio = 'totalLiab'/'totalAssets'\n",
    "The debt to equity ratio calculates the weight of total debt and financial liabilities against shareholders equity:\n",
    "    - Debt to equity ratio = 'totalLiab'/'totalStockholderEquity'\n",
    "The interest coverage ratio determines how easily a company can pay its interest expenses:\n",
    "    - Interest coverage ratio = 'operatingIncome'/'interestExpense'\n",
    "The asset turnover ratio measures a company’s ability to generate sales from assets:\n",
    "    - Asset turnover ratio = 'totalRevenue'/'totalAssets'\n",
    "The gross margin ratio compares the gross profit of a company to its net sales to show how much profit a company makes after paying off its cost of goods sold:\n",
    "    - Gross margin ratio = 'grossProfit'/'totalRevenue'\n",
    "The operating margin ratio compares the operating income of a company to its net sales to determine operating efficiency:\n",
    "    - Operating margin ratio = 'operatingIncome'/'totalRevenue'\n",
    "    - Profit Margin ratio = 'netIncome'/'totalRevenue'\n",
    "The return on assets ratio measures how efficiently a company is using its assets to generate profit:\n",
    "    - Return on assets ratio = 'operatingIncome'/'totalAssets'\n",
    "The return on equity ratio measures how efficiently a company is using its equity to generate profit:\n",
    "    - Return on equity ratio = 'operatingIncome'/'totalStockholderEquity'\n",
    "The price-earnings ratio compares a company’s share price to the earnings per share:\n",
    "    - Free Cash Flow = 'totalCashFromOperatingActivities' - 'capitalExpenditures'\n",
    "    - Net Issuance/Repurchase of Stock = 'issuanceOfStock' - 'repurchaseOfStock'\n",
    "    - Purchases to Revenue = 'netStockSales'/'totalRevenue'"
   ]
  },
  {
   "cell_type": "code",
   "execution_count": 3,
   "metadata": {
    "collapsed": true
   },
   "outputs": [],
   "source": [
    "raw_statement_fields = ['totalCurrentAssets', 'totalCurrentLiabilities','inventory','cash',\n",
    "                        'totalCashFromOperatingActivities','totalLiab','totalAssets','totalStockholderEquity',\n",
    "                        'operatingIncome','interestExpense','totalRevenue','grossProfit',\n",
    "                        'totalCashFromOperatingActivities','capitalExpenditures','netIncome']\n",
    "\n",
    "balanceSheet_fields = ['cash','inventory', 'totalAssets', 'totalCurrentAssets',\n",
    "                       'totalCurrentLiabilities', 'totalLiab', 'totalStockholderEquity']\n",
    "\n",
    "incomeStatement_fields = ['grossProfit','interestExpense','netIncome','operatingIncome','totalRevenue']\n",
    "\n",
    "cashFlow_fields = ['capitalExpenditures', 'totalCashFromOperatingActivities', 'repurchaseOfStock',\n",
    "                   'issuanceOfStock', 'netBorrowings', 'dividendsPaid']\n"
   ]
  },
  {
   "cell_type": "code",
   "execution_count": 4,
   "metadata": {
    "collapsed": true
   },
   "outputs": [],
   "source": [
    "def pull_statement(ticker, statement_name, fields, period):\n",
    "    \n",
    "    query = str([period,'Underlying'] + fields).replace('[','').replace(']','').replace(\"'\",'')\n",
    "    query = 'SELECT {0} FROM {2} WHERE Underlying = \"{1}\"'.format(query,ticker,statement_name)\n",
    "\n",
    "    statement = pd.read_sql_query(query, con = yahoo_engine,\n",
    "                                  index_col = 'Underlying').drop_duplicates()\n",
    "\n",
    "    statement[period] = pd.to_datetime(statement[period])\n",
    "\n",
    "    for col in statement.columns:\n",
    "        if isinstance(statement.reset_index().loc[0,col], dt.datetime) == False and col != 'maxAge':\n",
    "            statement[col] = pd.to_numeric(statement[col])\n",
    "    \n",
    "    return statement.sort_values(period).tail(4)\n",
    "\n",
    "def fin_factors(ticker, period, statement_period):\n",
    "    \n",
    "    balance = pull_statement(ticker, '{}BalanceSheet'.format(statement_period), balanceSheet_fields, period)\n",
    "    incomes = pull_statement(ticker, '{}IncomeStatement'.format(statement_period), incomeStatement_fields, period)\n",
    "    cflows = pull_statement(ticker, '{}CashFlow'.format(statement_period), cashFlow_fields, period)\n",
    "    cflows['issuanceOfStock'] = cflows['issuanceOfStock'].fillna(0)\n",
    "    cflows['repurchaseOfStock'] = cflows['repurchaseOfStock'].fillna(0)\n",
    "\n",
    "    fins = balance.merge(incomes, on = period).merge(cflows, on = period).set_index(period)\n",
    "    fins['freeCashFlow'] = fins['totalCashFromOperatingActivities'] + fins['capitalExpenditures']\n",
    "    fins['netStockSales'] = (fins['issuanceOfStock'] + fins['repurchaseOfStock'])*-1\n",
    "\n",
    "    fins['current_ratio'] = fins['totalCurrentAssets']/fins['totalCurrentLiabilities']\n",
    "    fins['acidTest_ratio'] = (fins['totalCurrentAssets'] - fins['inventory'])/fins['totalCurrentLiabilities']\n",
    "    fins['cash_ratio'] = fins['cash']/fins['totalCurrentLiabilities']\n",
    "\n",
    "    fins['operatingCashFlow_ratio'] = fins['totalCashFromOperatingActivities']/fins['totalCurrentLiabilities']\n",
    "    fins['debt_ratio'] = fins['totalLiab']/fins['totalAssets']\n",
    "    fins['debtToEquity_ratio'] = fins['totalLiab']/fins['totalStockholderEquity']\n",
    "    fins['interestCoverage_ratio'] = fins['operatingIncome']/fins['interestExpense']\n",
    "    fins['assetTurnover_ratio'] = fins['totalRevenue']/fins['totalAssets']\n",
    "    fins['grossMargin_ratio'] = fins['grossProfit']/fins['totalRevenue']\n",
    "    fins['operatingMargin_ratio'] = fins['operatingIncome']/fins['totalRevenue']\n",
    "    fins['profitMargin_ratio'] = fins['netIncome']/fins['totalRevenue']\n",
    "    fins['returnOnAssets_ratio'] = fins['operatingIncome']/fins['totalAssets']\n",
    "    fins['returnOnEquity_ratio'] = fins['operatingIncome']/fins['totalStockholderEquity']\n",
    "    fins['repurchasesToRevenue_ratio'] = fins['netStockSales']/fins['totalRevenue']\n",
    "\n",
    "    return fins\n",
    "\n",
    "def annual_factors(ticker):\n",
    "    \n",
    "    fins = fin_factors(ticker, 'year', 'annual')\n",
    "    one_year_changes = fins.pct_change()\n",
    "    cumulative_changes = (fins.pct_change() + 1).cumprod() - 1\n",
    "\n",
    "    annual_factors = fins[list(filter(lambda x: 'ratio' in x, \n",
    "                                      fins.columns.tolist()))].join(one_year_changes, \n",
    "                                                                    rsuffix='change1yr').join(cumulative_changes, \n",
    "                                                                                              rsuffix='changeallyrs')\n",
    "    return annual_factors\n",
    "\n",
    "\n",
    "def quarter_factors(ticker):\n",
    "    period = 'quarter'\n",
    "\n",
    "    #start_time = time.time()\n",
    "\n",
    "    fins = fin_factors(ticker, period, 'quarterly').sort_index()\n",
    "\n",
    "    earnings_hist = pd.read_sql_query('SELECT * FROM postEarningsReturns WHERE Underlying = \"{}\"'.format(ticker), \n",
    "                                      con = earn_engine, index_col = 'Underlying').drop_duplicates().fillna(np.nan)\n",
    "    earnings_hist.earningsDate = pd.to_datetime(earnings_hist.earningsDate)\n",
    "    \n",
    "    earnings_hist = earnings_hist.sort_values('earningsDate')\n",
    "\n",
    "    # curr_prices = pd.read_sql_query('SELECT * FROM historicalPrices WHERE Underlying = \"{}\"'.format(ticker),\n",
    "    #                                 con = prices_engine, index_col = 'Underlying').drop_duplicates()\n",
    "    # curr_prices.Date = pd.to_datetime(curr_prices.Date)\n",
    "\n",
    "    quarterly_earnings = pd.read_sql_query('SELECT * FROM quarterlyEarnings WHERE Underlying = \"{}\"'.format(ticker),\n",
    "                                           con = yahoo_engine, index_col = 'Underlying').drop_duplicates()\n",
    "    quarterly_earnings.quarter = pd.to_datetime(quarterly_earnings.quarter)\n",
    "    \n",
    "    quarterly_earnings = quarterly_earnings.sort_values('quarter')\n",
    "\n",
    "    tol = pd.Timedelta('90 day')\n",
    "\n",
    "    earnings_info = pd.merge_asof(left=quarterly_earnings,right=earnings_hist,\n",
    "                                  left_on = ['quarter'], right_on = ['earningsDate'],\n",
    "                                  direction='nearest',tolerance=tol).set_index('quarter')\n",
    "\n",
    "    fins = pd.merge_asof(left=fins.reset_index(),right=earnings_info[['earningsDate','epsActual','surprisePercent']],\n",
    "                         left_on = ['quarter'], right_on = ['earningsDate'],\n",
    "                         direction='nearest',tolerance=tol).set_index('quarter')\n",
    "\n",
    "    del fins['earningsDate']\n",
    "    #print(\"--- %s seconds ---\" % (time.time() - start_time))\n",
    "\n",
    "    one_quarter_changes = fins.pct_change()\n",
    "    cumulative_changes = (fins[list(filter(lambda x: x != 'surprisePercent',\n",
    "                                           fins.columns.tolist()))].pct_change() + 1).cumprod() - 1\n",
    "\n",
    "    quarter_factors = fins[list(filter(lambda x: 'ratio' in x, \n",
    "                                       fins.columns.tolist()))].join(one_quarter_changes, \n",
    "                                                                     rsuffix='change1qtr').join(cumulative_changes, \n",
    "                                                                                                   rsuffix='changeallqtrs')\n",
    "    \n",
    "    return quarter_factors, earnings_info[['earningsDate','closeToOpenReturn','industryBeta','marketBeta','stock52WeekReturn','market52WeekReturn','industry52WeekReturn']]\n",
    "\n",
    "def create_data_row(ticker):\n",
    "    annualFactors = annual_factors(ticker)\n",
    "\n",
    "    quarterFactors, earnings_info = quarter_factors(ticker)\n",
    "\n",
    "    earnings_info['year'] = earnings_info.index\n",
    "\n",
    "    for idx, row in earnings_info.iterrows():\n",
    "\n",
    "        yearDate = list(filter(lambda x: x < idx - dt.timedelta(days = 90),annualFactors.index.tolist()))\n",
    "        earnings_info.loc[idx,'year'] = max(yearDate)\n",
    "\n",
    "    factor_df = earnings_info.reset_index().merge(annualFactors.reset_index(), on = 'year').set_index('quarter')\n",
    "\n",
    "    factor_df = factor_df.join(quarterFactors.shift(1),lsuffix = '_y', rsuffix = '_q')\n",
    "\n",
    "    del factor_df['year']\n",
    "\n",
    "    test_row = factor_df.tail(1)\n",
    "    test_row.index = [ticker]\n",
    "    test_row = test_row.join(profiles)\n",
    "    \n",
    "    return test_row\n"
   ]
  },
  {
   "cell_type": "markdown",
   "metadata": {},
   "source": [
    "## Yahoo Database Pull"
   ]
  },
  {
   "cell_type": "code",
   "execution_count": 5,
   "metadata": {},
   "outputs": [
    {
     "name": "stdout",
     "output_type": "stream",
     "text": [
      "--- 0.33911943435668945 seconds ---\n"
     ]
    }
   ],
   "source": [
    "start_time = time.time()\n",
    "\n",
    "df = []\n",
    "\n",
    "for ticker in profiles.index:\n",
    "    try:\n",
    "        curr_point = create_data_row(ticker)\n",
    "        df.append(curr_point)\n",
    "    except:\n",
    "        continue\n",
    "\n",
    "print(\"--- %s seconds ---\" % (time.time() - start_time))"
   ]
  },
  {
   "cell_type": "code",
   "execution_count": 6,
   "metadata": {
    "collapsed": true,
    "scrolled": true
   },
   "outputs": [],
   "source": [
    "# df = pd.concat(df, axis = 0)\n",
    "# df.to_csv('earnings_oos.csv')\n",
    "# df"
   ]
  },
  {
   "cell_type": "code",
   "execution_count": 7,
   "metadata": {
    "collapsed": true
   },
   "outputs": [],
   "source": [
    "latest_spx_annuals = []\n",
    "latest_spx_quarters = []\n",
    "failed_cons = []\n",
    "for constituent in spx_const.index:\n",
    "    \n",
    "    try:\n",
    "        curr_annual = fin_factors(constituent, 'year', 'annual')\n",
    "        curr_annual['Ticker'] = constituent\n",
    "        curr_annual = curr_annual.reset_index().set_index('Ticker').join(profiles)\n",
    "        #curr_annual = curr_annual.sort_values('year').tail(1)\n",
    "        latest_spx_annuals.append(curr_annual)\n",
    "        \n",
    "        curr_quarterly = fin_factors(constituent, 'quarter', 'quarterly')\n",
    "        curr_quarterly = curr_quarterly.sort_index()\n",
    "        curr_quarterly['Ticker'] = constituent\n",
    "        curr_quarterly = curr_quarterly.reset_index().set_index('Ticker').join(profiles)\n",
    "        latest_spx_quarters.append(curr_quarterly)\n",
    "    except:\n",
    "        failed_cons.append(constituent)\n",
    "    "
   ]
  },
  {
   "cell_type": "code",
   "execution_count": 167,
   "metadata": {
    "collapsed": true
   },
   "outputs": [],
   "source": [
    "pd.concat(latest_spx_annuals, \n",
    "          axis = 0).sort_values('year').reset_index().drop_duplicates('index', \n",
    "                                                                      keep = 'last').set_index('index').to_csv('annual_spx_yahoo.csv')\n",
    "pd.concat(latest_spx_quarters, axis = 0).sort_values('quarter').to_csv('quarterly_spx_yahoo.csv')"
   ]
  },
  {
   "cell_type": "code",
   "execution_count": 252,
   "metadata": {
    "collapsed": true,
    "scrolled": true
   },
   "outputs": [],
   "source": [
    "quanto_af = pd.read_csv('quanto_af_2005-2017.csv', index_col = 0)\n",
    "quanto_af.index = pd.to_datetime(quanto_af.index)\n",
    "quanto_af.eps_rpt_date_af = pd.to_datetime(quanto_af.eps_rpt_date_af)"
   ]
  },
  {
   "cell_type": "code",
   "execution_count": 253,
   "metadata": {
    "collapsed": true,
    "scrolled": true
   },
   "outputs": [],
   "source": [
    "starting_year = 2005\n",
    "\n",
    "annual_dict = {}\n",
    "annual_dup_dict = {}\n",
    "\n",
    "for year in range(starting_year, 2019):\n",
    "    curr_annuals = quanto_af[(quanto_af.index.year >= year) &\n",
    "                             (quanto_af.index.year < year + 1)]\n",
    "    annual_dup_dict[year] = curr_annuals[curr_annuals.duplicated('Equity', keep = 'first')]\n",
    "    annual_dict[year] = curr_annuals[curr_annuals.duplicated('Equity', keep = 'first') == False]\n"
   ]
  },
  {
   "cell_type": "code",
   "execution_count": 265,
   "metadata": {
    "collapsed": true,
    "scrolled": true
   },
   "outputs": [],
   "source": [
    "annuals = []\n",
    "\n",
    "for year in range(2006,2019):\n",
    "    curr_df = pd.concat([annual_dict[year],annual_dup_dict[year - 1]],axis = 0).drop_duplicates('Equity', keep = 'last')\n",
    "    curr_df['FY'] = year\n",
    "    annuals.append(curr_df)\n",
    "\n",
    "curr_df = annual_dict[2005]\n",
    "curr_df['FY'] = 2005\n",
    "annuals.append(curr_df)"
   ]
  },
  {
   "cell_type": "code",
   "execution_count": 267,
   "metadata": {
    "collapsed": true
   },
   "outputs": [],
   "source": [
    "pd.concat(annuals,axis = 0).to_csv('cleaned_af.csv')"
   ]
  },
  {
   "cell_type": "code",
   "execution_count": null,
   "metadata": {
    "collapsed": true
   },
   "outputs": [],
   "source": []
  },
  {
   "cell_type": "code",
   "execution_count": null,
   "metadata": {
    "collapsed": true
   },
   "outputs": [],
   "source": []
  },
  {
   "cell_type": "code",
   "execution_count": null,
   "metadata": {
    "collapsed": true
   },
   "outputs": [],
   "source": []
  },
  {
   "cell_type": "code",
   "execution_count": null,
   "metadata": {
    "collapsed": true
   },
   "outputs": [],
   "source": []
  },
  {
   "cell_type": "code",
   "execution_count": null,
   "metadata": {
    "collapsed": true
   },
   "outputs": [],
   "source": []
  },
  {
   "cell_type": "code",
   "execution_count": null,
   "metadata": {
    "collapsed": true
   },
   "outputs": [],
   "source": []
  },
  {
   "cell_type": "code",
   "execution_count": null,
   "metadata": {
    "collapsed": true
   },
   "outputs": [],
   "source": []
  },
  {
   "cell_type": "code",
   "execution_count": null,
   "metadata": {
    "collapsed": true
   },
   "outputs": [],
   "source": []
  },
  {
   "cell_type": "code",
   "execution_count": null,
   "metadata": {
    "collapsed": true
   },
   "outputs": [],
   "source": []
  },
  {
   "cell_type": "code",
   "execution_count": null,
   "metadata": {
    "collapsed": true
   },
   "outputs": [],
   "source": []
  },
  {
   "cell_type": "code",
   "execution_count": null,
   "metadata": {
    "collapsed": true
   },
   "outputs": [],
   "source": []
  },
  {
   "cell_type": "code",
   "execution_count": null,
   "metadata": {
    "collapsed": true
   },
   "outputs": [],
   "source": []
  },
  {
   "cell_type": "code",
   "execution_count": null,
   "metadata": {
    "collapsed": true
   },
   "outputs": [],
   "source": []
  },
  {
   "cell_type": "code",
   "execution_count": null,
   "metadata": {
    "collapsed": true
   },
   "outputs": [],
   "source": []
  },
  {
   "cell_type": "code",
   "execution_count": null,
   "metadata": {
    "collapsed": true,
    "scrolled": true
   },
   "outputs": [],
   "source": []
  },
  {
   "cell_type": "code",
   "execution_count": null,
   "metadata": {
    "collapsed": true,
    "scrolled": true
   },
   "outputs": [],
   "source": []
  },
  {
   "cell_type": "code",
   "execution_count": null,
   "metadata": {
    "collapsed": true
   },
   "outputs": [],
   "source": []
  },
  {
   "cell_type": "code",
   "execution_count": null,
   "metadata": {
    "collapsed": true
   },
   "outputs": [],
   "source": []
  },
  {
   "cell_type": "code",
   "execution_count": null,
   "metadata": {
    "collapsed": true
   },
   "outputs": [],
   "source": []
  },
  {
   "cell_type": "code",
   "execution_count": null,
   "metadata": {
    "collapsed": true
   },
   "outputs": [],
   "source": []
  },
  {
   "cell_type": "code",
   "execution_count": null,
   "metadata": {
    "collapsed": true
   },
   "outputs": [],
   "source": []
  },
  {
   "cell_type": "code",
   "execution_count": null,
   "metadata": {
    "collapsed": true
   },
   "outputs": [],
   "source": []
  }
 ],
 "metadata": {
  "kernelspec": {
   "display_name": "Python 3",
   "language": "python",
   "name": "python3"
  },
  "language_info": {
   "codemirror_mode": {
    "name": "ipython",
    "version": 3
   },
   "file_extension": ".py",
   "mimetype": "text/x-python",
   "name": "python",
   "nbconvert_exporter": "python",
   "pygments_lexer": "ipython3",
   "version": "3.6.1"
  }
 },
 "nbformat": 4,
 "nbformat_minor": 2
}
