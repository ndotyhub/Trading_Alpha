{
 "cells": [
  {
   "cell_type": "code",
   "execution_count": 17,
   "metadata": {},
   "outputs": [
    {
     "data": {
      "text/html": [
       "<script>requirejs.config({paths: { 'plotly': ['https://cdn.plot.ly/plotly-latest.min']},});if(!window.Plotly) {{require(['plotly'],function(plotly) {window.Plotly=plotly;});}}</script>"
      ],
      "text/vnd.plotly.v1+html": [
       "<script>requirejs.config({paths: { 'plotly': ['https://cdn.plot.ly/plotly-latest.min']},});if(!window.Plotly) {{require(['plotly'],function(plotly) {window.Plotly=plotly;});}}</script>"
      ]
     },
     "metadata": {},
     "output_type": "display_data"
    }
   ],
   "source": [
    "# Importing necessary models\n",
    "import warnings\n",
    "warnings.filterwarnings('ignore')\n",
    "\n",
    "import smtplib\n",
    "import pandas as pd\n",
    "import numpy as np\n",
    "import datetime as dt\n",
    "import pandas.stats.moments as st\n",
    "import time\n",
    "%matplotlib inline\n",
    "from bs4 import BeautifulSoup as bs\n",
    "import requests\n",
    "import plotly.plotly as py\n",
    "import plotly.graph_objs as go\n",
    "from plotly.offline import download_plotlyjs, init_notebook_mode, plot, iplot\n",
    "import matplotlib.pyplot as plt\n",
    "pd.options.display.float_format = '{:,.4f}'.format\n",
    "\n",
    "init_notebook_mode(connected=True)\n",
    "\n",
    "import os\n",
    "main_dir = os.getcwd()\n",
    "\n",
    "dbs_dir = 'C:\\\\Users\\\\Fang\\\\Desktop\\\\Python Trading\\\\Trading\\\\Data\\\\DBs'\n",
    "\n",
    "os.chdir('C:\\\\Users\\\\Fang\\\\Desktop\\\\Python Trading\\\\Trading\\\\Trading\\\\Modules\\\\DataCollection')\n",
    "\n",
    "from yahoo_query import *\n",
    "\n",
    "os.chdir('C:\\\\Users\\\\Fang\\\\Downloads')"
   ]
  },
  {
   "cell_type": "code",
   "execution_count": 18,
   "metadata": {},
   "outputs": [],
   "source": [
    "start_date = dt.datetime(1950,1,3)\n",
    "\n",
    "try:\n",
    "    \n",
    "    spx = yahoo_query('^GSPC', start_date)\n",
    "    spx.hist_prices_query()\n",
    "    spx = spx.hist_prices\n",
    "except:\n",
    "    spx = pd.read_csv('^GSPC.csv', index_col = 0)"
   ]
  },
  {
   "cell_type": "code",
   "execution_count": 125,
   "metadata": {},
   "outputs": [],
   "source": [
    "from scipy.optimize import curve_fit\n",
    "\n",
    "\n",
    "def generate_sim(n, sim_days, sim_nums):\n",
    "    empirical_dist = np.log(spx[['Close']]/spx[['Close']].shift(n)).sort_values('Close')\n",
    "    empirical_dist['cumprob'] = np.arange(len(empirical_dist))/len(empirical_dist)\n",
    "\n",
    "\n",
    "    def sigmoid(x, x0, k):\n",
    "        y = 1 / (1 + np.exp(-k*(x-x0)))\n",
    "        return y\n",
    "\n",
    "    popt, pcov = curve_fit(sigmoid, empirical_dist[empirical_dist.Close < 0].Close, empirical_dist[empirical_dist.Close < 0].cumprob)\n",
    "\n",
    "    #print(popt)\n",
    "\n",
    "    x = np.linspace(empirical_dist.Close.min(), empirical_dist.Close.max(), len(empirical_dist.Close))\n",
    "    y = sigmoid(x, *popt)\n",
    "\n",
    "    # fig = plt.figure(figsize=(20,20))\n",
    "\n",
    "    # ax = fig.add_subplot(111)\n",
    "\n",
    "    # ax.plot(empirical_dist.Close, empirical_dist.cumprob, 'o', label='data')\n",
    "    # ax.plot(x,y, label='fit')\n",
    "    # #pylab.ylim(0, 1.05)\n",
    "    # ax.legend(loc='best')\n",
    "\n",
    "    def sigmoid_inv(y, x0, k):\n",
    "        x = -(np.log((1-y)/y)/k) + x0\n",
    "        return x\n",
    "    \n",
    "    return sigmoid_inv(np.random.random(size = (sim_nums, sim_days)), *popt)"
   ]
  },
  {
   "cell_type": "code",
   "execution_count": 134,
   "metadata": {},
   "outputs": [
    {
     "data": {
      "text/plain": [
       "array([[ 0.00746006, -0.00456509,  0.01135826, ...,  0.00066627,\n",
       "        -0.02481364,  0.00771151],\n",
       "       [-0.00142143,  0.00389354,  0.00099432, ...,  0.00077239,\n",
       "         0.01619721, -0.00091859],\n",
       "       [ 0.00641565,  0.00534489, -0.00799598, ...,  0.00169888,\n",
       "         0.00552178, -0.01160711],\n",
       "       ..., \n",
       "       [ 0.00576035, -0.00539668, -0.00285539, ...,  0.00178283,\n",
       "        -0.00512791,  0.00475185],\n",
       "       [-0.00532137, -0.01321605,  0.00461922, ...,  0.00216451,\n",
       "         0.0018762 , -0.0036041 ],\n",
       "       [ 0.00907376,  0.00140669, -0.00091813, ...,  0.00368678,\n",
       "        -0.00434973,  0.00778291]])"
      ]
     },
     "execution_count": 134,
     "metadata": {},
     "output_type": "execute_result"
    }
   ],
   "source": [
    "sim_nums = 100000\n",
    "\n",
    "sim = generate_sim(1, 300, sim_nums)\n",
    "\n",
    "strike = 2700\n",
    "curr_spx = spx.reset_index().loc[len(spx) - 1, 'Close']\n",
    "\n",
    "sum(np.maximum(strike - curr_spx*np.exp(np.sum(sim, axis = 1)),0))/sim_nums\n",
    "\n",
    "sim"
   ]
  },
  {
   "cell_type": "code",
   "execution_count": null,
   "metadata": {},
   "outputs": [],
   "source": []
  },
  {
   "cell_type": "code",
   "execution_count": null,
   "metadata": {},
   "outputs": [],
   "source": []
  },
  {
   "cell_type": "code",
   "execution_count": null,
   "metadata": {
    "collapsed": true
   },
   "outputs": [],
   "source": []
  }
 ],
 "metadata": {
  "kernelspec": {
   "display_name": "Python 3",
   "language": "python",
   "name": "python3"
  },
  "language_info": {
   "codemirror_mode": {
    "name": "ipython",
    "version": 3
   },
   "file_extension": ".py",
   "mimetype": "text/x-python",
   "name": "python",
   "nbconvert_exporter": "python",
   "pygments_lexer": "ipython3",
   "version": "3.6.1"
  }
 },
 "nbformat": 4,
 "nbformat_minor": 2
}
