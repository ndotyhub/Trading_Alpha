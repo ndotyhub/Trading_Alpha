{
 "cells": [
  {
   "cell_type": "code",
   "execution_count": 1,
   "metadata": {
    "collapsed": true
   },
   "outputs": [],
   "source": [
    "import numpy as np\n",
    "import pandas as pd\n",
    "import datetime as dt\n",
    "pd.options.display.float_format = '{:,.4f}'.format\n",
    "%matplotlib inline\n",
    "from scipy.stats import norm as norm\n",
    "import matplotlib.pyplot as plt\n",
    "import os\n",
    "\n",
    "#os.chdir('D:\\Options Data\\Index Intraday')"
   ]
  },
  {
   "cell_type": "code",
   "execution_count": 28,
   "metadata": {},
   "outputs": [],
   "source": [
    "spx_minutely = []\n",
    "vix_minutely = []\n",
    "\n",
    "for filename in list(filter(lambda x: '.csv' in x, os.listdir())):\n",
    "    \n",
    "    curr_df = pd.read_csv(filename).set_index('date')\n",
    "    curr_df.index = pd.to_datetime(curr_df.index)\n",
    "    del curr_df[curr_df.columns[0]]\n",
    "    \n",
    "    \n",
    "    if 'spx' in filename:\n",
    "        spx_minutely.append(curr_df)\n",
    "    elif 'vix' in filename:\n",
    "        vix_minutely.append(curr_df)\n",
    "    "
   ]
  },
  {
   "cell_type": "code",
   "execution_count": 29,
   "metadata": {},
   "outputs": [],
   "source": [
    "spx_minutely = pd.concat(spx_minutely, axis = 0).sort_index()\n",
    "vix_minutely = pd.concat(vix_minutely, axis = 0).sort_index()"
   ]
  },
  {
   "cell_type": "code",
   "execution_count": 30,
   "metadata": {},
   "outputs": [],
   "source": [
    "merged_df = spx_minutely.sort_index().join(vix_minutely, lsuffix = '_spx', rsuffix = '_vix')\n",
    "\n",
    "spx_minutely.to_csv('spx_intraday_1year.csv')\n",
    "vix_minutely.to_csv('vix_intraday_1year.csv')\n",
    "merged_df.to_csv('index_intraday_1year.csv')"
   ]
  },
  {
   "cell_type": "code",
   "execution_count": null,
   "metadata": {
    "collapsed": true
   },
   "outputs": [],
   "source": []
  }
 ],
 "metadata": {
  "kernelspec": {
   "display_name": "Python 3",
   "language": "python",
   "name": "python3"
  },
  "language_info": {
   "codemirror_mode": {
    "name": "ipython",
    "version": 3
   },
   "file_extension": ".py",
   "mimetype": "text/x-python",
   "name": "python",
   "nbconvert_exporter": "python",
   "pygments_lexer": "ipython3",
   "version": "3.6.1"
  }
 },
 "nbformat": 4,
 "nbformat_minor": 2
}
