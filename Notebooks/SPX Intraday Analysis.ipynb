{
 "cells": [
  {
   "cell_type": "markdown",
   "metadata": {},
   "source": [
    "# Examining Behavior of SPX Options on Expiration Day\n",
    "\n",
    "### 1) Data Cleaning and Preparation\n",
    "- Consolidate intraday minutely data from daily SPX yahoo pulls\n",
    "- Consolidate VIX intraday prices from daily VIX options files\n",
    "- Consolidate 0 DTE expiration options from daily SPX options pulls\n",
    "- Retrieve live minutely data from Alphavantage\n",
    "\n",
    "### 2) Initial Check of SPX Spot Behavior Intraday\n",
    "- Test for random walk\n",
    "    - Check 1 min, 5 min, 10 min, 15 min, 20 min, 30 min intervals on:\n",
    "        - Entire day\n",
    "        - Segmented times in the day, e.g., hourly behavior, half-hour behavior, etc.\n",
    "    - Perform DF test\n",
    "    - Calculate probability of price movements using volatility windows and simulating price behavior\n",
    "\n",
    "### 3) Relationship of VIX Intraday to 0 DTE Option IV\n",
    "- Check if VIX and IV use calendar or trading days to annualize\n",
    "    - **IV on the options chain is in calendar years with 24 hour days -> minutes_remaining/(60 x 24 x 365.25)**\n",
    "- Determine Function of Skew using 3rd and 4th moments\n",
    "- Plot IV surface against strikes and time of day\n",
    "- Check behavior of IV movement given VIX term structure is in Contango or Backwardation\n",
    "\n",
    "### 4) Expiration Day Option Pricing\n",
    "- Implied Binomial Pricing model using probability inferred from option prices\n",
    "- Monte Carlo using implied binomial probabilities then backing out he IV from simulated option prices\n",
    "- Use Black Scholes but IV based on VIX intraday or HV from intraday SPX\n",
    "- **Track the IV live on the option chain in IB and use BS to calculate the delta to confirm validity**\n",
    "\n",
    "\n",
    "### 5) 1 DTE Overnight Options Short Vol\n",
    "- Test buckets of VIX brackets and put spreads from 1 hour, 2 hour, or 3 hours before market close and premium the next day\n",
    "- Test overnight volatility vs intraday volatility of SPX during high IV and low IV\n",
    "- Test intraday VIX correlation with SPX and trends\n",
    "- Use ARIMA for trend significance throughout the day\n",
    "- Use ADF for mean reversion significance throughout the day\n",
    "- Infer (r - q) from ES and SPX spot prices and see whether they conform to options prices of SPX and ES"
   ]
  },
  {
   "cell_type": "markdown",
   "metadata": {},
   "source": [
    "##### Importing Necessary Modules"
   ]
  },
  {
   "cell_type": "code",
   "execution_count": 33,
   "metadata": {},
   "outputs": [
    {
     "data": {
      "text/html": [
       "<script>requirejs.config({paths: { 'plotly': ['https://cdn.plot.ly/plotly-latest.min']},});if(!window.Plotly) {{require(['plotly'],function(plotly) {window.Plotly=plotly;});}}</script>"
      ],
      "text/vnd.plotly.v1+html": [
       "<script>requirejs.config({paths: { 'plotly': ['https://cdn.plot.ly/plotly-latest.min']},});if(!window.Plotly) {{require(['plotly'],function(plotly) {window.Plotly=plotly;});}}</script>"
      ]
     },
     "metadata": {},
     "output_type": "display_data"
    }
   ],
   "source": [
    "import warnings\n",
    "warnings.filterwarnings('ignore')\n",
    "\n",
    "import pandas as pd\n",
    "import pandas.stats.moments as st\n",
    "import statsmodels.tsa.stattools as ts\n",
    "from pandas_datareader.data import Options\n",
    "pd.options.display.float_format = '{:,.4f}'.format\n",
    "import statsmodels.api as sm\n",
    "\n",
    "import numpy as np\n",
    "import datetime as dt\n",
    "import time\n",
    "import matplotlib.pyplot as plt\n",
    "\n",
    "import plotly.plotly as py\n",
    "import plotly.graph_objs as go\n",
    "from plotly.offline import download_plotlyjs, init_notebook_mode, plot, iplot\n",
    "init_notebook_mode(connected=True)\n",
    "%matplotlib inline\n",
    "\n",
    "from scipy.stats import norm as norm\n",
    "\n",
    "import os\n",
    "os.chdir('C:\\\\Users\\\\Fang\\\\Desktop\\\\Python Trading\\\\Trading\\\\Trading\\\\Modules\\\\RetiredModules')\n",
    "from helpers import maturities\n",
    "\n",
    "os.chdir('D:\\Options Data\\IB Intraday')\n",
    "\n",
    "from numpy import cumsum, log, polyfit, sqrt, std, subtract\n",
    "from numpy.random import randn\n",
    "from statsmodels.graphics.tsaplots import plot_acf\n"
   ]
  },
  {
   "cell_type": "markdown",
   "metadata": {},
   "source": [
    "##### 1) Data Preparation"
   ]
  },
  {
   "cell_type": "code",
   "execution_count": 7,
   "metadata": {
    "scrolled": true
   },
   "outputs": [],
   "source": [
    "# Retrieving Data for VIX Term Structure\n",
    "v1 = pd.read_csv('https://www.quandl.com/api/v3/datasets/CHRIS/CBOE_VX1.csv?api_key=dzmzEExntfap7SNx5p6t', index_col = 0)[['Open','Close']].sort_index()\n",
    "v2 = pd.read_csv('https://www.quandl.com/api/v3/datasets/CHRIS/CBOE_VX2.csv?api_key=dzmzEExntfap7SNx5p6t', index_col = 0)[['Open','Close']].sort_index()\n",
    "vix = pd.read_csv('http://www.cboe.com/publish/scheduledtask/mktdata/datahouse/vixcurrent.csv', skiprows=[0], index_col = 0)\n",
    "vix.index = pd.to_datetime(vix.index)\n",
    "vix_term = vix.join(v1.join(v2, lsuffix = '_F1', rsuffix = '_F2').dropna()).dropna()\n",
    "vix_term['Front_Weights'] = np.nan\n",
    "vix_term['Back_Weights'] = np.nan\n",
    "\n",
    "for index, row in vix_term.iterrows():\n",
    "    weights = maturities(index.date())\n",
    "    front_weight = weights[0]\n",
    "    back_weight = weights[1]\n",
    "    vix_term.loc[index, 'Front_Weights'] = front_weight\n",
    "    vix_term.loc[index, 'Back_Weights'] = back_weight\n",
    "    \n",
    "vix_term = vix_term[list(filter(lambda x: 'Open' in x or 'Weight' in x, vix_term.columns.tolist()))]\n",
    "vix_term['Contango_Ratio'] = vix_term.Front_Weights*(vix_term['VIX Open']/vix_term.Open_F1) + vix_term.Back_Weights*(vix_term.Open_F1/vix_term.Open_F2)\n",
    "\n",
    "spx_intraday = pd.read_csv('index_intraday_1year.csv', index_col = 0)\n",
    "spx_intraday.index = pd.to_datetime(spx_intraday.index)"
   ]
  },
  {
   "cell_type": "code",
   "execution_count": null,
   "metadata": {
    "scrolled": false
   },
   "outputs": [],
   "source": []
  },
  {
   "cell_type": "code",
   "execution_count": null,
   "metadata": {
    "scrolled": true
   },
   "outputs": [],
   "source": []
  },
  {
   "cell_type": "code",
   "execution_count": null,
   "metadata": {},
   "outputs": [],
   "source": []
  },
  {
   "cell_type": "code",
   "execution_count": null,
   "metadata": {},
   "outputs": [],
   "source": []
  },
  {
   "cell_type": "code",
   "execution_count": null,
   "metadata": {
    "collapsed": true
   },
   "outputs": [],
   "source": []
  },
  {
   "cell_type": "markdown",
   "metadata": {},
   "source": [
    "##### 2) Initial Check of SPX Spot Behavior Intraday\n",
    "- Test for random walk\n",
    "    - Check 1 min, 5 min intervals on:\n",
    "        - Entire day\n",
    "        - Segmented times in the day, e.g., hourly behavior, half-hour behavior, etc.\n",
    "    - Perform DF test\n",
    "    - Calculate probability of price movements using volatility windows and simulating price behavior\n",
    "\n",
    "**ADF test for random walk** <br>\n",
    "- The test statistic is a negative number and thus in order to be significant beyond the critical values, the number must be more negative than these values, i.e. less than the critical values.\n",
    "- The ADF null hypothesis is that the process is a random walk and thus non mean-reverting (i.e., a high p-value indicates that we fail to reject the null that it is a random walk)\n",
    "- The output of the Augmented Dickey-Fuller test over a period is as follows:\n",
    "    - The first value is the calculated test-statistic\n",
    "    - The second value is the p-value.\n",
    "    - The fourth is the number of data points in the sample. \n",
    "    - The fifth value, the dictionary, contains the critical values of the test-statistic at the 1, 5 and 10 percent values respectively.\n",
    "\n",
    "**Hurst Exponent Test for Stationarity** <br>\n",
    "A time series can then be characterised in the following manner:\n",
    "- H < 0.5 - The time series is mean reverting\n",
    "- H = 0.5 - The time series is a Geometric Brownian Motion\n",
    "- H > 0.5 - The time series is trending\n",
    "\n",
    "**Autocorrelation is highest most often during the times of 9:30 AM to 10:00 AM and 1:00 PM to 2:00 PM** <br>\n",
    "**Non-mean reverting series occurs most often at 9:30 AM to 10:00 AM and from 1:00 PM to 3:00 PM**"
   ]
  },
  {
   "cell_type": "code",
   "execution_count": 160,
   "metadata": {},
   "outputs": [],
   "source": [
    "def get_block_stats(curr_block, block_label):\n",
    "\n",
    "    curr_spx_trend = curr_block.close_spx - curr_block.reset_index(drop = True).loc[0,'close_spx']\n",
    "    curr_vix_trend = curr_block.close_vix - curr_block.reset_index(drop = True).loc[0,'close_vix']\n",
    "    spx_X = curr_spx_trend.index ## X usually means our input variables (or independent variables)\n",
    "    spx_Y = curr_spx_trend ## Y usually means our output/dependent variable\n",
    "\n",
    "    vix_X = curr_vix_trend.index ## X usually means our input variables (or independent variables)\n",
    "    vix_Y = curr_vix_trend ## Y usually means our output/dependent variable\n",
    "\n",
    "    # # Note the difference in argument order\n",
    "    spx_ols = sm.OLS(spx_Y, spx_X).fit().summary()\n",
    "    spx_ols_r2 = float(pd.read_html(spx_ols.tables[0].as_html())[0].loc[1,3])\n",
    "    spx_ols_coeff = float(pd.read_html(spx_ols.tables[1].as_html())[0].loc[1,1])\n",
    "\n",
    "    vix_ols = sm.OLS(vix_Y, vix_X).fit().summary()\n",
    "    vix_ols_r2 = float(pd.read_html(vix_ols.tables[0].as_html())[0].loc[1,3])\n",
    "    vix_ols_coeff = float(pd.read_html(vix_ols.tables[1].as_html())[0].loc[1,1])\n",
    "\n",
    "    spx_bar_std = np.std(curr_block.close_spx/curr_block.open_spx)\n",
    "    vix_bar_std = np.std(curr_block.close_vix/curr_block.open_vix)\n",
    "\n",
    "    spx_block_std = np.std((curr_block.close_spx.shift(1)/curr_block.close_spx).dropna())\n",
    "    vix_block_std = np.std((curr_block.close_vix.shift(1)/curr_block.close_vix).dropna())\n",
    "\n",
    "    spx_adf_sig = ts.adfuller(np.log(curr_block.close_spx))[1]\n",
    "    vix_adf_sig = ts.adfuller(np.log(curr_block.close_vix))[1]\n",
    "\n",
    "    spx_block_return = curr_block.loc[len(curr_block) - 1, 'close_spx']/curr_block.loc[0, 'close_spx'] - 1\n",
    "    vix_block_return = curr_block.loc[len(curr_block) - 1, 'close_vix']/curr_block.loc[0, 'close_vix'] - 1\n",
    "    \n",
    "    spx_vix_corr = np.corrcoef(curr_block.close_spx,curr_block.close_vix)[0,1]\n",
    "    \n",
    "    block_stats = pd.DataFrame({'Block_Label': block_label,\n",
    "                                'SPX_OLS_Coeff': spx_ols_coeff, \n",
    "                                'SPX_OLS_R2': spx_ols_r2,\n",
    "                                'SPX_bar_std': spx_bar_std,\n",
    "                                'SPX_block_std': spx_block_std,\n",
    "                                'SPX_adf_sig': spx_adf_sig,\n",
    "                                'SPX_block_return': spx_block_return,\n",
    "                                'VIX_OLS_Coeff': vix_ols_coeff, \n",
    "                                'VIX_OLS_R2': vix_ols_r2,\n",
    "                                'VIX_bar_std': vix_bar_std,\n",
    "                                'VIX_block_std': vix_block_std,\n",
    "                                'VIX_adf_sig': vix_adf_sig,\n",
    "                                'VIX_block_return': vix_block_return,\n",
    "                                'SPX_VIX_corr': spx_vix_corr,\n",
    "                                'VIX_open': curr_block.loc[0,'close_vix']}, index = [0])\n",
    "    return block_stats\n",
    "\n",
    "def day_block_stats(curr_data):\n",
    "    block_label = 1\n",
    "    day_timeblock_stats = []\n",
    "    for time_block in range(0,391,30):\n",
    "        if time_block != 390:\n",
    "            curr_block = curr_data.loc[time_block:time_block + 30, :].reset_index(drop = True)\n",
    "            day_timeblock_stats.append(get_block_stats(curr_block, \"Time{}\".format(block_label)))\n",
    "        block_label += 1\n",
    "\n",
    "    day_timeblock_stats = pd.concat(day_timeblock_stats, axis = 0).reset_index(drop = True)\n",
    "\n",
    "\n",
    "    curr_vix_term = vix_term[vix_term.index.date == curr_block.loc[0,'date'].date()].reset_index()\n",
    "\n",
    "    day_timeblock_stats['VIX_level'] = curr_vix_term.loc[0,'VIX Open']\n",
    "    day_timeblock_stats['Contango_Ratio'] = curr_vix_term.loc[0,'Contango_Ratio']\n",
    "    day_timeblock_stats['SPX_next_block_return'] = day_timeblock_stats.SPX_block_return.shift(-1)\n",
    "    day_timeblock_stats = day_timeblock_stats.dropna()\n",
    "    return day_timeblock_stats"
   ]
  },
  {
   "cell_type": "code",
   "execution_count": 161,
   "metadata": {
    "scrolled": true
   },
   "outputs": [],
   "source": [
    "timeblocks_df = []\n",
    "\n",
    "for day in spx_intraday.Date.drop_duplicates().tolist():\n",
    "    curr_data = spx_intraday[spx_intraday.Date == day].reset_index()\n",
    "#     curr_data[['close_spx','close_vix']].plot(figsize = (20,10), secondary_y = 'close_vix',\n",
    "#                                           title = day)\n",
    "#     plt.show()\n",
    "    try:\n",
    "        timeblocks_df.append(day_block_stats(curr_data))\n",
    "    except:\n",
    "        continue\n",
    "\n"
   ]
  },
  {
   "cell_type": "code",
   "execution_count": 333,
   "metadata": {},
   "outputs": [],
   "source": [
    "#timeblocks_df = pd.concat(timeblocks_df,axis = 0).reset_index(drop = True)#.to_csv('spx_intraday_testing.csv')\n",
    "timeblocks_df['SPX_trend'] = timeblocks_df['SPX_OLS_Coeff']*timeblocks_df['SPX_OLS_R2']\n",
    "timeblocks_df['VIX_trend'] = timeblocks_df['VIX_OLS_Coeff']*timeblocks_df['VIX_OLS_R2']"
   ]
  },
  {
   "cell_type": "code",
   "execution_count": 364,
   "metadata": {},
   "outputs": [
    {
     "data": {
      "text/html": [
       "<div>\n",
       "<style>\n",
       "    .dataframe thead tr:only-child th {\n",
       "        text-align: right;\n",
       "    }\n",
       "\n",
       "    .dataframe thead th {\n",
       "        text-align: left;\n",
       "    }\n",
       "\n",
       "    .dataframe tbody tr th {\n",
       "        vertical-align: top;\n",
       "    }\n",
       "</style>\n",
       "<table border=\"1\" class=\"dataframe\">\n",
       "  <thead>\n",
       "    <tr style=\"text-align: right;\">\n",
       "      <th></th>\n",
       "      <th>Coeff</th>\n",
       "      <th>P-Val</th>\n",
       "      <th>Block_Label</th>\n",
       "    </tr>\n",
       "  </thead>\n",
       "  <tbody>\n",
       "    <tr>\n",
       "      <th>VIX_trend</th>\n",
       "      <td>0.0262</td>\n",
       "      <td>0.000</td>\n",
       "      <td>09:30</td>\n",
       "    </tr>\n",
       "    <tr>\n",
       "      <th>VIX_block_return</th>\n",
       "      <td>-0.0214</td>\n",
       "      <td>0.002</td>\n",
       "      <td>09:30</td>\n",
       "    </tr>\n",
       "    <tr>\n",
       "      <th>VIX_block_std</th>\n",
       "      <td>0.1781</td>\n",
       "      <td>0.049</td>\n",
       "      <td>09:30</td>\n",
       "    </tr>\n",
       "    <tr>\n",
       "      <th>VIX_bar_std</th>\n",
       "      <td>-0.2913</td>\n",
       "      <td>0.026</td>\n",
       "      <td>09:30</td>\n",
       "    </tr>\n",
       "    <tr>\n",
       "      <th>SPX_trend</th>\n",
       "      <td>0.0019</td>\n",
       "      <td>0.004</td>\n",
       "      <td>11:00</td>\n",
       "    </tr>\n",
       "    <tr>\n",
       "      <th>VIX_bar_std</th>\n",
       "      <td>0.1192</td>\n",
       "      <td>0.001</td>\n",
       "      <td>11:00</td>\n",
       "    </tr>\n",
       "    <tr>\n",
       "      <th>SPX_block_return</th>\n",
       "      <td>0.1374</td>\n",
       "      <td>0.012</td>\n",
       "      <td>11:30</td>\n",
       "    </tr>\n",
       "    <tr>\n",
       "      <th>VIX_trend</th>\n",
       "      <td>0.0112</td>\n",
       "      <td>0.039</td>\n",
       "      <td>12:00</td>\n",
       "    </tr>\n",
       "    <tr>\n",
       "      <th>SPX_block_return</th>\n",
       "      <td>-0.2031</td>\n",
       "      <td>0.001</td>\n",
       "      <td>12:30</td>\n",
       "    </tr>\n",
       "    <tr>\n",
       "      <th>SPX_bar_std</th>\n",
       "      <td>-2.8143</td>\n",
       "      <td>0.001</td>\n",
       "      <td>12:30</td>\n",
       "    </tr>\n",
       "    <tr>\n",
       "      <th>VIX_open</th>\n",
       "      <td>3.414e-05</td>\n",
       "      <td>0.033</td>\n",
       "      <td>12:30</td>\n",
       "    </tr>\n",
       "    <tr>\n",
       "      <th>VIX_trend</th>\n",
       "      <td>0.0255</td>\n",
       "      <td>0.000</td>\n",
       "      <td>13:00</td>\n",
       "    </tr>\n",
       "    <tr>\n",
       "      <th>VIX_trend</th>\n",
       "      <td>-0.0286</td>\n",
       "      <td>0.001</td>\n",
       "      <td>14:00</td>\n",
       "    </tr>\n",
       "    <tr>\n",
       "      <th>SPX_block_return</th>\n",
       "      <td>0.1250</td>\n",
       "      <td>0.016</td>\n",
       "      <td>14:30</td>\n",
       "    </tr>\n",
       "    <tr>\n",
       "      <th>SPX_bar_std</th>\n",
       "      <td>3.2518</td>\n",
       "      <td>0.000</td>\n",
       "      <td>15:00</td>\n",
       "    </tr>\n",
       "    <tr>\n",
       "      <th>SPX_block_return</th>\n",
       "      <td>0.2445</td>\n",
       "      <td>0.001</td>\n",
       "      <td>15:00</td>\n",
       "    </tr>\n",
       "    <tr>\n",
       "      <th>VIX_block_std</th>\n",
       "      <td>-0.5102</td>\n",
       "      <td>0.000</td>\n",
       "      <td>15:00</td>\n",
       "    </tr>\n",
       "  </tbody>\n",
       "</table>\n",
       "</div>"
      ],
      "text/plain": [
       "                      Coeff  P-Val Block_Label\n",
       "VIX_trend            0.0262  0.000       09:30\n",
       "VIX_block_return    -0.0214  0.002       09:30\n",
       "VIX_block_std        0.1781  0.049       09:30\n",
       "VIX_bar_std         -0.2913  0.026       09:30\n",
       "SPX_trend            0.0019  0.004       11:00\n",
       "VIX_bar_std          0.1192  0.001       11:00\n",
       "SPX_block_return     0.1374  0.012       11:30\n",
       "VIX_trend            0.0112  0.039       12:00\n",
       "SPX_block_return    -0.2031  0.001       12:30\n",
       "SPX_bar_std         -2.8143  0.001       12:30\n",
       "VIX_open          3.414e-05  0.033       12:30\n",
       "VIX_trend            0.0255  0.000       13:00\n",
       "VIX_trend           -0.0286  0.001       14:00\n",
       "SPX_block_return     0.1250  0.016       14:30\n",
       "SPX_bar_std          3.2518  0.000       15:00\n",
       "SPX_block_return     0.2445  0.001       15:00\n",
       "VIX_block_std       -0.5102  0.000       15:00"
      ]
     },
     "execution_count": 364,
     "metadata": {},
     "output_type": "execute_result"
    }
   ],
   "source": [
    "exclude_x = ['Block_Label', 'SPX_OLS_Coeff', 'SPX_OLS_R2', 'VIX_OLS_Coeff', 'VIX_OLS_R2', 'SPX_next_block_return']\n",
    "\n",
    "reg_estimates = []\n",
    "for i in range(1,13):\n",
    "    time_block_string = 'Time' + str(i)\n",
    "    timeblocks_ml = timeblocks_df[timeblocks_df.Block_Label == time_block_string].iloc[:,1:]#.join(pd.get_dummies(timeblocks_df['Block_Label'])).dropna()\n",
    "    timeblocks_ml_X = timeblocks_ml[list(filter(lambda x: x not in exclude_x, timeblocks_df.columns.tolist()))]\n",
    "    timeblocks_ml_Y = timeblocks_ml['SPX_next_block_return']\n",
    "\n",
    "    keep_columns = []\n",
    "    p_thresh = 0.05\n",
    "    for j in range(len(timeblocks_ml_X.columns)):\n",
    "        timeblocks_ml_X.iloc[:,j]\n",
    "        curr_reg = sm.OLS(timeblocks_ml_Y, timeblocks_ml_X.iloc[:,j]).fit().summary()\n",
    "        curr_reg = pd.read_html(curr_reg.tables[1].as_html())[0]\n",
    "        curr_coeff = float(curr_reg.iloc[1,1])\n",
    "        curr_p = float(curr_reg.iloc[1,4])\n",
    "        if curr_p < p_thresh:\n",
    "            keep_columns.append(timeblocks_ml_X.iloc[:,j].name)\n",
    "\n",
    "    if len(keep_columns) > 0:\n",
    "        curr_time_block = dt.datetime.today().replace(hour = 9, minute = 30, second = 0, microsecond = 0) + dt.timedelta(minutes = 30*(i-1))\n",
    "        \n",
    "        #print(time_block_string)\n",
    "        new_reg = sm.OLS(timeblocks_ml_Y, timeblocks_ml_X[keep_columns]).fit().summary()\n",
    "        new_reg = pd.read_html(new_reg.tables[1].as_html())[0][[0,4]].dropna().set_index(0).apply(pd.to_numeric)\n",
    "        new_reg = new_reg.sort_values(4)\n",
    "        while new_reg.reset_index().iloc[-1,1] > 0.05:\n",
    "            keep_columns = new_reg.head(len(new_reg) - 1).index.tolist()\n",
    "            new_reg = sm.OLS(timeblocks_ml_Y, timeblocks_ml_X[keep_columns]).fit().summary()\n",
    "            new_reg = pd.read_html(new_reg.tables[1].as_html())[0][[0,4]].dropna().set_index(0).apply(pd.to_numeric)\n",
    "            new_reg = new_reg.sort_values(4)\n",
    "        \n",
    "        if len(keep_columns) > 0:\n",
    "            new_reg = sm.OLS(timeblocks_ml_Y, timeblocks_ml_X[keep_columns]).fit().summary()\n",
    "            new_reg = pd.read_html(new_reg.tables[1].as_html())[0].iloc[:,[0,1,4]].dropna().set_index(0)\n",
    "            new_reg.index.name = curr_time_block.strftime(\"%H:%M\")\n",
    "            new_reg.columns = ['Coeff','P-Val']\n",
    "            new_reg['Block_Label'] = curr_time_block.strftime(\"%H:%M\")#time_block_string\n",
    "            reg_estimates.append(new_reg)\n",
    "reg_estimates = pd.concat(reg_estimates, axis = 0)\n",
    "reg_estimates"
   ]
  },
  {
   "cell_type": "code",
   "execution_count": null,
   "metadata": {},
   "outputs": [],
   "source": []
  },
  {
   "cell_type": "code",
   "execution_count": null,
   "metadata": {},
   "outputs": [],
   "source": []
  },
  {
   "cell_type": "code",
   "execution_count": null,
   "metadata": {},
   "outputs": [],
   "source": []
  },
  {
   "cell_type": "code",
   "execution_count": null,
   "metadata": {
    "collapsed": true
   },
   "outputs": [],
   "source": []
  },
  {
   "cell_type": "code",
   "execution_count": null,
   "metadata": {},
   "outputs": [],
   "source": []
  },
  {
   "cell_type": "code",
   "execution_count": null,
   "metadata": {
    "collapsed": true
   },
   "outputs": [],
   "source": []
  },
  {
   "cell_type": "code",
   "execution_count": null,
   "metadata": {
    "collapsed": true
   },
   "outputs": [],
   "source": []
  },
  {
   "cell_type": "code",
   "execution_count": null,
   "metadata": {
    "scrolled": true
   },
   "outputs": [],
   "source": []
  },
  {
   "cell_type": "code",
   "execution_count": null,
   "metadata": {
    "scrolled": true
   },
   "outputs": [],
   "source": []
  },
  {
   "cell_type": "code",
   "execution_count": null,
   "metadata": {
    "scrolled": false
   },
   "outputs": [],
   "source": []
  },
  {
   "cell_type": "code",
   "execution_count": null,
   "metadata": {
    "collapsed": true,
    "scrolled": true
   },
   "outputs": [],
   "source": []
  },
  {
   "cell_type": "code",
   "execution_count": null,
   "metadata": {
    "collapsed": true,
    "scrolled": false
   },
   "outputs": [],
   "source": []
  },
  {
   "cell_type": "code",
   "execution_count": null,
   "metadata": {
    "scrolled": true
   },
   "outputs": [],
   "source": []
  },
  {
   "cell_type": "code",
   "execution_count": null,
   "metadata": {
    "collapsed": true,
    "scrolled": true
   },
   "outputs": [],
   "source": []
  },
  {
   "cell_type": "code",
   "execution_count": null,
   "metadata": {
    "collapsed": true
   },
   "outputs": [],
   "source": []
  },
  {
   "cell_type": "code",
   "execution_count": null,
   "metadata": {
    "collapsed": true
   },
   "outputs": [],
   "source": []
  },
  {
   "cell_type": "code",
   "execution_count": null,
   "metadata": {
    "collapsed": true
   },
   "outputs": [],
   "source": []
  },
  {
   "cell_type": "code",
   "execution_count": null,
   "metadata": {
    "collapsed": true
   },
   "outputs": [],
   "source": []
  },
  {
   "cell_type": "code",
   "execution_count": null,
   "metadata": {
    "collapsed": true
   },
   "outputs": [],
   "source": []
  }
 ],
 "metadata": {
  "kernelspec": {
   "display_name": "Python 3",
   "language": "python",
   "name": "python3"
  },
  "language_info": {
   "codemirror_mode": {
    "name": "ipython",
    "version": 3
   },
   "file_extension": ".py",
   "mimetype": "text/x-python",
   "name": "python",
   "nbconvert_exporter": "python",
   "pygments_lexer": "ipython3",
   "version": "3.6.1"
  }
 },
 "nbformat": 4,
 "nbformat_minor": 2
}
