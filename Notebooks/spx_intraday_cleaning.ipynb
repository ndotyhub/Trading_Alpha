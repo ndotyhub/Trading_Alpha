{
 "cells": [
  {
   "cell_type": "code",
   "execution_count": 34,
   "metadata": {
    "collapsed": true
   },
   "outputs": [],
   "source": [
    "# Importing necessary models\n",
    "import warnings\n",
    "warnings.filterwarnings('ignore')\n",
    "\n",
    "import smtplib\n",
    "import pandas as pd\n",
    "import numpy as np\n",
    "import datetime as dt\n",
    "\n",
    "import os\n",
    "from sqlalchemy import *\n",
    "from sqlalchemy import create_engine\n",
    "\n",
    "main_dir = os.getcwd()\n",
    "\n",
    "dbs_dir = 'C:\\\\Users\\\\Fang\\\\Desktop\\\\Python Trading\\\\Trading\\\\Data\\\\DBs'\n",
    "\n",
    "os.chdir('C:\\\\Users\\\\Fang\\\\Desktop\\\\Python Trading\\\\Trading\\\\Trading\\\\Modules\\\\DataCollection')\n",
    "\n",
    "from alphavantage import *\n",
    "from yahoo_query import *\n",
    "\n",
    "os.chdir('C:\\\\Users\\\\Fang\\\\Desktop\\\\Python Trading\\\\Trading\\\\Trading\\\\Modules\\\\Options')\n",
    "from optionsFunctions import *\n",
    "\n",
    "vix_options_dir = 'D:\\\\Options Data\\\\VIX'\n",
    "spx_options_dir = 'D:\\\\Options Data\\\\SPX'\n",
    "spx_intraday_dir = 'D:\\\\Options Data\\\\SPX Intraday'\n",
    "cleaned_dir = 'D:\\\\Options Data\\\\Monthly DBs'\n",
    "#'vix_2018-07-30"
   ]
  },
  {
   "cell_type": "code",
   "execution_count": 16,
   "metadata": {
    "collapsed": true
   },
   "outputs": [],
   "source": [
    "def monthly_spx_intraday_prices(curr_date):\n",
    "    spx_dir = 'D:\\\\Options Data\\\\SPX Intraday'\n",
    "    os.chdir(spx_dir)\n",
    "    spx_intraday_dfs = []\n",
    "    curr_spx_price_files = list(filter(lambda x: curr_date.strftime(\"%Y-%m\") in x, os.listdir('.')))\n",
    "    for filename in curr_spx_price_files:\n",
    "        if filename.endswith(\".csv\"):\n",
    "            curr_df = pd.read_csv(filename, index_col = 0).dropna()\n",
    "            curr_df.index = pd.to_datetime(curr_df.index)\n",
    "            curr_df = curr_df[curr_df.index.time >= dt.time(9,30)]\n",
    "            spx_intraday_dfs.append(curr_df)\n",
    "        else:\n",
    "            continue\n",
    "    return pd.concat(spx_intraday_dfs)\n",
    "\n",
    "def monthly_spx_options(curr_date):\n",
    "    spx_options_dir = 'D:\\\\Options Data\\\\SPX'\n",
    "    os.chdir(spx_options_dir)\n",
    "    spx_calls_dfs = []\n",
    "    spx_puts_dfs = []\n",
    "    curr_spx_options_files = list(filter(lambda x: curr_date.strftime(\"%Y-%m\") in x, os.listdir('.')))\n",
    "    keep_columns = ['Strike','Expiry','Type','Symbol','Last','Bid','Ask','IV','Underlying_Price']\n",
    "    for filename in curr_spx_options_files:\n",
    "        if filename.endswith(\".csv\"):\n",
    "            curr_options = pd.read_csv(filename, index_col = 0).set_index('Quote_Time')[keep_columns]\n",
    "            curr_options.index = pd.to_datetime(curr_options.index) - dt.timedelta(hours = 4)\n",
    "            curr_options.index = curr_options.index.map(lambda x: x.replace(second=0))\n",
    "            curr_options['Expiry'] = pd.to_datetime(curr_options.Expiry)\n",
    "            curr_options['DTE'] = (curr_options.Expiry - curr_options.index).dt.days + 1\n",
    "            curr_options['Mid'] = (curr_options['Ask'] + curr_options['Bid'])/2\n",
    "            greeks = all_greeks(curr_options, interest_rate = 0.023869, q = 0, year = 252)\n",
    "            greeks.index = pd.to_datetime(curr_options.index)\n",
    "            puts = greeks[greeks.Type == 'put']\n",
    "            calls = greeks[greeks.Type == 'call']\n",
    "            spx_calls_dfs.append(calls)\n",
    "            spx_puts_dfs.append(puts)\n",
    "        else:\n",
    "            continue\n",
    "    puts = pd.concat(spx_puts_dfs)\n",
    "    calls = pd.concat(spx_calls_dfs)\n",
    "    return puts, calls"
   ]
  },
  {
   "cell_type": "code",
   "execution_count": 3,
   "metadata": {},
   "outputs": [
    {
     "name": "stdout",
     "output_type": "stream",
     "text": [
      "2019-01-01 00:00:00\n"
     ]
    }
   ],
   "source": [
    "date_range = [dt.datetime(2019, 1, 1)]\n",
    "\n",
    "for curr_date in date_range:\n",
    "    os.chdir(cleaned_dir)\n",
    "    latest_month = curr_date.month\n",
    "    db_name = 'sqlite:///intraday_{0}-{1}.db'.format(curr_date.year,latest_month)\n",
    "    \n",
    "    options_engine = create_engine(db_name, echo=False)\n",
    "    \n",
    "    spx_intraday = monthly_spx_intraday_prices(curr_date)\n",
    "    puts, calls = monthly_spx_options(curr_date)\n",
    "    \n",
    "    puts.to_sql('spx_puts', con=options_engine, if_exists='append', index_label = 'quoteTime')\n",
    "    calls.to_sql('spx_calls', con=options_engine, if_exists='append', index_label = 'quoteTime')\n",
    "    spx_intraday.to_sql('spx_prices', con=options_engine, if_exists='append')\n",
    "    print(curr_date)"
   ]
  },
  {
   "cell_type": "code",
   "execution_count": 4,
   "metadata": {
    "collapsed": true
   },
   "outputs": [],
   "source": [
    "spx_ticker = '^GSPC'\n",
    "spx = yahoo_query(spx_ticker, dt.datetime(2018,1,1))\n",
    "spx.hist_prices_query()\n",
    "spx = spx.hist_prices \n",
    "spx.columns = [col.replace('^', '') for col in spx.columns.tolist()]\n",
    "\n",
    "vix_ticker = '^VIX'\n",
    "vix = yahoo_query(vix_ticker, dt.datetime(2018,1,1))\n",
    "vix.hist_prices_query()\n",
    "vix = vix.hist_prices \n",
    "vix.columns = [col.replace('^', '') for col in vix.columns.tolist()]\n",
    "\n",
    "df = spx[['GSPC_open','GSPC_close']].join(vix[['VIX_open']])\n",
    "df['LB'] = df['GSPC_open']*(1 - df['VIX_open']/(100*np.sqrt(252)))\n",
    "df['UB'] = df['GSPC_open']*(1 + df['VIX_open']/(100*np.sqrt(252)))"
   ]
  },
  {
   "cell_type": "code",
   "execution_count": 83,
   "metadata": {
    "collapsed": true
   },
   "outputs": [],
   "source": [
    "spx_options_dir = 'D:\\\\Options Data\\\\SPX'\n",
    "os.chdir(spx_options_dir)\n",
    "spx_calls_dfs = []\n",
    "spx_puts_dfs = []\n",
    "curr_spx_options_files = os.listdir('.')\n",
    "\n",
    "\n",
    "keep_columns = ['Strike','Expiry','Type','Symbol','Last','Bid','Ask','IV','Underlying_Price']\n",
    "\n",
    "dates = []\n",
    "\n",
    "bod_put_credits = []\n",
    "bod_call_credits = []\n",
    "\n",
    "eod_put_credits = []\n",
    "eod_call_credits = []\n",
    "\n",
    "for curr_date, row in df.iterrows():\n",
    "    curr_date_string = curr_date.strftime(\"%Y-%m-%d\")\n",
    "    curr_filename_bod = 'spx_{}-06-35.csv'.format(curr_date_string)\n",
    "    curr_filename_eod = 'spx_{}-13-00.csv'.format(curr_date_string)\n",
    "    \n",
    "    try:\n",
    "        curr_options_bod = pd.read_csv(curr_filename_bod, index_col = 0).set_index('Quote_Time')[keep_columns]\n",
    "        curr_options_bod.index = pd.to_datetime(curr_options_bod.index) - dt.timedelta(hours = 4)\n",
    "        curr_options_bod.index = curr_options_bod.index.map(lambda x: x.replace(second=0))\n",
    "        curr_options_bod['Expiry'] = pd.to_datetime(curr_options_bod.Expiry)\n",
    "        curr_options_bod['DTE'] = (curr_options_bod.Expiry - curr_options_bod.index).dt.days + 1\n",
    "        curr_options_bod['Mid'] = (curr_options_bod['Ask'] + curr_options_bod['Bid'])/2\n",
    "\n",
    "        curr_options_bod = curr_options_bod[curr_options_bod.DTE == curr_options_bod.sort_values('DTE').iloc[0,9]]\n",
    "\n",
    "        put_spread_bod = curr_options_bod[(curr_options_bod.Type == 'put') & \n",
    "                                      (curr_options_bod.Strike <= row.LB)].sort_values('Strike').tail(2)\n",
    "        call_spread_bod = curr_options_bod[(curr_options_bod.Type == 'call') & \n",
    "                                       (curr_options_bod.Strike >= row.UB)].sort_values('Strike').head(2)\n",
    "\n",
    "        put_credit_bod = put_spread_bod.Mid.diff().values[-1]\n",
    "        call_credit_bod = abs(call_spread_bod.Mid.diff()).values[-1]\n",
    "\n",
    "        curr_options_eod = pd.read_csv(curr_filename_eod, index_col = 0).set_index('Quote_Time')[keep_columns]\n",
    "        curr_options_eod.index = pd.to_datetime(curr_options_eod.index) - dt.timedelta(hours = 4)\n",
    "        curr_options_eod.index = curr_options_eod.index.map(lambda x: x.replace(second=0))\n",
    "        curr_options_eod['Expiry'] = pd.to_datetime(curr_options_eod.Expiry)\n",
    "        curr_options_eod['DTE'] = (curr_options_eod.Expiry - curr_options_eod.index).dt.days + 1\n",
    "        curr_options_eod['Mid'] = (curr_options_eod['Ask'] + curr_options_eod['Bid'])/2\n",
    "\n",
    "        put_credit_eod = curr_options_eod[curr_options_eod.Symbol.isin(put_spread_bod.Symbol.tolist())].iloc[1,10] - curr_options_eod[curr_options_eod.Symbol.isin(put_spread_bod.Symbol.tolist())].iloc[0,10]\n",
    "        call_credit_eod = curr_options_eod[curr_options_eod.Symbol.isin(call_spread_bod.Symbol.tolist())].iloc[0,10] - curr_options_eod[curr_options_eod.Symbol.isin(call_spread_bod.Symbol.tolist())].iloc[1,10]\n",
    "\n",
    "        dates.append(curr_date)\n",
    "        bod_put_credits.append(put_credit_bod)\n",
    "        bod_call_credits.append(call_credit_bod)\n",
    "        eod_put_credits.append(put_credit_eod)\n",
    "        eod_call_credits.append(call_credit_eod)\n",
    "    except:\n",
    "        continue"
   ]
  },
  {
   "cell_type": "code",
   "execution_count": 84,
   "metadata": {
    "collapsed": true
   },
   "outputs": [],
   "source": [
    "pd.DataFrame({'bod_puts':bod_put_credits,\n",
    "              'bod_calls':bod_call_credits,\n",
    "              'eod_puts':eod_put_credits,\n",
    "              'eod_calls':eod_call_credits}, index = dates).to_csv('spreads.csv')"
   ]
  },
  {
   "cell_type": "code",
   "execution_count": 10,
   "metadata": {
    "collapsed": true
   },
   "outputs": [],
   "source": [
    "n = norm.pdf\n",
    "N = norm.cdf\n",
    "\n",
    "def bs_price(cp_flag,S,K,T,r,v,q=0.0):\n",
    "    d1 = (np.log(S/K)+(r+v*v/2.)*T)/(v*np.sqrt(T))\n",
    "    d2 = d1-v*np.sqrt(T)\n",
    "    if cp_flag == 'c':\n",
    "        price = S*np.exp(-q*T)*N(d1)-K*np.exp(-r*T)*N(d2)\n",
    "    else:\n",
    "        price = K*np.exp(-r*T)*N(-d2)-S*np.exp(-q*T)*N(-d1)\n",
    "    return price\n",
    "\n",
    "def bs_vega(cp_flag,S,K,T,r,v,q=0.0):\n",
    "    d1 = (np.log(S/K)+(r+v*v/2.)*T)/(v*np.sqrt(T))\n",
    "    return S * np.sqrt(T)*n(d1)\n",
    "\n",
    "def find_vol(target_value, call_put, S, K, T, r):\n",
    "    MAX_ITERATIONS = 100\n",
    "    PRECISION = 1.0e-5\n",
    "\n",
    "    sigma = 0.5\n",
    "    for i in range(0, MAX_ITERATIONS):\n",
    "        price = bs_price(call_put, S, K, T, r, sigma)\n",
    "        vega = bs_vega(call_put, S, K, T, r, sigma)\n",
    "\n",
    "        price = price\n",
    "        diff = target_value - price  # our root\n",
    "\n",
    "        print( i, sigma, diff)\n",
    "\n",
    "        if (abs(diff) < PRECISION):\n",
    "            return sigma\n",
    "        sigma = sigma + diff/vega # f(x) / f'(x)\n",
    "\n",
    "    # value wasn't found, return best guess so far\n",
    "    return sigma"
   ]
  },
  {
   "cell_type": "code",
   "execution_count": 14,
   "metadata": {},
   "outputs": [
    {
     "name": "stdout",
     "output_type": "stream",
     "text": [
      "0 0.5 -101.446281803\n",
      "1 0.0154940910886 0.0709204380282\n",
      "2 0.0158335052139 -4.9839602525e-06\n"
     ]
    },
    {
     "data": {
      "text/plain": [
       "0.015833505213926888"
      ]
     },
     "execution_count": 14,
     "metadata": {},
     "output_type": "execute_result"
    }
   ],
   "source": [
    "find_vol(3, 'c', 2664.34, 2665, 0.038888889, 0.00000604)"
   ]
  },
  {
   "cell_type": "code",
   "execution_count": 123,
   "metadata": {},
   "outputs": [
    {
     "name": "stdout",
     "output_type": "stream",
     "text": [
      "2018-07-30\n"
     ]
    }
   ],
   "source": [
    "os.chdir(cleaned_dir)\n",
    "vix_intraday = pd.read_csv('vix_intraday.csv', index_col = 0)\n",
    "\n",
    "vix_intraday.columns = ['Quote_Time', 'VIX', 'Date']\n",
    "del vix_intraday['Date']\n",
    "vix_intraday.Quote_Time = pd.to_datetime(vix_intraday.Quote_Time)\n",
    "vix_intraday = vix_intraday.sort_values('Quote_Time')\n",
    "\n",
    "curr_day = dt.datetime(2018,7,30)\n",
    "while curr_day < dt.datetime.today():\n",
    "    \n",
    "    curr_date_string = curr_day.strftime(\"%Y-%m-%d\")\n",
    "    \n",
    "    os.chdir(spx_options_dir)\n",
    "    spx_options_filenames = list(filter(lambda x: curr_date_string in x, os.listdir('.')))\n",
    "    if spx_options_filenames != []:\n",
    "        print(curr_date_string)\n",
    "    break\n",
    "    curr_day = curr_day + dt.timedelta(days = 1)"
   ]
  },
  {
   "cell_type": "code",
   "execution_count": 124,
   "metadata": {
    "collapsed": true
   },
   "outputs": [],
   "source": [
    "curr_date_string = curr_day.strftime(\"%Y-%m-%d\")\n",
    "os.chdir(spx_options_dir)\n",
    "spx_options_filenames = list(filter(lambda x: curr_date_string in x, os.listdir('.')))\n",
    "\n",
    "spx_options = []\n",
    "\n",
    "if spx_options_filenames != []:\n",
    "    for file in spx_options_filenames:\n",
    "        curr_options = pd.read_csv(file, index_col = 0)\n",
    "        curr_options.Expiry = pd.to_datetime(curr_options.Expiry)\n",
    "        curr_options.Quote_Time = pd.to_datetime(curr_options.Quote_Time).map(lambda x: x.replace(second=0))\n",
    "        \n",
    "        if file.split('.')[0][-5:] == '06-30':\n",
    "            quote_open_time = curr_options.Quote_Time[0]\n",
    "            time_adj = quote_open_time - dt.datetime(quote_open_time.year, quote_open_time.month, quote_open_time.day, 9, 30)\n",
    "        \n",
    "        curr_options.Quote_Time = curr_options.Quote_Time - time_adj\n",
    "        \n",
    "        curr_options['DTE'] = (curr_options.Expiry - curr_options.Quote_Time).dt.days + 1\n",
    "        \n",
    "        curr_options.Expiry = curr_options.Expiry + dt.timedelta(seconds = 60*60*16 + 1)\n",
    "        curr_options = curr_options[curr_options['DTE'] <= 1].reset_index(drop = True)\n",
    "        curr_options['TradeDate'] = curr_options.Quote_Time.dt.date\n",
    "        \n",
    "        del curr_options['Chg'], curr_options['PctChg'], curr_options['Last_Trade_Date']\n",
    "        if len(curr_options) != 0:\n",
    "            spx_options.append(curr_options)\n",
    "            \n",
    "spx_options = pd.concat(spx_options, axis = 0).reset_index(drop = True)\n",
    "keep_contracts = spx_options[['TradeDate','Symbol']].groupby('Symbol').count().sort_values('TradeDate')\n",
    "spx_options = spx_options[spx_options.Symbol.isin(keep_contracts[keep_contracts.TradeDate >= 79].index)].reset_index(drop = True)\n",
    "spx_options = spx_options.sort_values('Quote_Time').reset_index(drop = True)"
   ]
  },
  {
   "cell_type": "code",
   "execution_count": 130,
   "metadata": {},
   "outputs": [
    {
     "data": {
      "text/plain": [
       "Index(['Strike', 'Expiry', 'Type', 'Symbol', 'Last', 'Bid', 'Ask', 'Vol',\n",
       "       'Open_Int', 'IV', 'Root', 'Underlying_Price', 'Quote_Time', 'DTE',\n",
       "       'TradeDate'],\n",
       "      dtype='object')"
      ]
     },
     "execution_count": 130,
     "metadata": {},
     "output_type": "execute_result"
    }
   ],
   "source": []
  },
  {
   "cell_type": "code",
   "execution_count": null,
   "metadata": {
    "collapsed": true
   },
   "outputs": [],
   "source": []
  },
  {
   "cell_type": "code",
   "execution_count": null,
   "metadata": {
    "collapsed": true
   },
   "outputs": [],
   "source": []
  },
  {
   "cell_type": "code",
   "execution_count": null,
   "metadata": {
    "collapsed": true
   },
   "outputs": [],
   "source": []
  }
 ],
 "metadata": {
  "kernelspec": {
   "display_name": "Python 3",
   "language": "python",
   "name": "python3"
  },
  "language_info": {
   "codemirror_mode": {
    "name": "ipython",
    "version": 3
   },
   "file_extension": ".py",
   "mimetype": "text/x-python",
   "name": "python",
   "nbconvert_exporter": "python",
   "pygments_lexer": "ipython3",
   "version": "3.6.1"
  }
 },
 "nbformat": 4,
 "nbformat_minor": 2
}
