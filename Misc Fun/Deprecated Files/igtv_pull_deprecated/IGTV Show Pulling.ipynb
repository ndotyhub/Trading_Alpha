{
 "cells": [
  {
   "cell_type": "code",
   "execution_count": 8,
   "metadata": {
    "collapsed": true
   },
   "outputs": [],
   "source": [
    "import os\n",
    "import pandas as pd\n",
    "import datetime as dt\n",
    "import requests\n",
    "from bs4 import BeautifulSoup as bs\n",
    "import json\n",
    "import datetime as dt\n",
    "import time\n",
    "\n",
    "from selenium import webdriver\n",
    "from selenium.common.exceptions import TimeoutException\n",
    "    "
   ]
  },
  {
   "cell_type": "code",
   "execution_count": 113,
   "metadata": {},
   "outputs": [],
   "source": [
    "##################### DO NOT TOUCH THIS FUNCTION LIBERALLY ###########################\n",
    "\n",
    "def pull_igtv(show_alias, use_case = 'show_title'):\n",
    "    \n",
    "    if use_case == 'selenium':\n",
    "        soup = bs(show_alias, 'lxml')\n",
    "    \n",
    "    if use_case == 'specific_url':\n",
    "        soup = bs(requests.get(show_alias).text, 'lxml')\n",
    "        \n",
    "    else:\n",
    "        ## Site URL initialization\n",
    "        site = 'https://www.instagram.com/{0}/channel/?hl=en'.format(show_alias)\n",
    "\n",
    "        ## Requesting HTML content and storing in soup instance\n",
    "        soup = bs(requests.get(site).text, 'lxml')\n",
    "\n",
    "    ## Pulling overview of show, i.e., number of posts, followers, and following\n",
    "    show_overview_info_metas = [str(meta) for meta in soup.find_all('meta')]\n",
    "    filtered_metas = list(filter(lambda meta: 'Follow' in meta, show_overview_info_metas))[0].split('\"')[1].split(' - ')[0]\n",
    "    show_overview_summary = filtered_metas\n",
    "\n",
    "    ## Extracting json element containing all post info\n",
    "    raw_dict_string = str(soup.find_all('body')[0].find('script')).split('_sharedData = ')[1].replace(';</script>','')\n",
    "    raw_json = json.loads(raw_dict_string)\n",
    "    main_dict = raw_json['entry_data']['ProfilePage'][0]['graphql']['user']['edge_felix_video_timeline']\n",
    "    \n",
    "    ## Extracting number of posts from igtv show\n",
    "    igtv_post_count = main_dict['count']\n",
    "    \n",
    "    ## Creating show data summary data frame by iterating\n",
    "    ## over all posts and extracting necessary information\n",
    "    igtv_dict = {'product_type':[],\n",
    "                 'title':[],\n",
    "                 'id':[],\n",
    "                 'shortcode': [],\n",
    "                 'owner_id': [],\n",
    "                 'owner_username': [],\n",
    "                 'snapshot_date_unix': [],\n",
    "                 'video_duration_seconds': [],\n",
    "                 'count_of_comments': [],\n",
    "                 'number_of_likes': [],\n",
    "                 'video_view_count': [],\n",
    "                 'created_at': []}\n",
    "\n",
    "    for n in main_dict['edges']:\n",
    "        node = n['node']\n",
    "        igtv_dict['product_type'].append(node['product_type'])\n",
    "        igtv_dict['title'].append(node['title'])\n",
    "        igtv_dict['id'].append(node['id'])\n",
    "        igtv_dict['shortcode'].append(node['shortcode'])\n",
    "        igtv_dict['owner_id'].append(node['owner']['id'])\n",
    "        igtv_dict['owner_username'].append(node['owner']['username'])\n",
    "        igtv_dict['snapshot_date_unix'].append(node['taken_at_timestamp'])\n",
    "        igtv_dict['video_duration_seconds'].append(node['video_duration'])\n",
    "        igtv_dict['count_of_comments'].append(node['edge_media_to_comment']['count'])\n",
    "        igtv_dict['number_of_likes'].append(node['edge_liked_by']['count'])\n",
    "        igtv_dict['video_view_count'].append(node['video_view_count'])\n",
    "        igtv_dict['created_at'].append(node['created_at'])\n",
    "\n",
    "    show_data_df = pd.DataFrame(igtv_dict)\n",
    "    \n",
    "    show_data_df['igtv_post_count'] = igtv_post_count\n",
    "    show_data_df['show_overview_summary'] = show_overview_summary\n",
    "    \n",
    "    return show_data_df"
   ]
  },
  {
   "cell_type": "code",
   "execution_count": 4,
   "metadata": {},
   "outputs": [
    {
     "name": "stdout",
     "output_type": "stream",
     "text": [
      "Current Show: fallontonight --- Completed 0.0%\n",
      "Current Show: agt --- Completed 20.0%\n",
      "Current Show: nbcsongland --- Completed 40.0%\n",
      "Current Show: ninjawarrior --- Completed 60.0%\n",
      "Current Show: nbcbluffcitylaw --- Completed 80.0%\n",
      "Completed 80.0%\n"
     ]
    }
   ],
   "source": [
    "##################### ADD SHOW NAMES TO LIST HERE #########################\n",
    "\n",
    "show_aliases = ['fallontonight', 'agt', 'nbcsongland', 'ninjawarrior', 'nbcbluffcitylaw', 'nbcbringthefunny', \n",
    "                'nbccouncilofdads', 'nbcindebted', 'nbclincoln','nbcperfectharmony','nbcsongland','nbcsunnyside','nbctheinbetween',\n",
    "               'nbckenanshow','zoeysplaylist','nbcsnl','nbcbrooklyn99','nbcworldofdance','fallontonight',\n",
    "               'nbcthisisus','nbcthegoodplace','nbcsvu','latenightseth','nbcsuperstore','ninjawarrior']\n",
    "\n",
    "#################### LOOP TO CREATE DATAFRAME OF ALL DATA ##############################\n",
    "\n",
    "all_shows_df = []\n",
    "\n",
    "for i, show in enumerate(show_aliases):\n",
    "    curr_show_data_df = pull_igtv(show, use_selenium = False)\n",
    "    all_shows_df.append(curr_show_data_df)\n",
    "    print(\"Current Show: {0} --- Completed {1}%\".format(show, round(i/len(show_aliases)*100,2)))\n",
    "    time.sleep(30)\n",
    "\n",
    "print(\"Completed 100%\")\n",
    "\n",
    "all_shows_df = pd.concat(all_shows_df, axis = 0).reset_index(drop = True)\n",
    "\n",
    "currdate = dt.datetime.today().strftime('%Y-%m-%d')\n",
    "\n",
    "################### SAVE TO CSV ############################\n",
    "all_shows_df.to_csv('igtv_extract_{}.csv'.format(currdate))"
   ]
  },
  {
   "cell_type": "markdown",
   "metadata": {},
   "source": [
    "## Dictionary codes for personal reference"
   ]
  },
  {
   "cell_type": "markdown",
   "metadata": {},
   "source": [
    "product_type - product_type <br>\n",
    "title - title <br>\n",
    "id - id <br>\n",
    "shortcode - shortcode <br>\n",
    "owner - id <br>\n",
    "owner - username <br>\n",
    "taken_at_timestamp - unix time <br>\n",
    "video_duration - in seconds <br>\n",
    "edge_media_to_comment -- comments count <br>\n",
    "edge_liked_by -- number of likes <br>\n",
    "video_view_count - video_view_count <br>\n",
    "\n"
   ]
  },
  {
   "cell_type": "code",
   "execution_count": 102,
   "metadata": {
    "collapsed": true
   },
   "outputs": [],
   "source": [
    "def get_main_html_source(show_alias):\n",
    "\n",
    "    site = 'https://www.instagram.com/{0}/channel/?hl=en'.format(show_alias)\n",
    "    \n",
    "    browser = webdriver.Chrome(executable_path=r\"C:\\Users\\Fang\\Desktop\\Python Trading\\Trading\\chromedriver.exe\")\n",
    "\n",
    "    browser.get(site)\n",
    "\n",
    "    source_list = []\n",
    "\n",
    "    source_list.append(browser.page_source)\n",
    "\n",
    "    SCROLL_PAUSE_TIME = 0.5\n",
    "\n",
    "    # Get scroll height\n",
    "    last_height = browser.execute_script(\"return document.body.scrollHeight\")\n",
    "\n",
    "    while True:\n",
    "\n",
    "        curr_page_source = browser.page_source\n",
    "        source_list.append(curr_page_source)\n",
    "\n",
    "        # Scroll down to bottom\n",
    "        browser.execute_script(\"window.scrollTo(0, document.body.scrollHeight);\")\n",
    "\n",
    "        # Wait to load page\n",
    "        time.sleep(SCROLL_PAUSE_TIME)\n",
    "\n",
    "        # Calculate new scroll height and compare with last scroll height\n",
    "        new_height = browser.execute_script(\"return document.body.scrollHeight\")\n",
    "        if new_height == last_height:\n",
    "            break\n",
    "        last_height = new_height\n",
    "\n",
    "    browser.quit()\n",
    "    \n",
    "    return source_list"
   ]
  },
  {
   "cell_type": "code",
   "execution_count": 98,
   "metadata": {
    "collapsed": true
   },
   "outputs": [],
   "source": [
    "def ig_pull_init_function(source):\n",
    "    curr_post_divs = bs(source, 'lxml').find('main').find_all(\"a\")\n",
    "\n",
    "    post_init_info = {'post_title': [],\n",
    "                      'post_url': []}\n",
    "\n",
    "    for a in curr_post_divs:\n",
    "        href = a['href'] \n",
    "        text = a.text \n",
    "        if '/tv/' in href:\n",
    "            post_init_info['post_url'].append('https://www.instagram.com{}'.format(href))\n",
    "            post_init_info['post_title'].append(text)\n",
    "\n",
    "    return pd.DataFrame(post_init_info)\n",
    "    \n",
    "    "
   ]
  },
  {
   "cell_type": "code",
   "execution_count": 168,
   "metadata": {
    "collapsed": true
   },
   "outputs": [],
   "source": [
    "def get_post_info(curr_url):\n",
    "\n",
    "    curr_post = bs(requests.get(curr_url).text, 'lxml')\n",
    "\n",
    "    curr_post_json = json.loads(curr_post.find('script', type = 'application/ld+json').text.strip())\n",
    "\n",
    "    alternate_name = curr_post_json['author']['alternateName']\n",
    "    commentCount = curr_post_json['commentCount']\n",
    "    \n",
    "    try:\n",
    "        caption = curr_post_json['caption']\n",
    "    except:\n",
    "        caption = ''\n",
    "        \n",
    "    likes = curr_post_json['description'].split(' Likes, ')[0].replace(',', '')\n",
    "    views = curr_post_json['interactionStatistic']['userInteractionCount']\n",
    "    uploadDate = curr_post_json['uploadDate']\n",
    "\n",
    "    curr_post_df = pd.DataFrame({'alternate_name': alternate_name,\n",
    "                                 'commentCount': commentCount,\n",
    "                                 'caption': caption,\n",
    "                                 'likes': likes,\n",
    "                                 'views': views,\n",
    "                                 'uploadDate': uploadDate}, index = [0])\n",
    "    return curr_post_df"
   ]
  },
  {
   "cell_type": "code",
   "execution_count": 172,
   "metadata": {},
   "outputs": [],
   "source": [
    "def get_show_info(show_alias):\n",
    "\n",
    "    source_list = get_main_html_source(show_alias)\n",
    "\n",
    "    source_post_links_df = pd.concat([ig_pull_init_function(source) for source in source_list], axis = 0).drop_duplicates().reset_index(drop = True)\n",
    "\n",
    "    show_df = []\n",
    "\n",
    "    for idx, row in source_post_links_df.iterrows():\n",
    "        post_title = row['post_title'].split(':')\n",
    "        duration = '{0}:{1}'.format(post_title[0], post_title[1][:2])\n",
    "        title = post_title[1][2:]\n",
    "\n",
    "        curr_url = row['post_url']\n",
    "\n",
    "        curr_post_df = get_post_info(curr_url)\n",
    "\n",
    "        curr_post_df['duration'] = duration\n",
    "        curr_post_df['title'] = title\n",
    "\n",
    "        show_df.append(curr_post_df)\n",
    "\n",
    "        print(\"Current Show: {0} --- Completed {1}%\".format(title, round(i/len(show_aliases)*100,2)))\n",
    "        time.sleep(5)\n",
    "\n",
    "    show_df = pd.concat(show_df, axis = 0).reset_index(drop = True)\n",
    "    \n",
    "    return show_df"
   ]
  },
  {
   "cell_type": "code",
   "execution_count": 169,
   "metadata": {},
   "outputs": [],
   "source": []
  },
  {
   "cell_type": "code",
   "execution_count": null,
   "metadata": {},
   "outputs": [],
   "source": []
  },
  {
   "cell_type": "code",
   "execution_count": null,
   "metadata": {},
   "outputs": [],
   "source": []
  },
  {
   "attachments": {},
   "cell_type": "markdown",
   "metadata": {
    "collapsed": true
   },
   "source": [
    "author[alternateName] - alternate name \n",
    "commentCount - number of comments\n",
    "caption - caption\n",
    "description - description\n",
    "interactionStatistic[userInteractionCount] - views\n",
    "uploadDate\n",
    "\n"
   ]
  },
  {
   "cell_type": "code",
   "execution_count": null,
   "metadata": {},
   "outputs": [],
   "source": []
  },
  {
   "cell_type": "code",
   "execution_count": null,
   "metadata": {
    "collapsed": true
   },
   "outputs": [],
   "source": []
  }
 ],
 "metadata": {
  "kernelspec": {
   "display_name": "Python 3",
   "language": "python",
   "name": "python3"
  },
  "language_info": {
   "codemirror_mode": {
    "name": "ipython",
    "version": 3
   },
   "file_extension": ".py",
   "mimetype": "text/x-python",
   "name": "python",
   "nbconvert_exporter": "python",
   "pygments_lexer": "ipython3",
   "version": "3.6.8"
  }
 },
 "nbformat": 4,
 "nbformat_minor": 2
}
