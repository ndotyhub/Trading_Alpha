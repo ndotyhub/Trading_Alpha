{
 "cells": [
  {
   "cell_type": "code",
   "execution_count": 1,
   "metadata": {
    "collapsed": true
   },
   "outputs": [],
   "source": [
    "#%%\n",
    "import time\n",
    "import sys\n",
    "import os\n",
    "import pandas as pd\n",
    "import datetime as dt\n",
    "import numpy as np\n",
    "cwd = os.getcwd()\n",
    "\n",
    "import igtv_helpers\n",
    "import igtv_show"
   ]
  },
  {
   "cell_type": "code",
   "execution_count": 2,
   "metadata": {
    "collapsed": true
   },
   "outputs": [],
   "source": [
    "def igtv_main():\n",
    "    ig_handles = pd.read_csv('shows_list.csv')['ig_handle']\n",
    "    \n",
    "    shows = [igtv_show.igtv_show(ig_handle) for ig_handle in ig_handles]\n",
    "    \n",
    "    log_df = pd.DataFrame(columns = ['PullStatus','NumberOfPosts'],\n",
    "                          index = ig_handles)\n",
    "    \n",
    "    n = len(shows)\n",
    "    \n",
    "    print('\\n')\n",
    "    print('Pulling IGTV Show Summaries')\n",
    "    print('\\n')\n",
    "    print('##################################################')\n",
    "    print('\\n')\n",
    "    start_time_full = time.time()\n",
    "    \n",
    "    for i, show in enumerate(shows):\n",
    "        \n",
    "        try:\n",
    "            show.get_show_info()\n",
    "            show.get_show_posts()\n",
    "            \n",
    "            log_df.loc[show.ig_handle, 'PullStatus'] = 'Completed'\n",
    "            log_df.loc[show.ig_handle, 'NumberOfPosts'] = len(show.posts)\n",
    "        except:\n",
    "            log_df.loc[show.ig_handle, 'PullStatus'] = 'Failed'\n",
    "            \n",
    "        sys.stdout.write('\\r')\n",
    "        j = (i + 1) / n\n",
    "        sys.stdout.write(\"[%-20s] %d%%\" % ('='*int(20*j), 100*j) + ' Getting Show Summaries')\n",
    "        sys.stdout.flush()\n",
    "        time.sleep(1.5)\n",
    "    \n",
    "    print('\\n')\n",
    "    print('Show Summaries Completed in {} seconds'.format(time.time() - start_time_full))\n",
    "    \n",
    "    show_engagement_summaries = pd.concat([show.summary_engagements for show in shows], axis = 0)\n",
    "    all_show_posts = pd.concat([show.posts for show in shows], axis = 0).reset_index(drop = True)\n",
    "    \n",
    "    all_show_posts['views'] = np.nan\n",
    "    all_show_posts['comment_count'] = np.nan\n",
    "    all_show_posts['likes'] = np.nan\n",
    "    all_show_posts['caption'] = np.nan\n",
    "    all_show_posts['upload_date'] = np.nan\n",
    "    \n",
    "    print('\\n')\n",
    "    print('Pulling IGTV Post Details')\n",
    "    print('\\n')\n",
    "    print('##################################################')\n",
    "    print('\\n')\n",
    "    start_time_posts = time.time()\n",
    "    \n",
    "    n = len(all_show_posts)\n",
    "    \n",
    "    for idx, row in all_show_posts.iterrows():\n",
    "        curr_post_details = igtv_helpers.get_post_details(row.url, row.ig_handle, row.igtv_code)\n",
    "        \n",
    "        all_show_posts.loc[idx, 'views'] = curr_post_details.loc[0, 'views']\n",
    "        all_show_posts.loc[idx, 'comment_count'] = curr_post_details.loc[0, 'comment_count']\n",
    "        all_show_posts.loc[idx, 'likes'] = curr_post_details.loc[0, 'likes']\n",
    "        all_show_posts.loc[idx, 'caption'] = curr_post_details.loc[0, 'caption']\n",
    "        all_show_posts.loc[idx, 'upload_date'] = curr_post_details.loc[0, 'upload_date']\n",
    "        \n",
    "        sys.stdout.write('\\r')\n",
    "        j = (idx + 1) / n\n",
    "        sys.stdout.write(\"[%-20s] %d%%\" % ('='*int(20*j), 100*j) + ' Getting Post Data')\n",
    "        sys.stdout.flush()\n",
    "        time.sleep(1.5)\n",
    "    \n",
    "    print('\\n')\n",
    "    print('Post Data Pull Completed in {} seconds'.format(time.time() - start_time_posts))\n",
    "    \n",
    "    \n",
    "    currdate = dt.datetime.today().strftime('%Y-%m-%d')\n",
    "    \n",
    "    log_filename = cwd + '\\\\Logs\\\\igtv_extract_log_{}.csv'.format(currdate)\n",
    "    show_sums_filename = cwd + '\\\\Outputs\\\\igtv_extract_show_summaries_{}.csv'.format(currdate)\n",
    "    show_posts_filename = cwd + '\\\\Outputs\\\\igtv_extract_show_posts_{}.csv'.format(currdate)\n",
    "    \n",
    "    log_df.to_csv(log_filename)\n",
    "    show_engagement_summaries.to_csv(show_sums_filename)\n",
    "    all_show_posts.to_csv(show_posts_filename)\n",
    "    \n",
    "    print('\\n')\n",
    "    print('##################################################')\n",
    "    print('\\n')\n",
    "    print('Full Data Extraction Completed in {} seconds'.format(time.time() - start_time_full))"
   ]
  },
  {
   "cell_type": "code",
   "execution_count": 3,
   "metadata": {},
   "outputs": [
    {
     "name": "stdout",
     "output_type": "stream",
     "text": [
      "\n",
      "\n",
      "Pulling IGTV Show Summaries\n",
      "\n",
      "\n",
      "##################################################\n",
      "\n",
      "\n",
      "[====================] 100% Getting Show Summaries\n",
      "\n",
      "Show Summaries Completed in 252.75331091880798 seconds\n",
      "\n",
      "\n",
      "Pulling IGTV Post Details\n",
      "\n",
      "\n",
      "##################################################\n",
      "\n",
      "\n",
      "[====================] 100% Getting Post Data\n",
      "\n",
      "Post Data Pull Completed in 628.4760754108429 seconds\n",
      "\n",
      "\n",
      "##################################################\n",
      "\n",
      "\n",
      "Full Data Extraction Completed in 881.2449111938477 seconds\n"
     ]
    }
   ],
   "source": [
    "igtv_main()"
   ]
  },
  {
   "cell_type": "code",
   "execution_count": null,
   "metadata": {},
   "outputs": [],
   "source": []
  },
  {
   "cell_type": "code",
   "execution_count": null,
   "metadata": {
    "collapsed": true
   },
   "outputs": [],
   "source": []
  }
 ],
 "metadata": {
  "kernelspec": {
   "display_name": "Python 3",
   "language": "python",
   "name": "python3"
  },
  "language_info": {
   "codemirror_mode": {
    "name": "ipython",
    "version": 3
   },
   "file_extension": ".py",
   "mimetype": "text/x-python",
   "name": "python",
   "nbconvert_exporter": "python",
   "pygments_lexer": "ipython3",
   "version": "3.6.8"
  }
 },
 "nbformat": 4,
 "nbformat_minor": 2
}
