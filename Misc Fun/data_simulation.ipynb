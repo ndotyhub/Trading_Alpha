{
 "cells": [
  {
   "cell_type": "code",
   "execution_count": 3,
   "metadata": {
    "collapsed": true
   },
   "outputs": [],
   "source": [
    "import pandas as pd\n",
    "import numpy as np\n",
    "import datetime as dt\n",
    "from bs4 import BeautifulSoup as bs\n",
    "import requests"
   ]
  },
  {
   "cell_type": "code",
   "execution_count": 5,
   "metadata": {
    "scrolled": true
   },
   "outputs": [],
   "source": [
    "## Getting all US postal codes\n",
    "zip_codes = bs(requests.get('https://www.phaster.com/zip_code.html').text, 'lxml').find('table')\n",
    "zip_codes = pd.read_html(str(zip_codes), header = 0)[0]\n",
    "zip_codes.columns = ['State','City','ZIP']\n",
    "\n",
    "zip_codes_corrections = zip_codes[zip_codes.ZIP.str.contains('thru')]\n",
    "#zip_codes[zip_codes.ZIP.str.len() > 16]\n",
    "zip_codes = zip_codes[zip_codes.ZIP.str.contains('thru') == False]\n",
    "\n",
    "corrections_dict = {'State': [],\n",
    "                    'ZIP': []}\n",
    "\n",
    "for idx, row in zip_codes_corrections.iterrows():\n",
    "    curr_zips = row.ZIP.split(u'\\xa0')\n",
    "    \n",
    "    for ziprange in curr_zips:\n",
    "        if 'thru' in ziprange:\n",
    "            curr_range = ziprange.split(' thru ')\n",
    "            for i in range(int(curr_range[0]), int(curr_range[1]) + 1):\n",
    "                corrections_dict['State'].append(row.State)\n",
    "                corrections_dict['ZIP'].append(str(i).zfill(5))\n",
    "        else:\n",
    "            for i in ziprange.split(' - '):\n",
    "                corrections_dict['State'].append(row.State)\n",
    "                corrections_dict['ZIP'].append(i.zfill(5))\n",
    "                \n",
    "zip_codes_corrections = pd.DataFrame(corrections_dict)\n",
    "\n",
    "zips_dict = {'State': [],\n",
    "             'ZIP': []}\n",
    "\n",
    "for idx, row in zip_codes.iterrows():\n",
    "    curr_zips = row.ZIP.split(u'\\xa0')\n",
    "    \n",
    "    for ziprange in curr_zips:\n",
    "        for i in ziprange.split('-'):\n",
    "            zips_dict['State'].append(row.State)\n",
    "            zips_dict['ZIP'].append(i.strip(' ').zfill(5))\n",
    "zip_codes = pd.DataFrame(zips_dict)\n",
    "\n",
    "zip_codes = pd.concat([zip_codes, zip_codes_corrections], axis = 0).reset_index(drop = True)"
   ]
  },
  {
   "cell_type": "code",
   "execution_count": 26,
   "metadata": {},
   "outputs": [],
   "source": [
    "## Generating Random Customers\n",
    "\n",
    "customers = zip_codes.sample(10000, replace = True).reset_index(drop = True)\n",
    "customers['Model'] = np.random.choice(10, 10000, \n",
    "                                      p = [0.5, 0.25, 0.1, 0.05, 0.02, 0.02, 0.02, 0.02, 0.01, 0.01])\n",
    "customers['cid'] = customers.index\n",
    "customers['State'] = customers.State.str.split('(').apply(lambda x: x[1]).str.replace(')','')"
   ]
  },
  {
   "cell_type": "code",
   "execution_count": 27,
   "metadata": {
    "collapsed": true
   },
   "outputs": [],
   "source": [
    "## Generating random datetimes\n",
    "def random_dates(start, end, n=10):\n",
    "\n",
    "    start_u = start.value//10**9\n",
    "    end_u = end.value//10**9\n",
    "\n",
    "    return pd.to_datetime(np.random.randint(start_u, end_u, n), unit='s')\n"
   ]
  },
  {
   "cell_type": "code",
   "execution_count": 28,
   "metadata": {},
   "outputs": [],
   "source": [
    "## Generating fake calls\n",
    "start = pd.to_datetime('2018-01-01')\n",
    "end = pd.to_datetime('2019-01-01')\n",
    "random_dates(start, end, 1000000)\n",
    "\n",
    "simulations = 10000000\n",
    "calls = customers.sample(simulations, replace = True)\n",
    "\n",
    "calls['Issue'] = np.random.choice(2, simulations, p = [0.8, 0.2])\n",
    "calls = calls[calls.Issue == 1].reset_index(drop = True)\n",
    "calls['CallDate'] = random_dates(start, end, len(calls))"
   ]
  },
  {
   "cell_type": "code",
   "execution_count": 29,
   "metadata": {
    "collapsed": true
   },
   "outputs": [],
   "source": [
    "# calls.to_csv('calls_sim.csv')\n",
    "# customers.to_csv('cids.csv')"
   ]
  },
  {
   "cell_type": "code",
   "execution_count": null,
   "metadata": {},
   "outputs": [],
   "source": []
  },
  {
   "cell_type": "code",
   "execution_count": null,
   "metadata": {
    "collapsed": true
   },
   "outputs": [],
   "source": []
  }
 ],
 "metadata": {
  "kernelspec": {
   "display_name": "Python 3",
   "language": "python",
   "name": "python3"
  },
  "language_info": {
   "codemirror_mode": {
    "name": "ipython",
    "version": 3
   },
   "file_extension": ".py",
   "mimetype": "text/x-python",
   "name": "python",
   "nbconvert_exporter": "python",
   "pygments_lexer": "ipython3",
   "version": "3.6.8"
  }
 },
 "nbformat": 4,
 "nbformat_minor": 2
}
