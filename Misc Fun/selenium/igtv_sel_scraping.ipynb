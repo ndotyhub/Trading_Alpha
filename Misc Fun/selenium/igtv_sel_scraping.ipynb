{
 "cells": [
  {
   "cell_type": "code",
   "execution_count": 86,
   "metadata": {
    "collapsed": true
   },
   "outputs": [],
   "source": [
    "#%%\n",
    "# https://selenium-python.readthedocs.io/api.html\n",
    "\n",
    "# https://www.w3schools.com/python/python_regex.asp\n",
    "    \n",
    "# https://www.techbeamers.com/selenium-webdriver-waits-python/\n",
    "\n",
    "# https://stackoverflow.com/questions/55400703/how-to-scroll-down-in-youtube-using-selenium\n",
    "#\n",
    "import pip\n",
    "import time\n",
    "import os\n",
    "import pandas as pd\n",
    "import datetime as dt\n",
    "import requests\n",
    "import json\n",
    "import numpy as np\n",
    "from selenium.webdriver.common.keys import Keys\n",
    "from operator import itemgetter \n",
    "import re\n",
    "from selenium.webdriver.common.by import By\n",
    "from selenium.webdriver.support.ui import WebDriverWait\n",
    "from selenium.webdriver.support import expected_conditions as EC\n",
    "from selenium.webdriver import ActionChains\n",
    "from operator import itemgetter \n",
    "import sys\n",
    "from IPython.display import clear_output\n",
    "%matplotlib inline\n",
    "\n",
    "def update_progress(progress, desc_string):\n",
    "    bar_length = 60\n",
    "    \n",
    "    if isinstance(progress, int):\n",
    "        progress = float(progress)\n",
    "    if not isinstance(progress, float):\n",
    "        progress = 0\n",
    "    if progress < 0:\n",
    "        progress = 0\n",
    "    if progress >= 1:\n",
    "        progress = 1\n",
    "\n",
    "    block = int(round(bar_length * progress))\n",
    "\n",
    "    clear_output(wait = True)\n",
    "    text = \"Progress: [{0}] {1:.1f}% Elapsed Run Time: {2}\".format( \"#\" * block + \"-\" * (bar_length - block), \n",
    "                                                                   progress * 100,\n",
    "                                                                   desc_string)\n",
    "    print(text)\n",
    "\n",
    "try:\n",
    "    from bs4 import BeautifulSoup as bs\n",
    "except ImportError:\n",
    "    pip.main(['install', 'bs4'])\n",
    "    from bs4 import BeautifulSoup as bs\n",
    "    \n",
    "try:\n",
    "    from selenium import webdriver\n",
    "    from selenium.common.exceptions import TimeoutException\n",
    "except ImportError:\n",
    "    pip.main(['install', 'selenium'])\n",
    "    from selenium import webdriver\n",
    "    from selenium.common.exceptions import TimeoutException\n",
    "\n",
    "from selenium import webdriver\n",
    "chrome_dir = os.getcwd()\n",
    "\n",
    "options = webdriver.ChromeOptions()\n",
    "options.add_argument(\"--start-maximized\")\n",
    "\n",
    "##################### ADD SHOW NAMES TO LIST HERE #########################\n",
    "\n",
    "show_aliases = pd.read_csv('shows_list.csv')"
   ]
  },
  {
   "cell_type": "code",
   "execution_count": 177,
   "metadata": {
    "collapsed": true
   },
   "outputs": [],
   "source": [
    "# Function for getting posts information\n",
    "\n",
    "def get_post_df(browser, posts, code_sleep_time = 0.1):\n",
    "\n",
    "    post_df = pd.DataFrame(columns = ['title','vid_length','approx_views','approx_comments','vid_url'])\n",
    "    \n",
    "    failed_posts = pd.DataFrame(columns = ['title','vid_url'])\n",
    "    \n",
    "    start_time = time.time()\n",
    "\n",
    "    for i, post in enumerate(posts):\n",
    "        try:\n",
    "            actions = ActionChains(browser)\n",
    "            title = post.find_element_by_class_name('pu1E0').text\n",
    "            vid_length = post.find_element_by_class_name('zncDM').text\n",
    "\n",
    "            actions.move_to_element(post).perform()\n",
    "            browser.implicitly_wait(15)\n",
    "            time.sleep(code_sleep_time)\n",
    "            eng_elements = post.find_elements_by_tag_name('li')\n",
    "\n",
    "            for element in eng_elements:\n",
    "                el_val, el_class = element.find_elements_by_tag_name('span')\n",
    "\n",
    "                el_val = el_val.text\n",
    "                el_class = el_class.get_attribute('class')\n",
    "\n",
    "                if 'Play' in el_class:\n",
    "                    approx_views = el_val\n",
    "                elif 'Speech' in el_class:\n",
    "                    approx_comments = el_val\n",
    "                else:\n",
    "                    approx_views = np.nan\n",
    "                    approx_comments = np.nan\n",
    "\n",
    "            vid_url = post.get_attribute('href')\n",
    "\n",
    "            curr_row = pd.DataFrame({'title': title,\n",
    "                                     'vid_length': vid_length,\n",
    "                                     'approx_views': approx_views,\n",
    "                                     'approx_comments': approx_comments,\n",
    "                                     'vid_url': vid_url},\n",
    "                                    index = [i])[['title','vid_length','approx_views','approx_comments','vid_url']]\n",
    "\n",
    "            post_df = post_df.append(curr_row)\n",
    "            actions.move_by_offset(-post.size['width']/2 - 1,-post.size['height']/2 - 1).perform()\n",
    "        except:\n",
    "            title = post.find_element_by_class_name('pu1E0').text\n",
    "            vid_url = post.get_attribute('href')\n",
    "            curr_failed_row = pd.DataFrame({'title': title,\n",
    "                                            'vid_url': vid_url},\n",
    "                                           index = [i])\n",
    "            failed_posts = failed_posts.append(curr_failed_row)\n",
    "        \n",
    "        browser.implicitly_wait(15)\n",
    "        time.sleep(code_sleep_time)\n",
    "        run_time = round(time.time() - start_time, 2)\n",
    "\n",
    "        update_progress((i + 1)/len(posts), '{0} Seconds {1} '.format(run_time, '{0}'.format(title)))\n",
    "    \n",
    "    return post_df, failed_posts"
   ]
  },
  {
   "cell_type": "code",
   "execution_count": 179,
   "metadata": {},
   "outputs": [
    {
     "data": {
      "text/plain": [
       "'nbcsnl'"
      ]
     },
     "execution_count": 179,
     "metadata": {},
     "output_type": "execute_result"
    }
   ],
   "source": [
    "show = show_aliases.iloc[15,0]\n",
    "show"
   ]
  },
  {
   "cell_type": "code",
   "execution_count": 182,
   "metadata": {},
   "outputs": [
    {
     "name": "stdout",
     "output_type": "stream",
     "text": [
      "Progress: [############################################################] 100.0% Elapsed Run Time: 37.79 Seconds Creating SNL: Hair and Makeup \n"
     ]
    },
    {
     "ename": "TypeError",
     "evalue": "'WebElement' object is not iterable",
     "output_type": "error",
     "traceback": [
      "\u001b[1;31m---------------------------------------------------------------------------\u001b[0m",
      "\u001b[1;31mTypeError\u001b[0m                                 Traceback (most recent call last)",
      "\u001b[1;32m<ipython-input-182-ca01ed8df4ad>\u001b[0m in \u001b[0;36m<module>\u001b[1;34m()\u001b[0m\n\u001b[0;32m     25\u001b[0m     \u001b[1;32mif\u001b[0m \u001b[0mindices_check\u001b[0m \u001b[1;33m!=\u001b[0m \u001b[1;33m[\u001b[0m\u001b[1;33m]\u001b[0m\u001b[1;33m:\u001b[0m\u001b[1;33m\u001b[0m\u001b[1;33m\u001b[0m\u001b[0m\n\u001b[0;32m     26\u001b[0m         \u001b[0mcurr_posts\u001b[0m \u001b[1;33m=\u001b[0m \u001b[0mitemgetter\u001b[0m\u001b[1;33m(\u001b[0m\u001b[1;33m*\u001b[0m\u001b[0mindices_check\u001b[0m\u001b[1;33m)\u001b[0m\u001b[1;33m(\u001b[0m\u001b[0mcurr_posts\u001b[0m\u001b[1;33m)\u001b[0m\u001b[1;33m\u001b[0m\u001b[1;33m\u001b[0m\u001b[0m\n\u001b[1;32m---> 27\u001b[1;33m         \u001b[0mcurr_df\u001b[0m\u001b[1;33m,\u001b[0m \u001b[0mcurr_failed_posts\u001b[0m \u001b[1;33m=\u001b[0m \u001b[0mget_post_df\u001b[0m\u001b[1;33m(\u001b[0m\u001b[0mbrowser\u001b[0m\u001b[1;33m,\u001b[0m \u001b[0mcurr_posts\u001b[0m\u001b[1;33m)\u001b[0m\u001b[1;33m\u001b[0m\u001b[1;33m\u001b[0m\u001b[0m\n\u001b[0m\u001b[0;32m     28\u001b[0m         \u001b[0mpost_df\u001b[0m \u001b[1;33m=\u001b[0m \u001b[0mpost_df\u001b[0m\u001b[1;33m.\u001b[0m\u001b[0mappend\u001b[0m\u001b[1;33m(\u001b[0m\u001b[0mcurr_df\u001b[0m\u001b[1;33m)\u001b[0m\u001b[1;33m\u001b[0m\u001b[1;33m\u001b[0m\u001b[0m\n\u001b[0;32m     29\u001b[0m         \u001b[0mfailed_posts\u001b[0m \u001b[1;33m=\u001b[0m \u001b[0mfailed_posts\u001b[0m\u001b[1;33m.\u001b[0m\u001b[0mappend\u001b[0m\u001b[1;33m(\u001b[0m\u001b[0mcurr_failed_posts\u001b[0m\u001b[1;33m)\u001b[0m\u001b[1;33m\u001b[0m\u001b[1;33m\u001b[0m\u001b[0m\n",
      "\u001b[1;32m<ipython-input-177-f4696797fe15>\u001b[0m in \u001b[0;36mget_post_df\u001b[1;34m(browser, posts, code_sleep_time)\u001b[0m\n\u001b[0;32m      9\u001b[0m     \u001b[0mstart_time\u001b[0m \u001b[1;33m=\u001b[0m \u001b[0mtime\u001b[0m\u001b[1;33m.\u001b[0m\u001b[0mtime\u001b[0m\u001b[1;33m(\u001b[0m\u001b[1;33m)\u001b[0m\u001b[1;33m\u001b[0m\u001b[1;33m\u001b[0m\u001b[0m\n\u001b[0;32m     10\u001b[0m \u001b[1;33m\u001b[0m\u001b[0m\n\u001b[1;32m---> 11\u001b[1;33m     \u001b[1;32mfor\u001b[0m \u001b[0mi\u001b[0m\u001b[1;33m,\u001b[0m \u001b[0mpost\u001b[0m \u001b[1;32min\u001b[0m \u001b[0menumerate\u001b[0m\u001b[1;33m(\u001b[0m\u001b[0mposts\u001b[0m\u001b[1;33m)\u001b[0m\u001b[1;33m:\u001b[0m\u001b[1;33m\u001b[0m\u001b[1;33m\u001b[0m\u001b[0m\n\u001b[0m\u001b[0;32m     12\u001b[0m         \u001b[1;32mtry\u001b[0m\u001b[1;33m:\u001b[0m\u001b[1;33m\u001b[0m\u001b[1;33m\u001b[0m\u001b[0m\n\u001b[0;32m     13\u001b[0m             \u001b[0mactions\u001b[0m \u001b[1;33m=\u001b[0m \u001b[0mActionChains\u001b[0m\u001b[1;33m(\u001b[0m\u001b[0mbrowser\u001b[0m\u001b[1;33m)\u001b[0m\u001b[1;33m\u001b[0m\u001b[1;33m\u001b[0m\u001b[0m\n",
      "\u001b[1;31mTypeError\u001b[0m: 'WebElement' object is not iterable"
     ]
    }
   ],
   "source": [
    "site = 'https://www.instagram.com/{show_alias}/channel/?hl=en'.format(show_alias = show)\n",
    "\n",
    "browser = webdriver.Chrome(executable_path = chrome_dir + \"\\\\chromedriver.exe\", options=options)\n",
    "\n",
    "browser.get(site)\n",
    "\n",
    "browser.delete_all_cookies()\n",
    "\n",
    "posts = browser.find_elements_by_class_name('_bz0w')\n",
    "\n",
    "post_df, failed_posts = get_post_df(browser, posts)\n",
    "\n",
    "browser.implicitly_wait(30)\n",
    "time.sleep(10)\n",
    "\n",
    "while True:\n",
    "    curr_posts = browser.find_elements_by_class_name('_bz0w')\n",
    "    indices_check = pd.DataFrame(list(filter(lambda x: x != None, [p.get_attribute('href') for p in curr_posts])), \n",
    "                                 columns = ['url']).merge(post_df[['vid_url']],\n",
    "                                                          how = 'left',\n",
    "                                                          left_on = ['url'],\n",
    "                                                          right_on = 'vid_url')\n",
    "    indices_check = indices_check[indices_check.vid_url.isnull()].index.tolist()\n",
    "\n",
    "    if indices_check != []:\n",
    "        \n",
    "        curr_df, curr_failed_posts = get_post_df(browser, curr_posts)\n",
    "        post_df = post_df.append(curr_df)\n",
    "        failed_posts = failed_posts.append(curr_failed_posts)\n",
    "        browser.implicitly_wait(15)\n",
    "        time.sleep(code_sleep_time)\n",
    "    else:\n",
    "        break\n",
    "\n"
   ]
  },
  {
   "cell_type": "code",
   "execution_count": 186,
   "metadata": {},
   "outputs": [],
   "source": [
    "curr_posts = browser.find_elements_by_class_name('_bz0w')\n",
    "indices_check = pd.DataFrame(list(filter(lambda x: x != None, [p.get_attribute('href') for p in curr_posts])), \n",
    "                             columns = ['url']).merge(post_df[['vid_url']],\n",
    "                                                      how = 'left',\n",
    "                                                      left_on = ['url'],\n",
    "                                                      right_on = 'vid_url')\n",
    "indices_check = indices_check[indices_check.vid_url.isnull()].index.tolist()"
   ]
  },
  {
   "cell_type": "code",
   "execution_count": 195,
   "metadata": {},
   "outputs": [
    {
     "data": {
      "text/plain": [
       "[(0,\n",
       "  <selenium.webdriver.remote.webelement.WebElement (session=\"39a4ab1468c84a1df71416280f176473\", element=\"d3e2d8e4-f1c8-4c84-b845-58f4eb2f470a\")>)]"
      ]
     },
     "execution_count": 195,
     "metadata": {},
     "output_type": "execute_result"
    }
   ],
   "source": [
    "list(enumerate([curr_posts]))"
   ]
  },
  {
   "cell_type": "code",
   "execution_count": 172,
   "metadata": {
    "scrolled": true
   },
   "outputs": [],
   "source": [
    "os.chdir('scraped_data')\n",
    "\n",
    "post_df.reset_index(drop = True).to_csv('{show_alias}.csv'.format(show_alias = show))\n",
    "\n",
    "os.chdir(chrome_dir)\n",
    "\n",
    "browser.close()"
   ]
  },
  {
   "cell_type": "code",
   "execution_count": 178,
   "metadata": {
    "scrolled": true
   },
   "outputs": [
    {
     "data": {
      "text/html": [
       "<div>\n",
       "<style>\n",
       "    .dataframe thead tr:only-child th {\n",
       "        text-align: right;\n",
       "    }\n",
       "\n",
       "    .dataframe thead th {\n",
       "        text-align: left;\n",
       "    }\n",
       "\n",
       "    .dataframe tbody tr th {\n",
       "        vertical-align: top;\n",
       "    }\n",
       "</style>\n",
       "<table border=\"1\" class=\"dataframe\">\n",
       "  <thead>\n",
       "    <tr style=\"text-align: right;\">\n",
       "      <th></th>\n",
       "      <th>ig_handle</th>\n",
       "    </tr>\n",
       "  </thead>\n",
       "  <tbody>\n",
       "    <tr>\n",
       "      <th>0</th>\n",
       "      <td>fallontonight</td>\n",
       "    </tr>\n",
       "    <tr>\n",
       "      <th>1</th>\n",
       "      <td>agt</td>\n",
       "    </tr>\n",
       "    <tr>\n",
       "      <th>2</th>\n",
       "      <td>nbcsongland</td>\n",
       "    </tr>\n",
       "    <tr>\n",
       "      <th>3</th>\n",
       "      <td>ninjawarrior</td>\n",
       "    </tr>\n",
       "    <tr>\n",
       "      <th>4</th>\n",
       "      <td>nbcbluffcitylaw</td>\n",
       "    </tr>\n",
       "    <tr>\n",
       "      <th>5</th>\n",
       "      <td>nbcbringthefunny</td>\n",
       "    </tr>\n",
       "    <tr>\n",
       "      <th>6</th>\n",
       "      <td>nbccouncilofdads</td>\n",
       "    </tr>\n",
       "    <tr>\n",
       "      <th>7</th>\n",
       "      <td>nbcindebted</td>\n",
       "    </tr>\n",
       "    <tr>\n",
       "      <th>8</th>\n",
       "      <td>nbclincoln</td>\n",
       "    </tr>\n",
       "    <tr>\n",
       "      <th>9</th>\n",
       "      <td>nbcperfectharmony</td>\n",
       "    </tr>\n",
       "    <tr>\n",
       "      <th>10</th>\n",
       "      <td>nbcsongland</td>\n",
       "    </tr>\n",
       "    <tr>\n",
       "      <th>11</th>\n",
       "      <td>nbcsunnyside</td>\n",
       "    </tr>\n",
       "    <tr>\n",
       "      <th>12</th>\n",
       "      <td>nbctheinbetween</td>\n",
       "    </tr>\n",
       "    <tr>\n",
       "      <th>13</th>\n",
       "      <td>nbckenanshow</td>\n",
       "    </tr>\n",
       "    <tr>\n",
       "      <th>14</th>\n",
       "      <td>zoeysplaylist</td>\n",
       "    </tr>\n",
       "    <tr>\n",
       "      <th>15</th>\n",
       "      <td>nbcsnl</td>\n",
       "    </tr>\n",
       "    <tr>\n",
       "      <th>16</th>\n",
       "      <td>nbcbrooklyn99</td>\n",
       "    </tr>\n",
       "    <tr>\n",
       "      <th>17</th>\n",
       "      <td>nbcworldofdance</td>\n",
       "    </tr>\n",
       "    <tr>\n",
       "      <th>18</th>\n",
       "      <td>nbcthisisus</td>\n",
       "    </tr>\n",
       "    <tr>\n",
       "      <th>19</th>\n",
       "      <td>nbcthegoodplace</td>\n",
       "    </tr>\n",
       "    <tr>\n",
       "      <th>20</th>\n",
       "      <td>nbcsvu</td>\n",
       "    </tr>\n",
       "    <tr>\n",
       "      <th>21</th>\n",
       "      <td>latenightseth</td>\n",
       "    </tr>\n",
       "    <tr>\n",
       "      <th>22</th>\n",
       "      <td>nbcsuperstore</td>\n",
       "    </tr>\n",
       "  </tbody>\n",
       "</table>\n",
       "</div>"
      ],
      "text/plain": [
       "            ig_handle\n",
       "0       fallontonight\n",
       "1                 agt\n",
       "2         nbcsongland\n",
       "3        ninjawarrior\n",
       "4     nbcbluffcitylaw\n",
       "5    nbcbringthefunny\n",
       "6    nbccouncilofdads\n",
       "7         nbcindebted\n",
       "8          nbclincoln\n",
       "9   nbcperfectharmony\n",
       "10        nbcsongland\n",
       "11       nbcsunnyside\n",
       "12    nbctheinbetween\n",
       "13       nbckenanshow\n",
       "14      zoeysplaylist\n",
       "15             nbcsnl\n",
       "16      nbcbrooklyn99\n",
       "17    nbcworldofdance\n",
       "18        nbcthisisus\n",
       "19    nbcthegoodplace\n",
       "20             nbcsvu\n",
       "21      latenightseth\n",
       "22      nbcsuperstore"
      ]
     },
     "execution_count": 178,
     "metadata": {},
     "output_type": "execute_result"
    }
   ],
   "source": [
    "show_aliases"
   ]
  },
  {
   "cell_type": "code",
   "execution_count": null,
   "metadata": {
    "scrolled": false
   },
   "outputs": [],
   "source": []
  },
  {
   "cell_type": "code",
   "execution_count": null,
   "metadata": {
    "scrolled": true
   },
   "outputs": [],
   "source": []
  },
  {
   "cell_type": "code",
   "execution_count": null,
   "metadata": {},
   "outputs": [],
   "source": []
  },
  {
   "cell_type": "code",
   "execution_count": null,
   "metadata": {},
   "outputs": [],
   "source": []
  },
  {
   "cell_type": "code",
   "execution_count": null,
   "metadata": {
    "collapsed": true
   },
   "outputs": [],
   "source": []
  },
  {
   "cell_type": "code",
   "execution_count": null,
   "metadata": {
    "collapsed": true
   },
   "outputs": [],
   "source": []
  }
 ],
 "metadata": {
  "kernelspec": {
   "display_name": "Python 3",
   "language": "python",
   "name": "python3"
  },
  "language_info": {
   "codemirror_mode": {
    "name": "ipython",
    "version": 3
   },
   "file_extension": ".py",
   "mimetype": "text/x-python",
   "name": "python",
   "nbconvert_exporter": "python",
   "pygments_lexer": "ipython3",
   "version": "3.6.8"
  }
 },
 "nbformat": 4,
 "nbformat_minor": 2
}
