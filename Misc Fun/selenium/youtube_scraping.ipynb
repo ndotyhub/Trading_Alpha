{
 "cells": [
  {
   "cell_type": "code",
   "execution_count": 1,
   "metadata": {
    "collapsed": true
   },
   "outputs": [],
   "source": [
    "#%%\n",
    "# https://selenium-python.readthedocs.io/api.html\n",
    "\n",
    "# https://www.w3schools.com/python/python_regex.asp\n",
    "    \n",
    "# https://www.techbeamers.com/selenium-webdriver-waits-python/\n",
    "\n",
    "# https://stackoverflow.com/questions/55400703/how-to-scroll-down-in-youtube-using-selenium\n",
    "#\n",
    "import pip\n",
    "import time\n",
    "import os\n",
    "import pandas as pd\n",
    "import datetime as dt\n",
    "import requests\n",
    "import json\n",
    "import numpy as np\n",
    "from selenium.webdriver.common.keys import Keys\n",
    "from operator import itemgetter \n",
    "import re\n",
    "\n",
    "import sys\n",
    "from IPython.display import clear_output\n",
    "%matplotlib inline\n",
    "\n",
    "def update_progress(progress, date_str):\n",
    "    bar_length = 60\n",
    "    \n",
    "    if isinstance(progress, int):\n",
    "        progress = float(progress)\n",
    "    if not isinstance(progress, float):\n",
    "        progress = 0\n",
    "    if progress < 0:\n",
    "        progress = 0\n",
    "    if progress >= 1:\n",
    "        progress = 1\n",
    "\n",
    "    block = int(round(bar_length * progress))\n",
    "\n",
    "    clear_output(wait = True)\n",
    "    text = \"Progress: [{0}] {1:.1f}% Elapsed Run Time: {2}\".format( \"#\" * block + \"-\" * (bar_length - block), \n",
    "                                                      progress * 100,\n",
    "                                                      date_str)\n",
    "    print(text)\n",
    "\n",
    "try:\n",
    "    from bs4 import BeautifulSoup as bs\n",
    "except ImportError:\n",
    "    pip.main(['install', 'bs4'])\n",
    "    from bs4 import BeautifulSoup as bs\n",
    "    \n",
    "try:\n",
    "    from selenium import webdriver\n",
    "    from selenium.common.exceptions import TimeoutException\n",
    "except ImportError:\n",
    "    pip.main(['install', 'selenium'])\n",
    "    from selenium import webdriver\n",
    "    from selenium.common.exceptions import TimeoutException\n",
    "\n",
    "from selenium import webdriver\n",
    "chrome_dir = os.getcwd()\n",
    "\n",
    "options = webdriver.ChromeOptions()\n",
    "options.add_argument(\"--start-maximized\")\n",
    "\n"
   ]
  },
  {
   "cell_type": "code",
   "execution_count": 242,
   "metadata": {},
   "outputs": [
    {
     "name": "stderr",
     "output_type": "stream",
     "text": [
      "C:\\Users\\fc298c\\AppData\\Local\\Continuum\\anaconda3\\lib\\site-packages\\ipykernel_launcher.py:4: DeprecationWarning: use options instead of chrome_options\n",
      "  after removing the cwd from sys.path.\n"
     ]
    }
   ],
   "source": [
    "# Opening Browser\n",
    "aq_query_url = 'https://www.youtube.com/channel/UCdde4i_fVDuGnFC0Q4854NQ/videos'\n",
    "\n",
    "browser = webdriver.Chrome(executable_path = chrome_dir + \"\\\\chromedriver.exe\", chrome_options=options)\n",
    "\n",
    "browser.get(aq_query_url)\n",
    "\n",
    "browser.delete_all_cookies()"
   ]
  },
  {
   "cell_type": "code",
   "execution_count": 243,
   "metadata": {
    "collapsed": true
   },
   "outputs": [],
   "source": [
    "#SCROLL_PAUSE_TIME = 0.5\n",
    "\n",
    "channel_details = browser.find_element_by_xpath(\"//div[@id='channel-header-container']\")\n",
    "channel_title = channel_details.find_element_by_id('channel-name').text\n",
    "subscriber_count = channel_details.find_element_by_id('subscriber-count').text\n",
    "\n",
    "vids_lst = browser.find_elements_by_xpath(\"//a[@id='video-title']\")\n",
    "\n",
    "# Get scroll height\n",
    "\n",
    "while True:\n",
    "    height = browser.execute_script(\"return document.body.scrollHeight\")\n",
    "    browser.find_element_by_tag_name('body').send_keys(Keys.END)\n",
    "    browser.implicitly_wait(30)\n",
    "    time.sleep(1)\n",
    "    curr_vids_lst = browser.find_elements_by_xpath(\"//a[@id='video-title']\")\n",
    "    \n",
    "    # Get list of videos\n",
    "    if vids_lst[-1].text != curr_vids_lst[-1].text:\n",
    "        vids_lst += browser.find_elements_by_xpath(\"//a[@id='video-title']\")\n",
    "    else:\n",
    "        break"
   ]
  },
  {
   "cell_type": "code",
   "execution_count": 244,
   "metadata": {},
   "outputs": [
    {
     "name": "stdout",
     "output_type": "stream",
     "text": [
      "Progress: [############################################################] 100.0% Elapsed Run Time: 0.33 Seconds SUNNYSIDE | Official Trailer | NBC Fall Shows 2019 \n"
     ]
    }
   ],
   "source": [
    "yt_df = pd.DataFrame(columns = ['title','post_time','vid_length','views','vid_url'])\n",
    "\n",
    "start_time = time.time()\n",
    "\n",
    "for i, vid in enumerate(vids_lst):\n",
    "    label_lst = vid.get_attribute('aria-label').split(' by ' + channel_title + ' ')\n",
    "    \n",
    "    \n",
    "    title = label_lst[0]\n",
    "    post_time = label_lst[-1].split(' ago ')[0]\n",
    "    vid_length = re.search('.*(minutes |seconds |minute |second )',label_lst[-1].split(' ago ')[-1]).group().strip()\n",
    "    views = int(re.sub(\"{0}|views|,\".format(vid_length), '', label_lst[-1].split(' ago ')[-1]).strip())\n",
    "    vid_url = vid.get_attribute('href')\n",
    "    \n",
    "    curr_row = pd.DataFrame({'title': title,\n",
    "                             'post_time': post_time,\n",
    "                             'vid_length': vid_length,\n",
    "                             'views': views,\n",
    "                             'vid_url': vid_url},\n",
    "                            index = [i])\n",
    "    yt_df = yt_df.append(curr_row)\n",
    "    \n",
    "    \n",
    "    run_time = round(time.time() - start_time, 2)\n",
    "    \n",
    "    update_progress((i + 1)/len(vids_lst), '{0} Seconds {1} '.format(run_time, '{0}'.format(title)))\n",
    "\n",
    "yt_df = yt_df.drop_duplicates().reset_index(drop = True)"
   ]
  },
  {
   "cell_type": "code",
   "execution_count": 250,
   "metadata": {},
   "outputs": [
    {
     "name": "stdout",
     "output_type": "stream",
     "text": [
      "Progress: [############################################################] 100.0% Elapsed Run Time: 54.92 Seconds SUNNYSIDE | Official Trailer | NBC Fall Shows 2019 \n"
     ]
    }
   ],
   "source": [
    "yt_df['likes'] = np.nan\n",
    "yt_df['dislikes'] = np.nan\n",
    "yt_df['post_date'] = np.nan\n",
    "\n",
    "start_time = time.time()\n",
    "\n",
    "for idx, row in yt_df.iterrows():\n",
    "    browser.get(row.vid_url)\n",
    "    browser.delete_all_cookies()\n",
    "    browser.implicitly_wait(30)\n",
    "    time.sleep(1)\n",
    "    \n",
    "    info_bar = browser.find_element_by_class_name('style-scope ytd-video-primary-info-renderer')\n",
    "    engagement = list(filter(lambda x: x != None,\n",
    "                         [tag.get_attribute('aria-label') for tag in info_bar.find_elements_by_tag_name('yt-formatted-string')]))\n",
    "    engagement = list(filter(lambda x: 'like' in x, engagement))\n",
    "    \n",
    "    if engagement[0].split(' ')[0] != 'No':\n",
    "        likes = int(engagement[0].split(' ')[0].replace(',',''))\n",
    "    else:\n",
    "        likes = 0\n",
    "        \n",
    "    if engagement[1].split(' ')[0] != 'No':\n",
    "        dislikes = int(engagement[1].split(' ')[0].replace(',',''))\n",
    "    else:\n",
    "        dislikes = 0\n",
    "    \n",
    "    yt_df.loc[idx, 'post_date'] = dt.datetime.strptime(info_bar.find_element_by_id('date').find_element_by_tag_name('yt-formatted-string').text, '%b %d, %Y')\n",
    "    yt_df.loc[idx, 'likes'] = likes\n",
    "    yt_df.loc[idx, 'dislikes'] = dislikes\n",
    "    \n",
    "    run_time = round(time.time() - start_time, 2)\n",
    "    \n",
    "    update_progress((idx + 1)/len(yt_df), '{0} Seconds {1} '.format(run_time, '{0}'.format(row.title)))\n",
    "    \n",
    "yt_df = yt_df[['title','vid_length','views','post_date','likes','dislikes','vid_url']]\n",
    "yt_df.post_date = pd.to_datetime(yt_df.post_date)"
   ]
  },
  {
   "cell_type": "code",
   "execution_count": null,
   "metadata": {
    "collapsed": true
   },
   "outputs": [],
   "source": []
  },
  {
   "cell_type": "code",
   "execution_count": null,
   "metadata": {
    "collapsed": true
   },
   "outputs": [],
   "source": []
  },
  {
   "cell_type": "code",
   "execution_count": null,
   "metadata": {
    "collapsed": true,
    "scrolled": true
   },
   "outputs": [],
   "source": []
  },
  {
   "cell_type": "code",
   "execution_count": null,
   "metadata": {
    "collapsed": true
   },
   "outputs": [],
   "source": []
  },
  {
   "cell_type": "code",
   "execution_count": null,
   "metadata": {
    "collapsed": true
   },
   "outputs": [],
   "source": []
  }
 ],
 "metadata": {
  "kernelspec": {
   "display_name": "Python 3",
   "language": "python",
   "name": "python3"
  },
  "language_info": {
   "codemirror_mode": {
    "name": "ipython",
    "version": 3
   },
   "file_extension": ".py",
   "mimetype": "text/x-python",
   "name": "python",
   "nbconvert_exporter": "python",
   "pygments_lexer": "ipython3",
   "version": "3.6.8"
  }
 },
 "nbformat": 4,
 "nbformat_minor": 2
}
