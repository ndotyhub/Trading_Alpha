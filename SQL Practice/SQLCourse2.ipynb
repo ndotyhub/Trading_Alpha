{
 "cells": [
  {
   "cell_type": "code",
   "execution_count": 50,
   "metadata": {
    "collapsed": true
   },
   "outputs": [],
   "source": [
    "import pandas as pd\n",
    "import numpy as np\n",
    "from sqlalchemy import *\n",
    "from sqlalchemy import create_engine\n",
    "import sqlite3 as sql\n",
    "from bs4 import BeautifulSoup as bs\n",
    "import requests\n",
    "pd.options.display.float_format = '{:,.4f}'.format\n",
    "\n",
    "engine = create_engine('sqlite:///sqlcourse2.db', echo=False)"
   ]
  },
  {
   "cell_type": "code",
   "execution_count": 45,
   "metadata": {},
   "outputs": [],
   "source": [
    "### taking data\n",
    "items_ordered = bs(requests.get('http://www.sqlcourse2.com/items_ordered.html', 'lxml').text).select('table[border=\"1\"]')[0]\n",
    "customers = bs(requests.get('http://www.sqlcourse2.com/customers.html', 'lxml').text).select('table[border=\"1\"]')[0]\n",
    "\n",
    "def html_to_pandas(table_html):\n",
    "    table_dict = {}\n",
    "    headers = []\n",
    "    for i, row in enumerate(table_html.find_all('tr')):\n",
    "        if i == 0:\n",
    "            for col in row.find_all('th'):\n",
    "                if len(col.text) > 1:\n",
    "                    table_dict[col.text] = []\n",
    "                    headers.append(col.text)\n",
    "        else:\n",
    "            curr_row = row.find_all('td')\n",
    "            if len(curr_row) == 0:\n",
    "                continue\n",
    "            else:\n",
    "                for j, col in enumerate(curr_row):\n",
    "                    table_dict[headers[j]].append(col.text)\n",
    "\n",
    "    return pd.DataFrame(table_dict)\n",
    "\n",
    "items_ordered = html_to_pandas(items_ordered)\n",
    "customers = html_to_pandas(customers)"
   ]
  },
  {
   "cell_type": "code",
   "execution_count": null,
   "metadata": {},
   "outputs": [],
   "source": []
  },
  {
   "cell_type": "code",
   "execution_count": null,
   "metadata": {},
   "outputs": [],
   "source": []
  },
  {
   "cell_type": "code",
   "execution_count": null,
   "metadata": {
    "collapsed": true
   },
   "outputs": [],
   "source": []
  }
 ],
 "metadata": {
  "kernelspec": {
   "display_name": "Python 3",
   "language": "python",
   "name": "python3"
  },
  "language_info": {
   "codemirror_mode": {
    "name": "ipython",
    "version": 3
   },
   "file_extension": ".py",
   "mimetype": "text/x-python",
   "name": "python",
   "nbconvert_exporter": "python",
   "pygments_lexer": "ipython3",
   "version": "3.6.1"
  }
 },
 "nbformat": 4,
 "nbformat_minor": 2
}
