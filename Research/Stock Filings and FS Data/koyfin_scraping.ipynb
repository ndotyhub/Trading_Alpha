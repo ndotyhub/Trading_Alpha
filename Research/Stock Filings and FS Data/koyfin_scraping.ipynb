{
 "cells": [
  {
   "cell_type": "code",
   "execution_count": 1,
   "metadata": {
    "collapsed": true
   },
   "outputs": [],
   "source": [
    "import pip\n",
    "import time\n",
    "import os\n",
    "import numpy as np\n",
    "import pandas as pd\n",
    "import datetime as dt\n",
    "from sqlalchemy import create_engine\n",
    "import re\n",
    "\n",
    "from bs4 import BeautifulSoup as bs\n",
    "from selenium.webdriver.common.keys import Keys\n",
    "from selenium.webdriver.common.by import By\n",
    "from selenium.webdriver.support.ui import WebDriverWait\n",
    "from selenium.webdriver.support import expected_conditions as EC\n",
    "\n",
    "import sys\n",
    "from operator import itemgetter \n",
    "from selenium.webdriver import ActionChains\n",
    "    \n",
    "try:\n",
    "    from selenium import webdriver\n",
    "except ImportError:\n",
    "    pip.main(['install', 'selenium'])\n",
    "    from selenium import webdriver\n",
    "\n",
    "from IPython.display import clear_output\n",
    "pd.options.display.float_format = '{:,.0f}'.format\n",
    "\n",
    "# Progress bar function unrelated to web scraping\n",
    "def update_progress(progress, desc_string):\n",
    "    bar_length = 60\n",
    "    \n",
    "    if isinstance(progress, int):\n",
    "        progress = float(progress)\n",
    "    if not isinstance(progress, float):\n",
    "        progress = 0\n",
    "    if progress < 0:\n",
    "        progress = 0\n",
    "    if progress >= 1:\n",
    "        progress = 1\n",
    "\n",
    "    block = int(round(bar_length * progress))\n",
    "\n",
    "    # clear()\n",
    "    clear_output(wait = True)\n",
    "    text = \"Progress: [{0}] {1:.1f}% Last Post: {2}\".format( \"#\" * block + \"-\" * (bar_length - block), \n",
    "                                                                   progress * 100,\n",
    "                                                                   desc_string)\n",
    "    print(text)\n",
    "\n",
    "\n",
    "chrome_dir = os.getcwd()\n",
    "\n",
    "options = webdriver.ChromeOptions()\n",
    "options.add_argument(\"--start-maximized\")\n"
   ]
  },
  {
   "cell_type": "code",
   "execution_count": 18,
   "metadata": {
    "collapsed": true
   },
   "outputs": [],
   "source": [
    "def koyfin_login(login_user, login_pswd, browser):\n",
    "    \n",
    "    login_site = 'https://www.koyfin.com/login'\n",
    "    \n",
    "    browser.get(login_site)\n",
    "    browser.delete_all_cookies()\n",
    "    \n",
    "    login_email_form = WebDriverWait(browser, 10).until(EC.element_to_be_clickable((By.XPATH, '//input[@type=\"email\"]')))\n",
    "    login_email_form.click()\n",
    "    login_email_form.send_keys(Keys.CONTROL, 'a')\n",
    "    login_email_form.send_keys(login_user)\n",
    "\n",
    "    login_pwd_form = WebDriverWait(browser, 10).until(EC.element_to_be_clickable((By.XPATH, '//input[@type=\"password\"]')))\n",
    "    login_pwd_form.click()\n",
    "    login_pwd_form.send_keys(Keys.CONTROL, 'a')\n",
    "    login_pwd_form.send_keys(login_pswd)\n",
    "\n",
    "    browser.find_element(By.XPATH, '//button[text()=\"Sign In\"]').click()\n",
    "    \n",
    "    return "
   ]
  },
  {
   "cell_type": "code",
   "execution_count": 3,
   "metadata": {
    "collapsed": true
   },
   "outputs": [],
   "source": [
    "login_user = 'roleb92992@ualmail.com'\n",
    "login_pswd = 'GayBear5'"
   ]
  },
  {
   "cell_type": "code",
   "execution_count": 4,
   "metadata": {
    "collapsed": true
   },
   "outputs": [],
   "source": [
    "browser = webdriver.Chrome(executable_path = chrome_dir + \"\\\\chromedriver.exe\", options=options)"
   ]
  },
  {
   "cell_type": "code",
   "execution_count": 30,
   "metadata": {
    "collapsed": true
   },
   "outputs": [],
   "source": [
    "koyfin_login(login_user, login_pswd, browser)"
   ]
  },
  {
   "cell_type": "code",
   "execution_count": 31,
   "metadata": {
    "scrolled": true
   },
   "outputs": [],
   "source": [
    "base_url = 'https://www.koyfin.com/home'\n",
    "\n",
    "browser.get(base_url)"
   ]
  },
  {
   "cell_type": "code",
   "execution_count": 33,
   "metadata": {},
   "outputs": [],
   "source": [
    "instrument_ticker = 'GRUB'\n",
    "\n",
    "summary_selection = {'Graph - Historical Price': 'G',\n",
    "                     'Overview Snapshot': 'S',\n",
    "                     'News Dashboard': 'N',\n",
    "                     'Financial Analysis': 'FA',\n",
    "                     'Consensus Estimates': 'EST',\n",
    "                     'Graph - Performance': 'GM',\n",
    "                     'Graph - Intrady': 'GIP',\n",
    "                     'Historical Table': 'HP'}\n",
    "\n",
    "browser.refresh()\n",
    "instrument_search = WebDriverWait(browser, 10).until(EC.element_to_be_clickable((By.XPATH, '//input[@type=\"text\"]')))\n",
    "instrument_search.click()\n",
    "instrument_search.send_keys(instrument_ticker)\n",
    "instrument_search.send_keys(Keys.ENTER)\n",
    "\n",
    "instrument_search.send_keys(instrument_selection['Financial Analysis'])\n",
    "instrument_search.send_keys(Keys.ENTER)"
   ]
  },
  {
   "cell_type": "code",
   "execution_count": 39,
   "metadata": {},
   "outputs": [],
   "source": [
    "data_table_element = WebDriverWait(browser, \n",
    "                                   10).until(EC.presence_of_element_located((By.XPATH, \n",
    "                                                                             '//div[@class=\"sidebar-main-layout__main___2dkb3\"]')))\n",
    "\n"
   ]
  },
  {
   "cell_type": "code",
   "execution_count": 41,
   "metadata": {},
   "outputs": [
    {
     "data": {
      "text/plain": [
       "\"Reporting Dates\\n4Q 2018\\nDec 31 '18\\n1Q 2019\\nMar 31 '19\\n2Q 2019\\nJun 30 '19\\n3Q 2019\\nSep 30 '19\\n4Q 2019\\nDec 31 '19\\nREVENUE\\nRevenues\\nOther Revenues\\nTotal Revenues\\nOPERATING EXPENSES & INCOME\\nCost of Revenues\\nGross Profit (Loss)\\nSales, General & Admininistrative\\nResearch & Development\\nDepreciation & Amortization\\nOperating Income\\nEBITDA\\nD&A Add Backs\\nEBITDA\\nEARNINGS FROM OPERATIONS\\nInterest & Investment Income\\nInterest Expenses\\nEarnings before Taxes (EBT)\\nIncome Tax Expense\\nNet Income from Continued Ops.\\nNET INCOME\\nEarnings from Discontinued Ops.\\nNet Income to Company\\nMinority Interest in Earnings\\nNet Income\\nPreferred Dividend & Other Adjustments\\nNet Income Available to Common\\nEARNINGS PER SHARE DATA\\nBasic EPS\\nNormalized Basic EPS\\n1,007.3\\n1,098.5\\n1,183.8\\n1,258.6\\n1,312.2\\n-\\n-\\n-\\n-\\n-\\n1,007.3\\n1,098.5\\n1,183.8\\n1,258.6\\n1,312.2\\n536.6\\n611.6\\n682.2\\n740.3\\n790.8\\n470.7\\n486.9\\n501.5\\n518.3\\n521.4\\n287.4\\n323.0\\n359.4\\n386.1\\n406.5\\n-\\n-\\n-\\n-\\n-\\n85.9\\n90.1\\n97.5\\n107.1\\n115.4\\n97.3\\n73.8\\n44.7\\n25.1\\n(0.6)\\n64.1\\n65.7\\n70.0\\n75.8\\n80.9\\n161.5\\n139.5\\n114.7\\n100.9\\n80.4\\n4.0\\n4.1\\n3.5\\n3.5\\n3.9\\n(7.5)\\n(9.4)\\n(14.3)\\n(20.0)\\n(24.4)\\n81.4\\n56.9\\n23.3\\n(0.7)\\n(26.8)\\n3.0\\n2.3\\n(2.5)\\n(4.7)\\n(8.2)\\n78.5\\n54.6\\n25.7\\n4.0\\n(18.6)\""
      ]
     },
     "execution_count": 41,
     "metadata": {},
     "output_type": "execute_result"
    }
   ],
   "source": [
    "data_table_element.text"
   ]
  },
  {
   "cell_type": "code",
   "execution_count": null,
   "metadata": {
    "collapsed": true
   },
   "outputs": [],
   "source": []
  }
 ],
 "metadata": {
  "kernelspec": {
   "display_name": "Python 3",
   "language": "python",
   "name": "python3"
  },
  "language_info": {
   "codemirror_mode": {
    "name": "ipython",
    "version": 3
   },
   "file_extension": ".py",
   "mimetype": "text/x-python",
   "name": "python",
   "nbconvert_exporter": "python",
   "pygments_lexer": "ipython3",
   "version": "3.6.8"
  }
 },
 "nbformat": 4,
 "nbformat_minor": 2
}
