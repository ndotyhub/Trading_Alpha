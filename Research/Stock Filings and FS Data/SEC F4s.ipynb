{
 "cells": [
  {
   "cell_type": "code",
   "execution_count": 30,
   "metadata": {
    "collapsed": true
   },
   "outputs": [],
   "source": [
    "import pandas as pd\n",
    "import numpy as np\n",
    "import datetime as dt\n",
    "import time\n",
    "from bs4 import BeautifulSoup as bs\n",
    "import requests\n",
    "import os\n",
    "from sqlalchemy import *\n",
    "from sqlalchemy import create_engine\n",
    "import calendar\n",
    "import sqlite3 as sql\n",
    "\n",
    "import sys\n",
    "from IPython.display import clear_output\n",
    "%matplotlib inline\n",
    "\n",
    "def update_progress(progress, date_str):\n",
    "    bar_length = 60\n",
    "    \n",
    "    if isinstance(progress, int):\n",
    "        progress = float(progress)\n",
    "    if not isinstance(progress, float):\n",
    "        progress = 0\n",
    "    if progress < 0:\n",
    "        progress = 0\n",
    "    if progress >= 1:\n",
    "        progress = 1\n",
    "\n",
    "    block = int(round(bar_length * progress))\n",
    "\n",
    "    clear_output(wait = True)\n",
    "    text = \"Progress: [{0}] {1:.1f}% Elapsed Run Time: {2}\".format( \"#\" * block + \"-\" * (bar_length - block), \n",
    "                                                      progress * 100,\n",
    "                                                      date_str)\n",
    "    print(text)\n",
    "\n",
    "%matplotlib inline\n",
    "main_dir = os.getcwd()\n",
    "module_dir = 'C:\\\\Users\\\\Fang\\\\Desktop\\\\Python Trading\\\\Trading\\\\Trading\\\\Modules\\\\SEC'\n",
    "db_dir = r'C:\\Users\\Fang\\Desktop\\Python Trading\\Trading\\Data\\DBs'\n",
    "\n",
    "#'''\n",
    "#Transaction Code Transaction\n",
    "#A | Grant, award, or other acquisition of securities from the company (such as an option)\n",
    "#K | Equity swaps and similar hedging transactions\n",
    "#P | Purchase of securities on an exchange or from another person\n",
    "#S | Sale of securities on an exchange or to another person\n",
    "#D | Sale or transfer of securities back to the company\n",
    "#F | Payment of exercise price or tax liability using portion of securities received from the company\n",
    "#M | Exercise or conversion of derivative security received from the company (such as an option)\n",
    "#G | Gift of securities by or to the insider\n",
    "#V | A transaction voluntarily reported on Form 4\n",
    "#J | Other (accompanied by a footnote describing the transaction)\n",
    "#'''\n",
    "\n",
    "txn_codes = \"\"\"A:Grant from company\n",
    "K:Equity Swaps\n",
    "P:Purchase on exchange or from person\n",
    "S:Sale on exchange or to person\n",
    "D:Sale back to company\n",
    "F:Payment of exercise price or tax liability using portion of securities received from the company\n",
    "M:Exercise of derivative from company\n",
    "G:Gift\n",
    "V:Voluntarily transaction\n",
    "J:Other\"\"\".split('\\n')\n",
    "\n",
    "txn_dict = pd.DataFrame([[t.split(':')[0],t.split(':')[1]] for t in txn_codes],\n",
    "                        columns = ['txnCode','txnDesc'])\n",
    "\n",
    "os.chdir(module_dir)\n",
    "import sec_helpers\n",
    "import sec_f4s\n",
    "\n",
    "os.chdir(db_dir)"
   ]
  },
  {
   "cell_type": "code",
   "execution_count": 2,
   "metadata": {
    "collapsed": true
   },
   "outputs": [],
   "source": [
    "sec_engine = create_engine('sqlite:///SEC_F4.db', echo=False)"
   ]
  },
  {
   "cell_type": "code",
   "execution_count": 53,
   "metadata": {},
   "outputs": [
    {
     "name": "stdout",
     "output_type": "stream",
     "text": [
      "Progress: [############################################################] 100.0% Elapsed Run Time: 224.56 seconds for B on 2019-12-10 \n",
      "Completed in 224.56244564056396 seconds\n",
      "2019-Q4\n",
      "Completed in 46770.00966882706 seconds\n"
     ]
    }
   ],
   "source": [
    "start_time = time.time()\n",
    "\n",
    "for year in list(range(2019, 2018, -1)):\n",
    "    for qtr in range(1, 5):\n",
    "        \n",
    "        try:\n",
    "            currF4s = sec_f4s.get_sec_f4s(year,qtr)\n",
    "        except:\n",
    "            continue\n",
    "        \n",
    "        dfs = np.array_split(currF4s, 100)\n",
    "        \n",
    "        if year == 2020 and qtr == 1:\n",
    "            dfs = dfs[10:]\n",
    "        \n",
    "        if year == 2019 and qtr < 3:\n",
    "            continue\n",
    "        \n",
    "        for df in dfs:\n",
    "            curr_txns = sec_helpers.create_insidertxns(df)\n",
    "            curr_txns = curr_txns.merge(txn_dict,\n",
    "                                        how = 'left',\n",
    "                                        left_on = ['txnCode'],\n",
    "                                        right_on = ['txnCode'])\n",
    "            curr_txns.to_sql('InsiderTxns', \n",
    "                             con=sec_engine, \n",
    "                             if_exists='append', \n",
    "                             index_label = 'idx')\n",
    "            print('{0}-Q{1}'.format(year,qtr))\n",
    "            \n",
    "print('Completed in {} seconds'.format(time.time() - start_time))"
   ]
  },
  {
   "cell_type": "code",
   "execution_count": 51,
   "metadata": {
    "scrolled": true
   },
   "outputs": [
    {
     "data": {
      "text/plain": [
       "2019"
      ]
     },
     "execution_count": 51,
     "metadata": {},
     "output_type": "execute_result"
    }
   ],
   "source": []
  },
  {
   "cell_type": "code",
   "execution_count": null,
   "metadata": {
    "collapsed": true,
    "scrolled": true
   },
   "outputs": [],
   "source": []
  },
  {
   "cell_type": "code",
   "execution_count": null,
   "metadata": {
    "collapsed": true
   },
   "outputs": [],
   "source": []
  },
  {
   "cell_type": "code",
   "execution_count": null,
   "metadata": {
    "collapsed": true
   },
   "outputs": [],
   "source": []
  },
  {
   "cell_type": "code",
   "execution_count": null,
   "metadata": {
    "collapsed": true
   },
   "outputs": [],
   "source": []
  }
 ],
 "metadata": {
  "kernelspec": {
   "display_name": "Python 3",
   "language": "python",
   "name": "python3"
  },
  "language_info": {
   "codemirror_mode": {
    "name": "ipython",
    "version": 3
   },
   "file_extension": ".py",
   "mimetype": "text/x-python",
   "name": "python",
   "nbconvert_exporter": "python",
   "pygments_lexer": "ipython3",
   "version": "3.6.8"
  }
 },
 "nbformat": 4,
 "nbformat_minor": 2
}
